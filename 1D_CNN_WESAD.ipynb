{
  "cells": [
    {
      "cell_type": "code",
      "execution_count": null,
      "metadata": {
        "colab": {
          "base_uri": "https://localhost:8080/"
        },
        "id": "HOEi2spalCUJ",
        "outputId": "991ab7b7-1ac7-4c86-bf36-8394e99c264e"
      },
      "outputs": [
        {
          "output_type": "stream",
          "name": "stdout",
          "text": [
            "Mounted at /content/gdrive\n"
          ]
        }
      ],
      "source": [
        "# Connecting to Google drive in order to store the weights of the agents HDF5 files.\n",
        "from google.colab import drive\n",
        "\n",
        "drive.mount('/content/gdrive');"
      ]
    },
    {
      "cell_type": "markdown",
      "metadata": {
        "id": "TkBAK2PSl9XW"
      },
      "source": [
        "## Install Dependencies"
      ]
    },
    {
      "cell_type": "code",
      "execution_count": null,
      "metadata": {
        "colab": {
          "base_uri": "https://localhost:8080/"
        },
        "id": "DaKLXJ8NlDFV",
        "outputId": "97dd2716-f015-4f9c-a511-17da3a1996ae"
      },
      "outputs": [
        {
          "output_type": "stream",
          "name": "stdout",
          "text": [
            "Looking in indexes: https://pypi.org/simple, https://us-python.pkg.dev/colab-wheels/public/simple/\n",
            "Collecting wfdb\n",
            "  Downloading wfdb-4.0.0-py3-none-any.whl (161 kB)\n",
            "\u001b[K     |████████████████████████████████| 161 kB 8.9 MB/s \n",
            "\u001b[?25hCollecting wget\n",
            "  Downloading wget-3.2.zip (10 kB)\n",
            "Requirement already satisfied: tqdm in /usr/local/lib/python3.7/dist-packages (4.64.0)\n",
            "Collecting biosppy\n",
            "  Downloading biosppy-0.8.0.tar.gz (1.5 MB)\n",
            "\u001b[K     |████████████████████████████████| 1.5 MB 49.6 MB/s \n",
            "\u001b[?25hRequirement already satisfied: imbalanced-learn in /usr/local/lib/python3.7/dist-packages (0.8.1)\n",
            "Requirement already satisfied: seaborn in /usr/local/lib/python3.7/dist-packages (0.11.2)\n",
            "Requirement already satisfied: pandas<2.0.0,>=1.0.0 in /usr/local/lib/python3.7/dist-packages (from wfdb) (1.3.5)\n",
            "Requirement already satisfied: SoundFile<0.12.0,>=0.10.0 in /usr/local/lib/python3.7/dist-packages (from wfdb) (0.10.3.post1)\n",
            "Requirement already satisfied: numpy<2.0.0,>=1.10.1 in /usr/local/lib/python3.7/dist-packages (from wfdb) (1.21.6)\n",
            "Requirement already satisfied: scipy<2.0.0,>=1.0.0 in /usr/local/lib/python3.7/dist-packages (from wfdb) (1.4.1)\n",
            "Requirement already satisfied: requests<3.0.0,>=2.8.1 in /usr/local/lib/python3.7/dist-packages (from wfdb) (2.23.0)\n",
            "Requirement already satisfied: matplotlib<4.0.0,>=3.2.2 in /usr/local/lib/python3.7/dist-packages (from wfdb) (3.2.2)\n",
            "Requirement already satisfied: kiwisolver>=1.0.1 in /usr/local/lib/python3.7/dist-packages (from matplotlib<4.0.0,>=3.2.2->wfdb) (1.4.3)\n",
            "Requirement already satisfied: cycler>=0.10 in /usr/local/lib/python3.7/dist-packages (from matplotlib<4.0.0,>=3.2.2->wfdb) (0.11.0)\n",
            "Requirement already satisfied: python-dateutil>=2.1 in /usr/local/lib/python3.7/dist-packages (from matplotlib<4.0.0,>=3.2.2->wfdb) (2.8.2)\n",
            "Requirement already satisfied: pyparsing!=2.0.4,!=2.1.2,!=2.1.6,>=2.0.1 in /usr/local/lib/python3.7/dist-packages (from matplotlib<4.0.0,>=3.2.2->wfdb) (3.0.9)\n",
            "Requirement already satisfied: typing-extensions in /usr/local/lib/python3.7/dist-packages (from kiwisolver>=1.0.1->matplotlib<4.0.0,>=3.2.2->wfdb) (4.1.1)\n",
            "Requirement already satisfied: pytz>=2017.3 in /usr/local/lib/python3.7/dist-packages (from pandas<2.0.0,>=1.0.0->wfdb) (2022.1)\n",
            "Requirement already satisfied: six>=1.5 in /usr/local/lib/python3.7/dist-packages (from python-dateutil>=2.1->matplotlib<4.0.0,>=3.2.2->wfdb) (1.15.0)\n",
            "Requirement already satisfied: urllib3!=1.25.0,!=1.25.1,<1.26,>=1.21.1 in /usr/local/lib/python3.7/dist-packages (from requests<3.0.0,>=2.8.1->wfdb) (1.24.3)\n",
            "Requirement already satisfied: certifi>=2017.4.17 in /usr/local/lib/python3.7/dist-packages (from requests<3.0.0,>=2.8.1->wfdb) (2022.6.15)\n",
            "Requirement already satisfied: chardet<4,>=3.0.2 in /usr/local/lib/python3.7/dist-packages (from requests<3.0.0,>=2.8.1->wfdb) (3.0.4)\n",
            "Requirement already satisfied: idna<3,>=2.5 in /usr/local/lib/python3.7/dist-packages (from requests<3.0.0,>=2.8.1->wfdb) (2.10)\n",
            "Requirement already satisfied: cffi>=1.0 in /usr/local/lib/python3.7/dist-packages (from SoundFile<0.12.0,>=0.10.0->wfdb) (1.15.0)\n",
            "Requirement already satisfied: pycparser in /usr/local/lib/python3.7/dist-packages (from cffi>=1.0->SoundFile<0.12.0,>=0.10.0->wfdb) (2.21)\n",
            "Collecting bidict\n",
            "  Downloading bidict-0.22.0-py3-none-any.whl (36 kB)\n",
            "Requirement already satisfied: h5py in /usr/local/lib/python3.7/dist-packages (from biosppy) (3.1.0)\n",
            "Requirement already satisfied: scikit-learn in /usr/local/lib/python3.7/dist-packages (from biosppy) (1.0.2)\n",
            "Collecting shortuuid\n",
            "  Downloading shortuuid-1.0.9-py3-none-any.whl (9.4 kB)\n",
            "Requirement already satisfied: joblib in /usr/local/lib/python3.7/dist-packages (from biosppy) (1.1.0)\n",
            "Requirement already satisfied: opencv-python in /usr/local/lib/python3.7/dist-packages (from biosppy) (4.1.2.30)\n",
            "Requirement already satisfied: threadpoolctl>=2.0.0 in /usr/local/lib/python3.7/dist-packages (from scikit-learn->biosppy) (3.1.0)\n",
            "Requirement already satisfied: cached-property in /usr/local/lib/python3.7/dist-packages (from h5py->biosppy) (1.5.2)\n",
            "Building wheels for collected packages: wget, biosppy\n",
            "  Building wheel for wget (setup.py) ... \u001b[?25l\u001b[?25hdone\n",
            "  Created wheel for wget: filename=wget-3.2-py3-none-any.whl size=9675 sha256=68702ba03325c080364076995b98ced4c640a8a64542f357c840fd2b29520c6d\n",
            "  Stored in directory: /root/.cache/pip/wheels/a1/b6/7c/0e63e34eb06634181c63adacca38b79ff8f35c37e3c13e3c02\n",
            "  Building wheel for biosppy (setup.py) ... \u001b[?25l\u001b[?25hdone\n",
            "  Created wheel for biosppy: filename=biosppy-0.8.0-py2.py3-none-any.whl size=100176 sha256=42cb4278851f766dabc2f34cc8a47ef35f6115a15b798bf7aba30843ea0d4cd8\n",
            "  Stored in directory: /root/.cache/pip/wheels/32/17/9d/77adbf0db713546eaa1c7a1480b2dce91fa724a133115dc20c\n",
            "Successfully built wget biosppy\n",
            "Installing collected packages: shortuuid, bidict, wget, wfdb, biosppy\n",
            "Successfully installed bidict-0.22.0 biosppy-0.8.0 shortuuid-1.0.9 wfdb-4.0.0 wget-3.2\n"
          ]
        }
      ],
      "source": [
        "pip install wfdb wget tqdm biosppy imbalanced-learn seaborn"
      ]
    },
    {
      "cell_type": "code",
      "execution_count": null,
      "metadata": {
        "colab": {
          "base_uri": "https://localhost:8080/",
          "height": 455
        },
        "id": "2N7JuCtF4Z5I",
        "outputId": "09037925-e654-4d0f-9e24-f53a3e820b1d"
      },
      "outputs": [
        {
          "output_type": "stream",
          "name": "stdout",
          "text": [
            "Found existing installation: matplotlib 3.2.2\n",
            "Uninstalling matplotlib-3.2.2:\n",
            "  Successfully uninstalled matplotlib-3.2.2\n",
            "Looking in indexes: https://pypi.org/simple, https://us-python.pkg.dev/colab-wheels/public/simple/\n",
            "Collecting matplotlib==3.1.3\n",
            "  Downloading matplotlib-3.1.3-cp37-cp37m-manylinux1_x86_64.whl (13.1 MB)\n",
            "\u001b[K     |████████████████████████████████| 13.1 MB 8.1 MB/s \n",
            "\u001b[?25hRequirement already satisfied: python-dateutil>=2.1 in /usr/local/lib/python3.7/dist-packages (from matplotlib==3.1.3) (2.8.2)\n",
            "Requirement already satisfied: kiwisolver>=1.0.1 in /usr/local/lib/python3.7/dist-packages (from matplotlib==3.1.3) (1.4.3)\n",
            "Requirement already satisfied: pyparsing!=2.0.4,!=2.1.2,!=2.1.6,>=2.0.1 in /usr/local/lib/python3.7/dist-packages (from matplotlib==3.1.3) (3.0.9)\n",
            "Requirement already satisfied: cycler>=0.10 in /usr/local/lib/python3.7/dist-packages (from matplotlib==3.1.3) (0.11.0)\n",
            "Requirement already satisfied: numpy>=1.11 in /usr/local/lib/python3.7/dist-packages (from matplotlib==3.1.3) (1.21.6)\n",
            "Requirement already satisfied: typing-extensions in /usr/local/lib/python3.7/dist-packages (from kiwisolver>=1.0.1->matplotlib==3.1.3) (4.1.1)\n",
            "Requirement already satisfied: six>=1.5 in /usr/local/lib/python3.7/dist-packages (from python-dateutil>=2.1->matplotlib==3.1.3) (1.15.0)\n",
            "Installing collected packages: matplotlib\n",
            "\u001b[31mERROR: pip's dependency resolver does not currently take into account all the packages that are installed. This behaviour is the source of the following dependency conflicts.\n",
            "wfdb 4.0.0 requires matplotlib<4.0.0,>=3.2.2, but you have matplotlib 3.1.3 which is incompatible.\n",
            "albumentations 0.1.12 requires imgaug<0.2.7,>=0.2.5, but you have imgaug 0.2.9 which is incompatible.\u001b[0m\n",
            "Successfully installed matplotlib-3.1.3\n"
          ]
        },
        {
          "output_type": "display_data",
          "data": {
            "application/vnd.colab-display-data+json": {
              "pip_warning": {
                "packages": [
                  "matplotlib",
                  "mpl_toolkits"
                ]
              }
            }
          },
          "metadata": {}
        }
      ],
      "source": [
        "!pip uninstall matplotlib --yes\n",
        "!pip install matplotlib==3.1.3 "
      ]
    },
    {
      "cell_type": "markdown",
      "metadata": {
        "id": "PQR24pkOmFxR"
      },
      "source": [
        "## Importing Libraries"
      ]
    },
    {
      "cell_type": "code",
      "execution_count": null,
      "metadata": {
        "id": "X24SlCyA4c_1"
      },
      "outputs": [],
      "source": [
        "import tensorflow as tf\n",
        "import matplotlib.pyplot as plt\n",
        "import pandas as pd\n",
        "import numpy as np\n",
        "from glob import glob\n",
        "import wget\n",
        "import math\n",
        "import zipfile\n",
        "import wfdb as wf\n",
        "import os\n",
        "import pickle\n",
        "import sys\n",
        "import datetime\n",
        "import cv2\n",
        "from scipy import signal\n",
        "from scipy.signal import resample\n",
        "from scipy.signal import find_peaks\n",
        "from pathlib import Path\n",
        "from sklearn.model_selection import train_test_split\n",
        "from collections import Counter\n",
        "from sklearn.preprocessing import LabelEncoder\n",
        "from imblearn.over_sampling import SMOTE"
      ]
    },
    {
      "cell_type": "markdown",
      "metadata": {
        "id": "cTpD3FvdmJdJ"
      },
      "source": [
        "## Extracting Data"
      ]
    },
    {
      "cell_type": "code",
      "execution_count": null,
      "metadata": {
        "id": "mAzBra4W5eZ9"
      },
      "outputs": [],
      "source": [
        "module = os.path.abspath('/content/gdrive/MyDrive/WESAD/')\n",
        "if module not in sys.path:\n",
        "    sys.path.append(module)\n",
        "from DataManager import DataManager"
      ]
    },
    {
      "cell_type": "markdown",
      "metadata": {
        "id": "R9FN2BoumOSQ"
      },
      "source": [
        "## Data Preprocessing"
      ]
    },
    {
      "cell_type": "code",
      "execution_count": null,
      "metadata": {
        "id": "XA9aJaUJ5Zs_"
      },
      "outputs": [],
      "source": [
        "# config\n",
        "debug = True;"
      ]
    },
    {
      "cell_type": "code",
      "execution_count": null,
      "metadata": {
        "id": "xgB606iMjzea"
      },
      "outputs": [],
      "source": [
        "# subject_ids = [2, 3, 4, 5, 6, 7, 8, 9, 10, 11, 13, 14, 15, 16, 17]"
      ]
    },
    {
      "cell_type": "code",
      "execution_count": null,
      "metadata": {
        "id": "WSsq-ktOj09x"
      },
      "outputs": [],
      "source": [
        "test_subject = [2]\n",
        "rest_subjects = [3, 4, 5, 6, 7, 8, 9, 10, 11, 13, 14, 15, 16, 17]"
      ]
    },
    {
      "cell_type": "code",
      "execution_count": null,
      "metadata": {
        "id": "oiczxVcr5m8Z"
      },
      "outputs": [],
      "source": [
        "def generateData(subject_ids):\n",
        "    data = DataManager()\n",
        "    all_subject_data = np.array([]);\n",
        "    all_subject_labels = np.array([]);\n",
        "\n",
        "#     subject_ids = [2, 3]\n",
        "\n",
        "    for subject_id in subject_ids:\n",
        "        if(debug): print(\"Processing subject id: \", subject_id);\n",
        "        subject = data.load(subject_id)\n",
        "\n",
        "\n",
        "        if(debug):\n",
        "            print('baseline: ', subject[0], '\\nstress: ', subject[1], '\\namusement: ', subject[2], '\\nbase_label: ', subject[3], '\\nstress_label: ', subject[4], '\\namuse_label: ', subject[5])\n",
        "\n",
        "        ecg_base = subject[0]\n",
        "        ecg_stress = subject[1]\n",
        "        ecg_amusement = subject[2]\n",
        "\n",
        "        base_label = subject[3]\n",
        "        stress_label = subject[4]\n",
        "        amuse_label = subject[5]\n",
        "\n",
        "        ecg_base_T = ecg_base.T\n",
        "        ecg_stress_T = ecg_stress.T\n",
        "        ecg_amusement_T = ecg_amusement.T\n",
        "\n",
        "        ecg_base_data = ecg_base_T[0]\n",
        "        ecg_stress_data = ecg_stress_T[0]\n",
        "        ecg_amusement_data = ecg_amusement_T[0]\n",
        "\n",
        "        ecg_base_label =  base_label.T\n",
        "        ecg_stress_label  = stress_label.T\n",
        "        ecg_amusement_label  = amuse_label.T\n",
        "\n",
        "        if(debug):\n",
        "            print('ecg_base_data:', ecg_base_data)\n",
        "            print('ecg_stress_data:', ecg_stress_data)\n",
        "            print('ecg_amusement_data:', ecg_amusement_data)\n",
        "\n",
        "            print('ecg_base_label:', ecg_base_label)\n",
        "            print('ecg_stress_label:', ecg_stress_label)\n",
        "            print('ecg_amusement_label:', ecg_amusement_label)\n",
        "\n",
        "\n",
        "        base_secs = len(ecg_base_data) // 700 # Number of seconds in signal X\n",
        "        base_samps = int(base_secs * 256 )    # Number of samples to downsample\n",
        "        base_down = signal.resample(ecg_base_data, base_samps)\n",
        "\n",
        "\n",
        "        stress_secs = len(ecg_stress_data) // 700 # Number of seconds in signal X\n",
        "        stress_samps = int(stress_secs * 256 )    # Number of samples to downsample\n",
        "        stress_down = signal.resample(ecg_stress_data, stress_samps)\n",
        "\n",
        "\n",
        "        amuse_secs = len(ecg_amusement_data) // 700 # Number of seconds in signal X\n",
        "        amuse_samps = int(amuse_secs * 256 )    # Number of samples to downsample\n",
        "        amuse_down = signal.resample(ecg_amusement_data, amuse_samps)\n",
        "\n",
        "    #     heart_beat_base = np.array_split(base_down, 256)\n",
        "    #     heart_beat_stress = np.array_split(stress_down, 256)\n",
        "    #     heart_beat_amuse = np.array_split(amuse_down, 256)\n",
        "\n",
        "        window_size = 256\n",
        "        window_shift = 256\n",
        "\n",
        "        heart_beat_base = []\n",
        "        for i in range(0,len(base_down) - window_size,window_shift):\n",
        "            heart_beat_base.append(base_down[i:window_size + i])\n",
        "        heart_beat_base.pop()\n",
        "    #     heart_beat_base = np.array(list(heart_beat_base[:]), dtype=float)\n",
        "\n",
        "        heart_beat_stress = []\n",
        "        for i in range(0,len(stress_down) - window_size,window_shift):\n",
        "            heart_beat_stress.append(stress_down[i:window_size + i])\n",
        "        heart_beat_stress.pop()\n",
        "    #     heart_beat_stress = np.array(list(heart_beat_stress[:]), dtype=float)\n",
        "\n",
        "        heart_beat_amuse = []\n",
        "        for i in range(0,len(amuse_down) - window_size,window_shift):\n",
        "            heart_beat_amuse.append(amuse_down[i:window_size + i])\n",
        "        heart_beat_amuse.pop()\n",
        "    #     heart_beat_amuse = np.array(list(heart_beat_amuse[:]), dtype=float)\n",
        "\n",
        "\n",
        "        for idx, idxval in enumerate(heart_beat_base):\n",
        "            heart_beat_base[idx] = (heart_beat_base[idx] - heart_beat_base[idx].min()) / heart_beat_base[idx].ptp() # Normalize the readings to a 0-1 range \n",
        "            heart_beat_base[idx] = np.append(heart_beat_base[idx], 0.0) #Baseline = 0\n",
        "\n",
        "        for idx, idxval in enumerate(heart_beat_stress):\n",
        "            heart_beat_stress[idx] = (heart_beat_stress[idx] - heart_beat_stress[idx].min()) / heart_beat_stress[idx].ptp() # Normalize the readings to a 0-1 range \n",
        "            heart_beat_stress[idx] = np.append(heart_beat_stress[idx], 1.0) #Stress = 1    \n",
        "\n",
        "        for idx, idxval in enumerate(heart_beat_amuse):\n",
        "            heart_beat_amuse[idx] = (heart_beat_amuse[idx] - heart_beat_amuse[idx].min()) / heart_beat_amuse[idx].ptp() # Normalize the readings to a 0-1 range \n",
        "            heart_beat_amuse[idx] = np.append(heart_beat_amuse[idx], 2.0) #Amusement = 2\n",
        "\n",
        "    #     print(\"heart_beat_base:\", len(heart_beat_base[0]), len(heart_beat_base[-2]), len(heart_beat_base[-1]))\n",
        "    #     print(\"heart_beat_stress:\", len(heart_beat_stress[0]), len(heart_beat_stress[-1]))\n",
        "    #     print(\"heart_beat_amuse:\", len(heart_beat_amuse[0]), len(heart_beat_amuse[-1]))\n",
        "\n",
        "        heart_beat_all = np.concatenate((heart_beat_base, heart_beat_stress, heart_beat_amuse), axis=0)\n",
        "        subject_data = np.array(list(heart_beat_all[:]), dtype=float)\n",
        "\n",
        "\n",
        "        if(all_subject_data.size == 0):\n",
        "            all_subject_data = subject_data\n",
        "        else:\n",
        "            if(subject_data.size != 0):\n",
        "                all_subject_data = np.concatenate((all_subject_data, subject_data), axis=0)\n",
        "\n",
        "        print(\"New data shape\", subject_data.shape, \"Total Shape: \", all_subject_data.shape)\n",
        "        \n",
        "    #SMOTE to balance the data\n",
        "    df_final_data_X = pd.DataFrame(data=all_subject_data[:, :-1])\n",
        "    df_final_data_Y = pd.DataFrame(data=all_subject_data[:,-1])\n",
        "\n",
        "    smote = SMOTE(sampling_strategy='not majority')\n",
        "    X_sm, y_sm = smote.fit_resample(df_final_data_X, df_final_data_Y)\n",
        "    \n",
        "    return X_sm, y_sm"
      ]
    },
    {
      "cell_type": "markdown",
      "metadata": {
        "id": "rVCfBUeCmUay"
      },
      "source": [
        "## Data Generation - Train"
      ]
    },
    {
      "cell_type": "code",
      "execution_count": null,
      "metadata": {
        "colab": {
          "base_uri": "https://localhost:8080/"
        },
        "id": "CHFB8nd55usY",
        "outputId": "80a3e0f8-6df6-40cc-c987-dc4dbf565e65"
      },
      "outputs": [
        {
          "output_type": "stream",
          "name": "stdout",
          "text": [
            "Processing subject id:  2\n",
            "Loading data for S2\n",
            "baseline:  [[0.03094482]\n",
            " [0.03364563]\n",
            " [0.03300476]\n",
            " ...\n",
            " [0.35952759]\n",
            " [0.38768005]\n",
            " [0.41500854]] \n",
            "stress:  [[-0.01167297]\n",
            " [-0.0015564 ]\n",
            " [ 0.02238464]\n",
            " ...\n",
            " [ 0.00361633]\n",
            " [ 0.00352478]\n",
            " [ 0.00032043]] \n",
            "amusement:  [[-0.09645081]\n",
            " [-0.09159851]\n",
            " [-0.08596802]\n",
            " ...\n",
            " [ 0.05731201]\n",
            " [ 0.06298828]\n",
            " [ 0.06216431]] \n",
            "base_label:  [1 1 1 ... 1 1 1] \n",
            "stress_label:  [2 2 2 ... 2 2 2] \n",
            "amuse_label:  [3 3 3 ... 3 3 3]\n",
            "ecg_base_data: [0.03094482 0.03364563 0.03300476 ... 0.35952759 0.38768005 0.41500854]\n",
            "ecg_stress_data: [-0.01167297 -0.0015564   0.02238464 ...  0.00361633  0.00352478\n",
            "  0.00032043]\n",
            "ecg_amusement_data: [-0.09645081 -0.09159851 -0.08596802 ...  0.05731201  0.06298828\n",
            "  0.06216431]\n",
            "ecg_base_label: [1 1 1 ... 1 1 1]\n",
            "ecg_stress_label: [2 2 2 ... 2 2 2]\n",
            "ecg_amusement_label: [3 3 3 ... 3 3 3]\n",
            "New data shape (2115, 257) Total Shape:  (2115, 257)\n",
            "Processing subject id:  3\n",
            "Loading data for S3\n",
            "baseline:  [[-0.19184875]\n",
            " [-0.18663025]\n",
            " [-0.17926025]\n",
            " ...\n",
            " [-0.04289246]\n",
            " [-0.04206848]\n",
            " [-0.04188538]] \n",
            "stress:  [[-0.14653015]\n",
            " [-0.14753723]\n",
            " [-0.14666748]\n",
            " ...\n",
            " [ 0.05644226]\n",
            " [ 0.04522705]\n",
            " [ 0.03135681]] \n",
            "amusement:  [[-0.22512817]\n",
            " [-0.22169495]\n",
            " [-0.2233429 ]\n",
            " ...\n",
            " [-0.22773743]\n",
            " [-0.22879028]\n",
            " [-0.22677612]] \n",
            "base_label:  [1 1 1 ... 1 1 1] \n",
            "stress_label:  [2 2 2 ... 2 2 2] \n",
            "amuse_label:  [3 3 3 ... 3 3 3]\n",
            "ecg_base_data: [-0.19184875 -0.18663025 -0.17926025 ... -0.04289246 -0.04206848\n",
            " -0.04188538]\n",
            "ecg_stress_data: [-0.14653015 -0.14753723 -0.14666748 ...  0.05644226  0.04522705\n",
            "  0.03135681]\n",
            "ecg_amusement_data: [-0.22512817 -0.22169495 -0.2233429  ... -0.22773743 -0.22879028\n",
            " -0.22677612]\n",
            "ecg_base_label: [1 1 1 ... 1 1 1]\n",
            "ecg_stress_label: [2 2 2 ... 2 2 2]\n",
            "ecg_amusement_label: [3 3 3 ... 3 3 3]\n",
            "New data shape (2149, 257) Total Shape:  (4264, 257)\n",
            "Processing subject id:  4\n",
            "Loading data for S4\n",
            "baseline:  [[ 9.56726074e-03]\n",
            " [ 3.52478027e-03]\n",
            " [-4.57763672e-05]\n",
            " ...\n",
            " [-3.33709717e-02]\n",
            " [-3.13568115e-02]\n",
            " [-2.83813477e-02]] \n",
            "stress:  [[-0.1933136 ]\n",
            " [-0.19816589]\n",
            " [-0.19468689]\n",
            " ...\n",
            " [-0.03126526]\n",
            " [-0.02458191]\n",
            " [-0.02526855]] \n",
            "amusement:  [[ 0.0025177 ]\n",
            " [ 0.0017395 ]\n",
            " [-0.00361633]\n",
            " ...\n",
            " [-0.02627563]\n",
            " [-0.02522278]\n",
            " [-0.02613831]] \n",
            "base_label:  [1 1 1 ... 1 1 1] \n",
            "stress_label:  [2 2 2 ... 2 2 2] \n",
            "amuse_label:  [3 3 3 ... 3 3 3]\n",
            "ecg_base_data: [ 9.56726074e-03  3.52478027e-03 -4.57763672e-05 ... -3.33709717e-02\n",
            " -3.13568115e-02 -2.83813477e-02]\n",
            "ecg_stress_data: [-0.1933136  -0.19816589 -0.19468689 ... -0.03126526 -0.02458191\n",
            " -0.02526855]\n",
            "ecg_amusement_data: [ 0.0025177   0.0017395  -0.00361633 ... -0.02627563 -0.02522278\n",
            " -0.02613831]\n",
            "ecg_base_label: [1 1 1 ... 1 1 1]\n",
            "ecg_stress_label: [2 2 2 ... 2 2 2]\n",
            "ecg_amusement_label: [3 3 3 ... 3 3 3]\n",
            "New data shape (2159, 257) Total Shape:  (6423, 257)\n",
            "Processing subject id:  5\n",
            "Loading data for S5\n",
            "baseline:  [[-0.02897644]\n",
            " [-0.02911377]\n",
            " [-0.0302124 ]\n",
            " ...\n",
            " [-0.05195618]\n",
            " [-0.05067444]\n",
            " [-0.05058289]] \n",
            "stress:  [[-0.0309906 ]\n",
            " [-0.03144836]\n",
            " [-0.03277588]\n",
            " ...\n",
            " [ 0.11334229]\n",
            " [ 0.08848572]\n",
            " [ 0.0695343 ]] \n",
            "amusement:  [[-0.0098877 ]\n",
            " [-0.01373291]\n",
            " [-0.01652527]\n",
            " ...\n",
            " [-0.04229736]\n",
            " [-0.0410614 ]\n",
            " [-0.03923035]] \n",
            "base_label:  [1 1 1 ... 1 1 1] \n",
            "stress_label:  [2 2 2 ... 2 2 2] \n",
            "amuse_label:  [3 3 3 ... 3 3 3]\n",
            "ecg_base_data: [-0.02897644 -0.02911377 -0.0302124  ... -0.05195618 -0.05067444\n",
            " -0.05058289]\n",
            "ecg_stress_data: [-0.0309906  -0.03144836 -0.03277588 ...  0.11334229  0.08848572\n",
            "  0.0695343 ]\n",
            "ecg_amusement_data: [-0.0098877  -0.01373291 -0.01652527 ... -0.04229736 -0.0410614\n",
            " -0.03923035]\n",
            "ecg_base_label: [1 1 1 ... 1 1 1]\n",
            "ecg_stress_label: [2 2 2 ... 2 2 2]\n",
            "ecg_amusement_label: [3 3 3 ... 3 3 3]\n",
            "New data shape (2211, 257) Total Shape:  (8634, 257)\n",
            "Processing subject id:  6\n",
            "Loading data for S6\n",
            "baseline:  [[ 0.01693726]\n",
            " [ 0.01785278]\n",
            " [ 0.01652527]\n",
            " ...\n",
            " [-0.04792786]\n",
            " [-0.04229736]\n",
            " [-0.03657532]] \n",
            "stress:  [[ 0.09114075]\n",
            " [ 0.10345459]\n",
            " [ 0.11851501]\n",
            " ...\n",
            " [-0.16932678]\n",
            " [-0.16726685]\n",
            " [-0.16694641]] \n",
            "amusement:  [[-0.09965515]\n",
            " [-0.09494019]\n",
            " [-0.08999634]\n",
            " ...\n",
            " [-0.03936768]\n",
            " [-0.04023743]\n",
            " [-0.03858948]] \n",
            "base_label:  [1 1 1 ... 1 1 1] \n",
            "stress_label:  [2 2 2 ... 2 2 2] \n",
            "amuse_label:  [3 3 3 ... 3 3 3]\n",
            "ecg_base_data: [ 0.01693726  0.01785278  0.01652527 ... -0.04792786 -0.04229736\n",
            " -0.03657532]\n",
            "ecg_stress_data: [ 0.09114075  0.10345459  0.11851501 ... -0.16932678 -0.16726685\n",
            " -0.16694641]\n",
            "ecg_amusement_data: [-0.09965515 -0.09494019 -0.08999634 ... -0.03936768 -0.04023743\n",
            " -0.03858948]\n",
            "ecg_base_label: [1 1 1 ... 1 1 1]\n",
            "ecg_stress_label: [2 2 2 ... 2 2 2]\n",
            "ecg_amusement_label: [3 3 3 ... 3 3 3]\n",
            "New data shape (2196, 257) Total Shape:  (10830, 257)\n",
            "Processing subject id:  7\n",
            "Loading data for S7\n",
            "baseline:  [[-0.01350403]\n",
            " [-0.01469421]\n",
            " [-0.01460266]\n",
            " ...\n",
            " [-0.01203918]\n",
            " [-0.00947571]\n",
            " [-0.01062012]] \n",
            "stress:  [[ 0.13838196]\n",
            " [ 0.14337158]\n",
            " [ 0.15403748]\n",
            " ...\n",
            " [-0.03616333]\n",
            " [-0.03790283]\n",
            " [-0.03996277]] \n",
            "amusement:  [[-0.13572693]\n",
            " [-0.13737488]\n",
            " [-0.13595581]\n",
            " ...\n",
            " [ 0.21977234]\n",
            " [ 0.21551514]\n",
            " [ 0.21002197]] \n",
            "base_label:  [1 1 1 ... 1 1 1] \n",
            "stress_label:  [2 2 2 ... 2 2 2] \n",
            "amuse_label:  [3 3 3 ... 3 3 3]\n",
            "ecg_base_data: [-0.01350403 -0.01469421 -0.01460266 ... -0.01203918 -0.00947571\n",
            " -0.01062012]\n",
            "ecg_stress_data: [ 0.13838196  0.14337158  0.15403748 ... -0.03616333 -0.03790283\n",
            " -0.03996277]\n",
            "ecg_amusement_data: [-0.13572693 -0.13737488 -0.13595581 ...  0.21977234  0.21551514\n",
            "  0.21002197]\n",
            "ecg_base_label: [1 1 1 ... 1 1 1]\n",
            "ecg_stress_label: [2 2 2 ... 2 2 2]\n",
            "ecg_amusement_label: [3 3 3 ... 3 3 3]\n",
            "New data shape (2192, 257) Total Shape:  (13022, 257)\n",
            "Processing subject id:  8\n",
            "Loading data for S8\n",
            "baseline:  [[-0.0158844 ]\n",
            " [-0.01734924]\n",
            " [-0.01451111]\n",
            " ...\n",
            " [-0.01812744]\n",
            " [-0.02009583]\n",
            " [-0.02362061]] \n",
            "stress:  [[-0.08317566]\n",
            " [-0.0579071 ]\n",
            " [-0.03900146]\n",
            " ...\n",
            " [ 0.01817322]\n",
            " [ 0.0174408 ]\n",
            " [ 0.01570129]] \n",
            "amusement:  [[-0.04458618]\n",
            " [-0.0401001 ]\n",
            " [-0.03520203]\n",
            " ...\n",
            " [-0.01835632]\n",
            " [-0.02252197]\n",
            " [-0.02531433]] \n",
            "base_label:  [1 1 1 ... 1 1 1] \n",
            "stress_label:  [2 2 2 ... 2 2 2] \n",
            "amuse_label:  [3 3 3 ... 3 3 3]\n",
            "ecg_base_data: [-0.0158844  -0.01734924 -0.01451111 ... -0.01812744 -0.02009583\n",
            " -0.02362061]\n",
            "ecg_stress_data: [-0.08317566 -0.0579071  -0.03900146 ...  0.01817322  0.0174408\n",
            "  0.01570129]\n",
            "ecg_amusement_data: [-0.04458618 -0.0401001  -0.03520203 ... -0.01835632 -0.02252197\n",
            " -0.02531433]\n",
            "ecg_base_label: [1 1 1 ... 1 1 1]\n",
            "ecg_stress_label: [2 2 2 ... 2 2 2]\n",
            "ecg_amusement_label: [3 3 3 ... 3 3 3]\n",
            "New data shape (2202, 257) Total Shape:  (15224, 257)\n",
            "Processing subject id:  9\n",
            "Loading data for S9\n",
            "baseline:  [[0.17207336]\n",
            " [0.15724182]\n",
            " [0.14396667]\n",
            " ...\n",
            " [0.17243958]\n",
            " [0.1714325 ]\n",
            " [0.16749573]] \n",
            "stress:  [[ 0.1632843 ]\n",
            " [ 0.16053772]\n",
            " [ 0.15582275]\n",
            " ...\n",
            " [-0.0544281 ]\n",
            " [-0.07626343]\n",
            " [-0.08976746]] \n",
            "amusement:  [[-0.01812744]\n",
            " [-0.0166626 ]\n",
            " [-0.01441956]\n",
            " ...\n",
            " [ 0.126297  ]\n",
            " [ 0.12345886]\n",
            " [ 0.12364197]] \n",
            "base_label:  [1 1 1 ... 1 1 1] \n",
            "stress_label:  [2 2 2 ... 2 2 2] \n",
            "amuse_label:  [3 3 3 ... 3 3 3]\n",
            "ecg_base_data: [0.17207336 0.15724182 0.14396667 ... 0.17243958 0.1714325  0.16749573]\n",
            "ecg_stress_data: [ 0.1632843   0.16053772  0.15582275 ... -0.0544281  -0.07626343\n",
            " -0.08976746]\n",
            "ecg_amusement_data: [-0.01812744 -0.0166626  -0.01441956 ...  0.126297    0.12345886\n",
            "  0.12364197]\n",
            "ecg_base_label: [1 1 1 ... 1 1 1]\n",
            "ecg_stress_label: [2 2 2 ... 2 2 2]\n",
            "ecg_amusement_label: [3 3 3 ... 3 3 3]\n",
            "New data shape (2191, 257) Total Shape:  (17415, 257)\n",
            "Processing subject id:  10\n",
            "Loading data for S10\n",
            "baseline:  [[-0.0067749 ]\n",
            " [-0.00288391]\n",
            " [-0.00228882]\n",
            " ...\n",
            " [ 0.73640442]\n",
            " [ 0.65679932]\n",
            " [ 0.50239563]] \n",
            "stress:  [[ 0.12199402]\n",
            " [ 0.11604309]\n",
            " [ 0.10798645]\n",
            " ...\n",
            " [-0.03057861]\n",
            " [-0.02842712]\n",
            " [-0.02284241]] \n",
            "amusement:  [[0.09786987]\n",
            " [0.11228943]\n",
            " [0.12400818]\n",
            " ...\n",
            " [0.62425232]\n",
            " [0.73416138]\n",
            " [0.7509613 ]] \n",
            "base_label:  [1 1 1 ... 1 1 1] \n",
            "stress_label:  [2 2 2 ... 2 2 2] \n",
            "amuse_label:  [3 3 3 ... 3 3 3]\n",
            "ecg_base_data: [-0.0067749  -0.00288391 -0.00228882 ...  0.73640442  0.65679932\n",
            "  0.50239563]\n",
            "ecg_stress_data: [ 0.12199402  0.11604309  0.10798645 ... -0.03057861 -0.02842712\n",
            " -0.02284241]\n",
            "ecg_amusement_data: [0.09786987 0.11228943 0.12400818 ... 0.62425232 0.73416138 0.7509613 ]\n",
            "ecg_base_label: [1 1 1 ... 1 1 1]\n",
            "ecg_stress_label: [2 2 2 ... 2 2 2]\n",
            "ecg_amusement_label: [3 3 3 ... 3 3 3]\n",
            "New data shape (2271, 257) Total Shape:  (19686, 257)\n",
            "Processing subject id:  11\n",
            "Loading data for S11\n",
            "baseline:  [[-0.01739502]\n",
            " [-0.01277161]\n",
            " [-0.00759888]\n",
            " ...\n",
            " [ 0.07099915]\n",
            " [ 0.06253052]\n",
            " [ 0.05067444]] \n",
            "stress:  [[-0.05809021]\n",
            " [-0.06394958]\n",
            " [-0.07099915]\n",
            " ...\n",
            " [ 0.19317627]\n",
            " [ 0.19248962]\n",
            " [ 0.19326782]] \n",
            "amusement:  [[-0.06678772]\n",
            " [-0.06413269]\n",
            " [-0.06028748]\n",
            " ...\n",
            " [-0.09594727]\n",
            " [-0.09965515]\n",
            " [-0.10066223]] \n",
            "base_label:  [1 1 1 ... 1 1 1] \n",
            "stress_label:  [2 2 2 ... 2 2 2] \n",
            "amuse_label:  [3 3 3 ... 3 3 3]\n",
            "ecg_base_data: [-0.01739502 -0.01277161 -0.00759888 ...  0.07099915  0.06253052\n",
            "  0.05067444]\n",
            "ecg_stress_data: [-0.05809021 -0.06394958 -0.07099915 ...  0.19317627  0.19248962\n",
            "  0.19326782]\n",
            "ecg_amusement_data: [-0.06678772 -0.06413269 -0.06028748 ... -0.09594727 -0.09965515\n",
            " -0.10066223]\n",
            "ecg_base_label: [1 1 1 ... 1 1 1]\n",
            "ecg_stress_label: [2 2 2 ... 2 2 2]\n",
            "ecg_amusement_label: [3 3 3 ... 3 3 3]\n",
            "New data shape (2222, 257) Total Shape:  (21908, 257)\n",
            "Processing subject id:  13\n",
            "Loading data for S13\n",
            "baseline:  [[-0.20626831]\n",
            " [-0.23721313]\n",
            " [-0.26902771]\n",
            " ...\n",
            " [ 0.03144836]\n",
            " [ 0.01849365]\n",
            " [ 0.00892639]] \n",
            "stress:  [[-0.08784485]\n",
            " [-0.08747864]\n",
            " [-0.0861969 ]\n",
            " ...\n",
            " [-0.01579285]\n",
            " [-0.00993347]\n",
            " [-0.00773621]] \n",
            "amusement:  [[ 0.01130676]\n",
            " [ 0.01483154]\n",
            " [ 0.01570129]\n",
            " ...\n",
            " [-0.07072449]\n",
            " [-0.0712738 ]\n",
            " [-0.06747437]] \n",
            "base_label:  [1 1 1 ... 1 1 1] \n",
            "stress_label:  [2 2 2 ... 2 2 2] \n",
            "amuse_label:  [3 3 3 ... 3 3 3]\n",
            "ecg_base_data: [-0.20626831 -0.23721313 -0.26902771 ...  0.03144836  0.01849365\n",
            "  0.00892639]\n",
            "ecg_stress_data: [-0.08784485 -0.08747864 -0.0861969  ... -0.01579285 -0.00993347\n",
            " -0.00773621]\n",
            "ecg_amusement_data: [ 0.01130676  0.01483154  0.01570129 ... -0.07072449 -0.0712738\n",
            " -0.06747437]\n",
            "ecg_base_label: [1 1 1 ... 1 1 1]\n",
            "ecg_stress_label: [2 2 2 ... 2 2 2]\n",
            "ecg_amusement_label: [3 3 3 ... 3 3 3]\n",
            "New data shape (2220, 257) Total Shape:  (24128, 257)\n",
            "Processing subject id:  14\n",
            "Loading data for S14\n",
            "baseline:  [[1.4992218 ]\n",
            " [1.4992218 ]\n",
            " [1.49908447]\n",
            " ...\n",
            " [0.0275116 ]\n",
            " [0.03575134]\n",
            " [0.04600525]] \n",
            "stress:  [[0.11320496]\n",
            " [0.11741638]\n",
            " [0.12506104]\n",
            " ...\n",
            " [0.21908569]\n",
            " [0.20549011]\n",
            " [0.19221497]] \n",
            "amusement:  [[0.27841187]\n",
            " [0.28010559]\n",
            " [0.28019714]\n",
            " ...\n",
            " [0.00544739]\n",
            " [0.00137329]\n",
            " [0.00201416]] \n",
            "base_label:  [1 1 1 ... 1 1 1] \n",
            "stress_label:  [2 2 2 ... 2 2 2] \n",
            "amuse_label:  [3 3 3 ... 3 3 3]\n",
            "ecg_base_data: [1.4992218  1.4992218  1.49908447 ... 0.0275116  0.03575134 0.04600525]\n",
            "ecg_stress_data: [0.11320496 0.11741638 0.12506104 ... 0.21908569 0.20549011 0.19221497]\n",
            "ecg_amusement_data: [0.27841187 0.28010559 0.28019714 ... 0.00544739 0.00137329 0.00201416]\n",
            "ecg_base_label: [1 1 1 ... 1 1 1]\n",
            "ecg_stress_label: [2 2 2 ... 2 2 2]\n",
            "ecg_amusement_label: [3 3 3 ... 3 3 3]\n",
            "New data shape (2221, 257) Total Shape:  (26349, 257)\n",
            "Processing subject id:  16\n",
            "Loading data for S16\n",
            "baseline:  [[ 0.03053284]\n",
            " [ 0.04444885]\n",
            " [ 0.05090332]\n",
            " ...\n",
            " [-0.08729553]\n",
            " [-0.08390808]\n",
            " [-0.07983398]] \n",
            "stress:  [[ 0.26165771]\n",
            " [ 0.26728821]\n",
            " [ 0.27310181]\n",
            " ...\n",
            " [-0.24989319]\n",
            " [-0.23606873]\n",
            " [-0.23085022]] \n",
            "amusement:  [[ 0.01515198]\n",
            " [ 0.01826477]\n",
            " [ 0.01899719]\n",
            " ...\n",
            " [-0.07058716]\n",
            " [-0.06642151]\n",
            " [-0.06147766]] \n",
            "base_label:  [1 1 1 ... 1 1 1] \n",
            "stress_label:  [2 2 2 ... 2 2 2] \n",
            "amuse_label:  [3 3 3 ... 3 3 3]\n",
            "ecg_base_data: [ 0.03053284  0.04444885  0.05090332 ... -0.08729553 -0.08390808\n",
            " -0.07983398]\n",
            "ecg_stress_data: [ 0.26165771  0.26728821  0.27310181 ... -0.24989319 -0.23606873\n",
            " -0.23085022]\n",
            "ecg_amusement_data: [ 0.01515198  0.01826477  0.01899719 ... -0.07058716 -0.06642151\n",
            " -0.06147766]\n",
            "ecg_base_label: [1 1 1 ... 1 1 1]\n",
            "ecg_stress_label: [2 2 2 ... 2 2 2]\n",
            "ecg_amusement_label: [3 3 3 ... 3 3 3]\n",
            "New data shape (2215, 257) Total Shape:  (28564, 257)\n",
            "Processing subject id:  17\n",
            "Loading data for S17\n",
            "baseline:  [[-0.01464844]\n",
            " [-0.00123596]\n",
            " [ 0.00727844]\n",
            " ...\n",
            " [-0.18438721]\n",
            " [-0.18305969]\n",
            " [-0.18379211]] \n",
            "stress:  [[-0.31887817]\n",
            " [-0.3205719 ]\n",
            " [-0.32194519]\n",
            " ...\n",
            " [ 0.20196533]\n",
            " [ 0.21263123]\n",
            " [ 0.22041321]] \n",
            "amusement:  [[-0.01625061]\n",
            " [-0.01643372]\n",
            " [-0.01625061]\n",
            " ...\n",
            " [ 0.08509827]\n",
            " [ 0.06001282]\n",
            " [ 0.05662537]] \n",
            "base_label:  [1 1 1 ... 1 1 1] \n",
            "stress_label:  [2 2 2 ... 2 2 2] \n",
            "amuse_label:  [3 3 3 ... 3 3 3]\n",
            "ecg_base_data: [-0.01464844 -0.00123596  0.00727844 ... -0.18438721 -0.18305969\n",
            " -0.18379211]\n",
            "ecg_stress_data: [-0.31887817 -0.3205719  -0.32194519 ...  0.20196533  0.21263123\n",
            "  0.22041321]\n",
            "ecg_amusement_data: [-0.01625061 -0.01643372 -0.01625061 ...  0.08509827  0.06001282\n",
            "  0.05662537]\n",
            "ecg_base_label: [1 1 1 ... 1 1 1]\n",
            "ecg_stress_label: [2 2 2 ... 2 2 2]\n",
            "ecg_amusement_label: [3 3 3 ... 3 3 3]\n",
            "New data shape (2270, 257) Total Shape:  (30834, 257)\n"
          ]
        }
      ],
      "source": [
        "train_data, train_labels = generateData(rest_subjects)"
      ]
    },
    {
      "cell_type": "code",
      "execution_count": null,
      "metadata": {
        "colab": {
          "base_uri": "https://localhost:8080/"
        },
        "id": "s32YkyPqj7y_",
        "outputId": "56cba5e8-c9cf-4bd9-fc98-5ffa050ba404"
      },
      "outputs": [
        {
          "output_type": "execute_result",
          "data": {
            "text/plain": [
              "0.0    16408\n",
              "1.0    16408\n",
              "2.0    16408\n",
              "dtype: int64"
            ]
          },
          "metadata": {},
          "execution_count": 11
        }
      ],
      "source": [
        "train_labels.value_counts()"
      ]
    },
    {
      "cell_type": "code",
      "execution_count": null,
      "metadata": {
        "colab": {
          "base_uri": "https://localhost:8080/"
        },
        "id": "nyAjgJZBl0Jj",
        "outputId": "5d014065-ac08-4b3a-ed74-7b0a9ae41dcd"
      },
      "outputs": [
        {
          "output_type": "stream",
          "name": "stdout",
          "text": [
            "Train data shape: (49224, 256)\n",
            "Train labels shape: (49224, 1)\n",
            "Dimension: 2\n"
          ]
        }
      ],
      "source": [
        "print(\"Train data shape:\", train_data.shape)\n",
        "print(\"Train labels shape:\", train_labels.shape)\n",
        "print(\"Dimension:\", train_labels.ndim)"
      ]
    },
    {
      "cell_type": "code",
      "execution_count": null,
      "metadata": {
        "id": "HW47f_bDl4en"
      },
      "outputs": [],
      "source": [
        "train_labels = pd.DataFrame(train_labels).to_numpy()\n",
        "train_labels = train_labels.reshape(-1)"
      ]
    },
    {
      "cell_type": "code",
      "execution_count": null,
      "metadata": {
        "colab": {
          "base_uri": "https://localhost:8080/"
        },
        "id": "QlRf52_Zl6iN",
        "outputId": "be23c335-415d-49e2-e0a1-e588576de3d8"
      },
      "outputs": [
        {
          "output_type": "stream",
          "name": "stdout",
          "text": [
            "Train labels shape: (49224,)\n",
            "Dimension: 1\n"
          ]
        }
      ],
      "source": [
        "print(\"Train labels shape:\", train_labels.shape)\n",
        "print(\"Dimension:\", train_labels.ndim)"
      ]
    },
    {
      "cell_type": "markdown",
      "metadata": {
        "id": "U5SAmxYMmirO"
      },
      "source": [
        "## Train and Validation data split"
      ]
    },
    {
      "cell_type": "code",
      "execution_count": null,
      "metadata": {
        "id": "l_c3Ut37mk51"
      },
      "outputs": [],
      "source": [
        "X_train, X_val, y_train, y_val = train_test_split(train_data, train_labels, test_size=0.3, random_state=42)"
      ]
    },
    {
      "cell_type": "code",
      "execution_count": null,
      "metadata": {
        "id": "ig64IA0kmoFV"
      },
      "outputs": [],
      "source": [
        "#Reshape train and validation data to (n_samples, 256, 1), where each sample is of size (256, 1)\n",
        "X_train = np.array(X_train).reshape(X_train.shape[0], X_train.shape[1], 1)\n",
        "X_val = np.array(X_val).reshape(X_val.shape[0], X_val.shape[1], 1)"
      ]
    },
    {
      "cell_type": "code",
      "execution_count": null,
      "metadata": {
        "colab": {
          "base_uri": "https://localhost:8080/"
        },
        "id": "mKXU9u__mqpJ",
        "outputId": "755cb0aa-6856-4c99-fa79-01457d8a3a71"
      },
      "outputs": [
        {
          "output_type": "stream",
          "name": "stdout",
          "text": [
            "size of X_train: (34456, 256, 1)\n",
            "size of X_val: (14768, 256, 1)\n",
            "size of y_train: (34456,)\n",
            "size of y_val: (14768,)\n",
            "Train: Counter({1.0: 11509, 2.0: 11474, 0.0: 11473}) \n",
            "Val: Counter({0.0: 4935, 2.0: 4934, 1.0: 4899})\n"
          ]
        }
      ],
      "source": [
        "print('size of X_train:', X_train.shape)\n",
        "print('size of X_val:', X_val.shape)\n",
        "\n",
        "print('size of y_train:', y_train.shape)\n",
        "print('size of y_val:', y_val.shape)\n",
        "\n",
        "print('Train:', Counter(y_train), '\\nVal:', Counter(y_val))"
      ]
    },
    {
      "cell_type": "markdown",
      "metadata": {
        "id": "e7uiR7KCmwYx"
      },
      "source": [
        "## Data Generation - Test"
      ]
    },
    {
      "cell_type": "code",
      "execution_count": null,
      "metadata": {
        "colab": {
          "base_uri": "https://localhost:8080/"
        },
        "id": "bYb4NPismxMm",
        "outputId": "a8ef24cc-5ab7-43c3-c358-d51c8d06ddf1"
      },
      "outputs": [
        {
          "output_type": "stream",
          "name": "stdout",
          "text": [
            "Processing subject id:  15\n",
            "Loading data for S15\n",
            "baseline:  [[-0.17816162]\n",
            " [-0.18022156]\n",
            " [-0.18333435]\n",
            " ...\n",
            " [ 0.0015564 ]\n",
            " [-0.00114441]\n",
            " [-0.00457764]] \n",
            "stress:  [[-0.09370422]\n",
            " [-0.08647156]\n",
            " [-0.08335876]\n",
            " ...\n",
            " [-0.03753662]\n",
            " [-0.02476501]\n",
            " [-0.01661682]] \n",
            "amusement:  [[-0.00105286]\n",
            " [-0.00032043]\n",
            " [ 0.00151062]\n",
            " ...\n",
            " [-0.15348816]\n",
            " [-0.15248108]\n",
            " [-0.15252686]] \n",
            "base_label:  [1 1 1 ... 1 1 1] \n",
            "stress_label:  [2 2 2 ... 2 2 2] \n",
            "amuse_label:  [3 3 3 ... 3 3 3]\n",
            "ecg_base_data: [-0.17816162 -0.18022156 -0.18333435 ...  0.0015564  -0.00114441\n",
            " -0.00457764]\n",
            "ecg_stress_data: [-0.09370422 -0.08647156 -0.08335876 ... -0.03753662 -0.02476501\n",
            " -0.01661682]\n",
            "ecg_amusement_data: [-0.00105286 -0.00032043  0.00151062 ... -0.15348816 -0.15248108\n",
            " -0.15252686]\n",
            "ecg_base_label: [1 1 1 ... 1 1 1]\n",
            "ecg_stress_label: [2 2 2 ... 2 2 2]\n",
            "ecg_amusement_label: [3 3 3 ... 3 3 3]\n",
            "New data shape (2227, 257) Total Shape:  (2227, 257)\n"
          ]
        }
      ],
      "source": [
        "test_data, test_labels = generateData(test_subject)"
      ]
    },
    {
      "cell_type": "code",
      "execution_count": null,
      "metadata": {
        "colab": {
          "base_uri": "https://localhost:8080/"
        },
        "id": "2h66ueEDm0G6",
        "outputId": "228e084c-2fdd-4093-8094-f60fe038da1d"
      },
      "outputs": [
        {
          "output_type": "execute_result",
          "data": {
            "text/plain": [
              "0.0    1173\n",
              "1.0    1173\n",
              "2.0    1173\n",
              "dtype: int64"
            ]
          },
          "metadata": {},
          "execution_count": 19
        }
      ],
      "source": [
        "test_labels.value_counts()"
      ]
    },
    {
      "cell_type": "code",
      "execution_count": null,
      "metadata": {
        "colab": {
          "base_uri": "https://localhost:8080/"
        },
        "id": "gaNtztrom3Tu",
        "outputId": "2cd32a24-3eb5-4e7c-ec00-c5e8c103efb5"
      },
      "outputs": [
        {
          "output_type": "stream",
          "name": "stdout",
          "text": [
            "Test data shape: (3519, 256)\n",
            "Test labels shape: (3519, 1)\n",
            "Dimension: 2\n"
          ]
        }
      ],
      "source": [
        "print(\"Test data shape:\", test_data.shape)\n",
        "print(\"Test labels shape:\", test_labels.shape)\n",
        "print(\"Dimension:\", test_labels.ndim)"
      ]
    },
    {
      "cell_type": "code",
      "execution_count": null,
      "metadata": {
        "id": "BIvOFcQJm5uY"
      },
      "outputs": [],
      "source": [
        "test_labels = pd.DataFrame(test_labels).to_numpy()\n",
        "y_test = test_labels.reshape(-1)"
      ]
    },
    {
      "cell_type": "code",
      "execution_count": null,
      "metadata": {
        "colab": {
          "base_uri": "https://localhost:8080/"
        },
        "id": "QF5BMFzhm8xC",
        "outputId": "82129faa-ed47-487b-aa5e-33482dd8cad7"
      },
      "outputs": [
        {
          "output_type": "stream",
          "name": "stdout",
          "text": [
            "Test labels shape: (3519,)\n",
            "Dimension: 1\n"
          ]
        }
      ],
      "source": [
        "\n",
        "print(\"Test labels shape:\", y_test.shape)\n",
        "print(\"Dimension:\", y_test.ndim)"
      ]
    },
    {
      "cell_type": "code",
      "execution_count": null,
      "metadata": {
        "id": "pPnKWLVRm-5C"
      },
      "outputs": [],
      "source": [
        "#Reshape test data to (n_samples, 256, 1), where each sample is of size (256, 1)\n",
        "X_test = np.array(test_data).reshape(test_data.shape[0], test_data.shape[1], 1)"
      ]
    },
    {
      "cell_type": "code",
      "execution_count": null,
      "metadata": {
        "colab": {
          "base_uri": "https://localhost:8080/"
        },
        "id": "EobSUcZ1nBnM",
        "outputId": "d3f6c7d0-b045-4704-8474-ce552ae002e0"
      },
      "outputs": [
        {
          "output_type": "stream",
          "name": "stdout",
          "text": [
            "size of X_test: (3519, 256, 1)\n",
            "size of y_test: (3519,)\n",
            "Test: Counter({0.0: 1173, 1.0: 1173, 2.0: 1173})\n"
          ]
        }
      ],
      "source": [
        "print('size of X_test:', X_test.shape)\n",
        "print('size of y_test:', y_test.shape)\n",
        "\n",
        "print('Test:', Counter(y_test))"
      ]
    },
    {
      "cell_type": "code",
      "execution_count": null,
      "metadata": {
        "id": "z16qPGJRnEVV"
      },
      "outputs": [],
      "source": [
        "# df_final_data_X = pd.DataFrame(data=all_subject_data[:, :-1])\n",
        "# df_final_data_Y = pd.DataFrame(data=all_subject_data[:,-1])\n",
        "\n",
        "# smote = SMOTE(sampling_strategy='not majority')\n",
        "# X_sm, y_sm = smote.fit_resample(df_final_data_X, df_final_data_Y)\n",
        "# y_sm.value_counts()"
      ]
    },
    {
      "cell_type": "code",
      "execution_count": null,
      "metadata": {
        "id": "TKvi4UTBnHpl"
      },
      "outputs": [],
      "source": [
        "# Reshape train and test data to (n_samples, 256, 1), where each sample is of size (256, 1)\n",
        "# X_train = np.array(X_train).reshape(X_train.shape[0], X_train.shape[1], 1)\n",
        "# X_test = np.array(X_test).reshape(X_test.shape[0], X_test.shape[1], 1)\n",
        "# X_val = np.array(X_val).reshape(X_val.shape[0], X_val.shape[1], 1)"
      ]
    },
    {
      "cell_type": "markdown",
      "metadata": {
        "id": "mFgEMoe5nMjo"
      },
      "source": [
        "## 1D CNN Model Architecture"
      ]
    },
    {
      "cell_type": "code",
      "execution_count": null,
      "metadata": {
        "id": "VFTwbSPOnM-y"
      },
      "outputs": [],
      "source": [
        "from tensorflow.keras.models import Sequential\n",
        "from tensorflow.keras.layers import Dense, Flatten, Conv1D, BatchNormalization, MaxPool1D\n",
        "from tensorflow.keras.optimizers import SGD, Adam\n",
        "from tensorflow.keras.callbacks import LearningRateScheduler\n",
        "from tensorflow.keras import initializers"
      ]
    },
    {
      "cell_type": "code",
      "execution_count": null,
      "metadata": {
        "id": "dr0zVUutnP1b"
      },
      "outputs": [],
      "source": [
        "cnn_model = tf.keras.models.Sequential()\n",
        "cnn_model.add(Conv1D(filters=5, kernel_size=(5,), padding='same',  activation='relu', input_shape = (X_train.shape[1],1), kernel_regularizer =tf.keras.regularizers.l2(l=0.004)))\n",
        "cnn_model.add(MaxPool1D(pool_size=(2,), strides=2))\n",
        "cnn_model.add(Conv1D(filters=10, kernel_size=(5,), padding='same', activation='relu', kernel_regularizer =tf.keras.regularizers.l2(l=0.004)))\n",
        "cnn_model.add(MaxPool1D(pool_size=(2,), strides=2))\n",
        "cnn_model.add(Conv1D(filters=10, kernel_size=(4,), padding='same', activation='relu', kernel_regularizer =tf.keras.regularizers.l2(l=0.004)))\n",
        "cnn_model.add(MaxPool1D(pool_size=(2,), strides=2))\n",
        "cnn_model.add(Flatten())\n",
        "cnn_model.add(Dense(units = 128, kernel_regularizer =tf.keras.regularizers.l2(l=0.004)))\n",
        "cnn_model.add(Dense(units = 3, activation='softmax'))"
      ]
    },
    {
      "cell_type": "code",
      "execution_count": null,
      "metadata": {
        "id": "puMEWDAjnSEu"
      },
      "outputs": [],
      "source": [
        "epochs=50\n",
        "batch_size = 32"
      ]
    },
    {
      "cell_type": "code",
      "execution_count": null,
      "metadata": {
        "id": "5nNN09TAnU_H"
      },
      "outputs": [],
      "source": [
        "def step_decay(epoch):\n",
        "   initial_lrate = 0.005\n",
        "   drop = 0.6\n",
        "   epochs_drop = 10.0\n",
        "   lrate = initial_lrate * math.pow(drop, math.floor((1+epoch)/epochs_drop))\n",
        "   return lrate\n",
        "\n",
        "lrate = LearningRateScheduler(step_decay)"
      ]
    },
    {
      "cell_type": "code",
      "execution_count": null,
      "metadata": {
        "id": "XfvmSFjQnXeo"
      },
      "outputs": [],
      "source": [
        "class LossHistory(tf.keras.callbacks.Callback):\n",
        "    def on_train_begin(self, logs={}):\n",
        "       self.losses = []\n",
        "       self.lr = []\n",
        " \n",
        "    def on_epoch_end(self, batch, logs={}):\n",
        "       self.losses.append(logs.get('loss'))\n",
        "       self.lr.append(step_decay(len(self.losses)))"
      ]
    },
    {
      "cell_type": "code",
      "execution_count": null,
      "metadata": {
        "id": "OPHYi16enZrZ"
      },
      "outputs": [],
      "source": [
        "loss_history = LossHistory()\n",
        "lrate = LearningRateScheduler(step_decay)\n",
        "callbacks_list = [loss_history, lrate]"
      ]
    },
    {
      "cell_type": "code",
      "execution_count": null,
      "metadata": {
        "colab": {
          "base_uri": "https://localhost:8080/"
        },
        "id": "TBY94JFEnb8l",
        "outputId": "da2ec44b-c2bc-4eed-a91d-7221a4833a7a"
      },
      "outputs": [
        {
          "output_type": "stream",
          "name": "stdout",
          "text": [
            "Model: \"sequential\"\n",
            "_________________________________________________________________\n",
            " Layer (type)                Output Shape              Param #   \n",
            "=================================================================\n",
            " conv1d (Conv1D)             (None, 256, 5)            30        \n",
            "                                                                 \n",
            " max_pooling1d (MaxPooling1D  (None, 128, 5)           0         \n",
            " )                                                               \n",
            "                                                                 \n",
            " conv1d_1 (Conv1D)           (None, 128, 10)           260       \n",
            "                                                                 \n",
            " max_pooling1d_1 (MaxPooling  (None, 64, 10)           0         \n",
            " 1D)                                                             \n",
            "                                                                 \n",
            " conv1d_2 (Conv1D)           (None, 64, 10)            410       \n",
            "                                                                 \n",
            " max_pooling1d_2 (MaxPooling  (None, 32, 10)           0         \n",
            " 1D)                                                             \n",
            "                                                                 \n",
            " flatten (Flatten)           (None, 320)               0         \n",
            "                                                                 \n",
            " dense (Dense)               (None, 128)               41088     \n",
            "                                                                 \n",
            " dense_1 (Dense)             (None, 3)                 387       \n",
            "                                                                 \n",
            "=================================================================\n",
            "Total params: 42,175\n",
            "Trainable params: 42,175\n",
            "Non-trainable params: 0\n",
            "_________________________________________________________________\n"
          ]
        }
      ],
      "source": [
        "opt = tf.keras.optimizers.SGD( learning_rate=0.0, momentum=0.6, nesterov=False)\n",
        "\n",
        "cnn_model.compile(optimizer= opt, loss = 'sparse_categorical_crossentropy', metrics=['accuracy'])\n",
        "\n",
        "cnn_model.summary()"
      ]
    },
    {
      "cell_type": "code",
      "execution_count": null,
      "metadata": {
        "colab": {
          "base_uri": "https://localhost:8080/"
        },
        "id": "VuDJK5Rsnd6A",
        "outputId": "55bf7d97-a7ac-4d61-f432-77f615d37bf0"
      },
      "outputs": [
        {
          "output_type": "stream",
          "name": "stdout",
          "text": [
            "Epoch 1/50\n",
            "1077/1077 - 17s - loss: 1.8223 - accuracy: 0.3322 - val_loss: 1.7468 - val_accuracy: 0.3342 - lr: 0.0050 - 17s/epoch - 16ms/step\n",
            "Epoch 2/50\n",
            "1077/1077 - 5s - loss: 1.6820 - accuracy: 0.3317 - val_loss: 1.6212 - val_accuracy: 0.3341 - lr: 0.0050 - 5s/epoch - 5ms/step\n",
            "Epoch 3/50\n",
            "1077/1077 - 5s - loss: 1.5690 - accuracy: 0.3307 - val_loss: 1.5199 - val_accuracy: 0.3342 - lr: 0.0050 - 5s/epoch - 5ms/step\n",
            "Epoch 4/50\n",
            "1077/1077 - 5s - loss: 1.4779 - accuracy: 0.3341 - val_loss: 1.4384 - val_accuracy: 0.3342 - lr: 0.0050 - 5s/epoch - 5ms/step\n",
            "Epoch 5/50\n",
            "1077/1077 - 5s - loss: 1.4045 - accuracy: 0.3319 - val_loss: 1.3724 - val_accuracy: 0.3341 - lr: 0.0050 - 5s/epoch - 5ms/step\n",
            "Epoch 6/50\n",
            "1077/1077 - 5s - loss: 1.3452 - accuracy: 0.3317 - val_loss: 1.3196 - val_accuracy: 0.3342 - lr: 0.0050 - 5s/epoch - 5ms/step\n",
            "Epoch 7/50\n",
            "1077/1077 - 5s - loss: 1.2975 - accuracy: 0.3290 - val_loss: 1.2767 - val_accuracy: 0.3317 - lr: 0.0050 - 5s/epoch - 5ms/step\n",
            "Epoch 8/50\n",
            "1077/1077 - 5s - loss: 1.2590 - accuracy: 0.3338 - val_loss: 1.2421 - val_accuracy: 0.3317 - lr: 0.0050 - 5s/epoch - 5ms/step\n",
            "Epoch 9/50\n",
            "1077/1077 - 5s - loss: 1.2279 - accuracy: 0.3328 - val_loss: 1.2143 - val_accuracy: 0.3341 - lr: 0.0050 - 5s/epoch - 5ms/step\n",
            "Epoch 10/50\n",
            "1077/1077 - 5s - loss: 1.2072 - accuracy: 0.3361 - val_loss: 1.2004 - val_accuracy: 0.3342 - lr: 0.0030 - 5s/epoch - 5ms/step\n",
            "Epoch 11/50\n",
            "1077/1077 - 5s - loss: 1.1941 - accuracy: 0.3290 - val_loss: 1.1881 - val_accuracy: 0.3342 - lr: 0.0030 - 5s/epoch - 5ms/step\n",
            "Epoch 12/50\n",
            "1077/1077 - 5s - loss: 1.1825 - accuracy: 0.3339 - val_loss: 1.1772 - val_accuracy: 0.3342 - lr: 0.0030 - 5s/epoch - 5ms/step\n",
            "Epoch 13/50\n",
            "1077/1077 - 5s - loss: 1.1724 - accuracy: 0.3327 - val_loss: 1.1680 - val_accuracy: 0.3317 - lr: 0.0030 - 5s/epoch - 5ms/step\n",
            "Epoch 14/50\n",
            "1077/1077 - 5s - loss: 1.1634 - accuracy: 0.3316 - val_loss: 1.1592 - val_accuracy: 0.3342 - lr: 0.0030 - 5s/epoch - 5ms/step\n",
            "Epoch 15/50\n",
            "1077/1077 - 5s - loss: 1.1556 - accuracy: 0.3334 - val_loss: 1.1520 - val_accuracy: 0.3341 - lr: 0.0030 - 5s/epoch - 5ms/step\n",
            "Epoch 16/50\n",
            "1077/1077 - 5s - loss: 1.1487 - accuracy: 0.3314 - val_loss: 1.1455 - val_accuracy: 0.3317 - lr: 0.0030 - 5s/epoch - 5ms/step\n",
            "Epoch 17/50\n",
            "1077/1077 - 5s - loss: 1.1427 - accuracy: 0.3314 - val_loss: 1.1398 - val_accuracy: 0.3317 - lr: 0.0030 - 5s/epoch - 5ms/step\n",
            "Epoch 18/50\n",
            "1077/1077 - 5s - loss: 1.1374 - accuracy: 0.3277 - val_loss: 1.1347 - val_accuracy: 0.3341 - lr: 0.0030 - 5s/epoch - 5ms/step\n",
            "Epoch 19/50\n",
            "1077/1077 - 5s - loss: 1.1326 - accuracy: 0.3322 - val_loss: 1.1304 - val_accuracy: 0.3342 - lr: 0.0030 - 5s/epoch - 5ms/step\n",
            "Epoch 20/50\n",
            "1077/1077 - 5s - loss: 1.1293 - accuracy: 0.3329 - val_loss: 1.1281 - val_accuracy: 0.3317 - lr: 0.0018 - 5s/epoch - 5ms/step\n",
            "Epoch 21/50\n",
            "1077/1077 - 5s - loss: 1.1270 - accuracy: 0.3264 - val_loss: 1.1258 - val_accuracy: 0.3341 - lr: 0.0018 - 5s/epoch - 5ms/step\n",
            "Epoch 22/50\n",
            "1077/1077 - 5s - loss: 1.1249 - accuracy: 0.3321 - val_loss: 1.1238 - val_accuracy: 0.3342 - lr: 0.0018 - 5s/epoch - 5ms/step\n",
            "Epoch 23/50\n",
            "1077/1077 - 5s - loss: 1.1229 - accuracy: 0.3284 - val_loss: 1.1219 - val_accuracy: 0.3317 - lr: 0.0018 - 5s/epoch - 5ms/step\n",
            "Epoch 24/50\n",
            "1077/1077 - 5s - loss: 1.1211 - accuracy: 0.3323 - val_loss: 1.1202 - val_accuracy: 0.3317 - lr: 0.0018 - 5s/epoch - 5ms/step\n",
            "Epoch 25/50\n",
            "1077/1077 - 5s - loss: 1.1195 - accuracy: 0.3286 - val_loss: 1.1186 - val_accuracy: 0.3317 - lr: 0.0018 - 5s/epoch - 5ms/step\n",
            "Epoch 26/50\n",
            "1077/1077 - 5s - loss: 1.1179 - accuracy: 0.3349 - val_loss: 1.1171 - val_accuracy: 0.3317 - lr: 0.0018 - 5s/epoch - 5ms/step\n",
            "Epoch 27/50\n",
            "1077/1077 - 5s - loss: 1.1164 - accuracy: 0.3316 - val_loss: 1.1157 - val_accuracy: 0.3341 - lr: 0.0018 - 5s/epoch - 5ms/step\n",
            "Epoch 28/50\n",
            "1077/1077 - 5s - loss: 1.1151 - accuracy: 0.3288 - val_loss: 1.1144 - val_accuracy: 0.3341 - lr: 0.0018 - 5s/epoch - 5ms/step\n",
            "Epoch 29/50\n",
            "1077/1077 - 5s - loss: 1.1139 - accuracy: 0.3318 - val_loss: 1.1133 - val_accuracy: 0.3342 - lr: 0.0018 - 5s/epoch - 5ms/step\n",
            "Epoch 30/50\n",
            "1077/1077 - 5s - loss: 1.1130 - accuracy: 0.3311 - val_loss: 1.1126 - val_accuracy: 0.3317 - lr: 0.0011 - 5s/epoch - 5ms/step\n",
            "Epoch 31/50\n",
            "1077/1077 - 5s - loss: 1.1123 - accuracy: 0.3374 - val_loss: 1.1120 - val_accuracy: 0.3342 - lr: 0.0011 - 5s/epoch - 5ms/step\n",
            "Epoch 32/50\n",
            "1077/1077 - 5s - loss: 1.1117 - accuracy: 0.3288 - val_loss: 1.1113 - val_accuracy: 0.3317 - lr: 0.0011 - 5s/epoch - 5ms/step\n",
            "Epoch 33/50\n",
            "1077/1077 - 5s - loss: 1.1111 - accuracy: 0.3315 - val_loss: 1.1108 - val_accuracy: 0.3317 - lr: 0.0011 - 5s/epoch - 5ms/step\n",
            "Epoch 34/50\n",
            "1077/1077 - 5s - loss: 1.1105 - accuracy: 0.3340 - val_loss: 1.1102 - val_accuracy: 0.3342 - lr: 0.0011 - 5s/epoch - 5ms/step\n",
            "Epoch 35/50\n",
            "1077/1077 - 5s - loss: 1.1100 - accuracy: 0.3330 - val_loss: 1.1097 - val_accuracy: 0.3342 - lr: 0.0011 - 5s/epoch - 5ms/step\n",
            "Epoch 36/50\n",
            "1077/1077 - 5s - loss: 1.1095 - accuracy: 0.3310 - val_loss: 1.1092 - val_accuracy: 0.3342 - lr: 0.0011 - 5s/epoch - 5ms/step\n",
            "Epoch 37/50\n",
            "1077/1077 - 5s - loss: 1.1090 - accuracy: 0.3304 - val_loss: 1.1087 - val_accuracy: 0.3317 - lr: 0.0011 - 5s/epoch - 5ms/step\n",
            "Epoch 38/50\n",
            "1077/1077 - 5s - loss: 1.1085 - accuracy: 0.3326 - val_loss: 1.1083 - val_accuracy: 0.3317 - lr: 0.0011 - 5s/epoch - 5ms/step\n",
            "Epoch 39/50\n",
            "1077/1077 - 5s - loss: 1.1080 - accuracy: 0.3350 - val_loss: 1.1078 - val_accuracy: 0.3341 - lr: 0.0011 - 5s/epoch - 5ms/step\n",
            "Epoch 40/50\n",
            "1077/1077 - 5s - loss: 1.1077 - accuracy: 0.3320 - val_loss: 1.1075 - val_accuracy: 0.3341 - lr: 6.4800e-04 - 5s/epoch - 5ms/step\n",
            "Epoch 41/50\n",
            "1077/1077 - 5s - loss: 1.1075 - accuracy: 0.3322 - val_loss: 1.1073 - val_accuracy: 0.3342 - lr: 6.4800e-04 - 5s/epoch - 5ms/step\n",
            "Epoch 42/50\n",
            "1077/1077 - 5s - loss: 1.1072 - accuracy: 0.3289 - val_loss: 1.1071 - val_accuracy: 0.3342 - lr: 6.4800e-04 - 5s/epoch - 5ms/step\n",
            "Epoch 43/50\n",
            "1077/1077 - 5s - loss: 1.1070 - accuracy: 0.3310 - val_loss: 1.1068 - val_accuracy: 0.3317 - lr: 6.4800e-04 - 5s/epoch - 5ms/step\n",
            "Epoch 44/50\n",
            "1077/1077 - 5s - loss: 1.1068 - accuracy: 0.3272 - val_loss: 1.1066 - val_accuracy: 0.3317 - lr: 6.4800e-04 - 5s/epoch - 5ms/step\n",
            "Epoch 45/50\n",
            "1077/1077 - 5s - loss: 1.1065 - accuracy: 0.3340 - val_loss: 1.1064 - val_accuracy: 0.3342 - lr: 6.4800e-04 - 5s/epoch - 5ms/step\n",
            "Epoch 46/50\n",
            "1077/1077 - 5s - loss: 1.1063 - accuracy: 0.3300 - val_loss: 1.1062 - val_accuracy: 0.3342 - lr: 6.4800e-04 - 5s/epoch - 5ms/step\n",
            "Epoch 47/50\n",
            "1077/1077 - 5s - loss: 1.1061 - accuracy: 0.3338 - val_loss: 1.1060 - val_accuracy: 0.3342 - lr: 6.4800e-04 - 5s/epoch - 5ms/step\n",
            "Epoch 48/50\n",
            "1077/1077 - 5s - loss: 1.1059 - accuracy: 0.3294 - val_loss: 1.1058 - val_accuracy: 0.3342 - lr: 6.4800e-04 - 5s/epoch - 5ms/step\n",
            "Epoch 49/50\n",
            "1077/1077 - 5s - loss: 1.1057 - accuracy: 0.3302 - val_loss: 1.1056 - val_accuracy: 0.3317 - lr: 6.4800e-04 - 5s/epoch - 5ms/step\n",
            "Epoch 50/50\n",
            "1077/1077 - 5s - loss: 1.1055 - accuracy: 0.3335 - val_loss: 1.1055 - val_accuracy: 0.3317 - lr: 3.8880e-04 - 5s/epoch - 5ms/step\n"
          ]
        }
      ],
      "source": [
        "history = cnn_model.fit(X_train, y_train, epochs = epochs, batch_size = batch_size, validation_data = (X_val, y_val), callbacks=callbacks_list, verbose=2)"
      ]
    },
    {
      "cell_type": "code",
      "execution_count": null,
      "metadata": {
        "colab": {
          "base_uri": "https://localhost:8080/",
          "height": 308
        },
        "id": "Gz3CYezenojG",
        "outputId": "e72277c6-8eac-4209-fb8d-031cbffda353"
      },
      "outputs": [
        {
          "output_type": "display_data",
          "data": {
            "text/plain": [
              "<Figure size 864x288 with 2 Axes>"
            ],
            "image/png": "[encoded data removed]"
          },
          "metadata": {
            "needs_background": "light"
          }
        }
      ],
      "source": [
        "f, (ax1, ax2) = plt.subplots(1, 2, figsize=(12, 4))\n",
        "t = f.suptitle('1D CNN Performance', fontsize=12)\n",
        "f.subplots_adjust(top=0.85, wspace=0.3)\n",
        "\n",
        "max_epoch = len(history.history['accuracy'])+1\n",
        "epoch_list = list(range(1,max_epoch))\n",
        "ax1.plot(epoch_list, history.history['accuracy'], label='Train Accuracy')\n",
        "ax1.plot(epoch_list, history.history['val_accuracy'], label='Validation Accuracy')\n",
        "ax1.set_xticks(np.arange(1, max_epoch, 5))\n",
        "ax1.set_ylabel('Accuracy Value')\n",
        "ax1.set_xlabel('Epoch')\n",
        "ax1.set_title('Accuracy')\n",
        "l1 = ax1.legend(loc=\"best\")\n",
        "\n",
        "ax2.plot(epoch_list, history.history['loss'], label='Train Loss')\n",
        "ax2.plot(epoch_list, history.history['val_loss'], label='Validation Loss')\n",
        "ax2.set_xticks(np.arange(1, max_epoch, 5))\n",
        "ax2.set_ylabel('Loss Value')\n",
        "ax2.set_xlabel('Epoch')\n",
        "ax2.set_title('Loss')\n",
        "l2 = ax2.legend(loc=\"best\")"
      ]
    },
    {
      "cell_type": "code",
      "execution_count": null,
      "metadata": {
        "colab": {
          "base_uri": "https://localhost:8080/"
        },
        "id": "VmMIRJpIoM-e",
        "outputId": "c10d378b-eb02-469a-f18b-48eb97127e6c"
      },
      "outputs": [
        {
          "output_type": "stream",
          "name": "stdout",
          "text": [
            "110/110 [==============================] - 0s 3ms/step - loss: 1.1054 - accuracy: 0.3333\n"
          ]
        },
        {
          "output_type": "execute_result",
          "data": {
            "text/plain": [
              "[1.1054459810256958, 0.3333333432674408]"
            ]
          },
          "metadata": {},
          "execution_count": 36
        }
      ],
      "source": [
        "cnn_model.evaluate(X_test, y_test)"
      ]
    },
    {
      "cell_type": "code",
      "execution_count": null,
      "metadata": {
        "colab": {
          "base_uri": "https://localhost:8080/"
        },
        "id": "BeNim5wNo8u9",
        "outputId": "5d999e68-e16d-4799-b9a7-7e68bfb4d889"
      },
      "outputs": [
        {
          "name": "stdout",
          "output_type": "stream",
          "text": [
            "Classification Report: \n",
            "               precision    recall  f1-score   support\n",
            "\n",
            "         0.0       0.54      0.76      0.63      1196\n",
            "         1.0       1.00      0.30      0.46      1196\n",
            "         2.0       0.29      0.38      0.33      1196\n",
            "\n",
            "    accuracy                           0.48      3588\n",
            "   macro avg       0.61      0.48      0.48      3588\n",
            "weighted avg       0.61      0.48      0.48      3588\n",
            "\n"
          ]
        }
      ],
      "source": [
        "from sklearn.metrics import confusion_matrix , classification_report\n",
        "y_pred = cnn_model.predict(X_test)\n",
        "y_pred_classes = [np.argmax(element) for element in y_pred]\n",
        "\n",
        "print(\"Classification Report: \\n\", classification_report(y_test, y_pred_classes))"
      ]
    },
    {
      "cell_type": "code",
      "execution_count": null,
      "metadata": {
        "id": "Czv7Nbkhun2d"
      },
      "outputs": [],
      "source": [
        ""
      ]
    }
  ],
  "metadata": {
    "accelerator": "GPU",
    "colab": {
      "collapsed_sections": [],
      "machine_shape": "hm",
      "name": "1D_CNN_WESAD.ipynb",
      "provenance": []
    },
    "gpuClass": "standard",
    "kernelspec": {
      "display_name": "Python 3",
      "name": "python3"
    },
    "language_info": {
      "name": "python"
    }
  },
  "nbformat": 4,
  "nbformat_minor": 0
}