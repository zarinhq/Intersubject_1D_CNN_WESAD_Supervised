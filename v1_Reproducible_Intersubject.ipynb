{
 "cells": [
  {
   "cell_type": "markdown",
   "id": "918c2cab",
   "metadata": {},
   "source": [
    "## Install Dependencies"
   ]
  },
  {
   "cell_type": "code",
   "execution_count": 1,
   "id": "72f7194c",
   "metadata": {},
   "outputs": [],
   "source": [
    "seed_value = 42\n",
    "import os\n",
    "os.environ['PYTHONHASHSEED']=str(seed_value)"
   ]
  },
  {
   "cell_type": "code",
   "execution_count": 2,
   "id": "e3bfe605",
   "metadata": {},
   "outputs": [
    {
     "name": "stdout",
     "output_type": "stream",
     "text": [
      "Requirement already satisfied: wfdb in ./miniconda/lib/python3.9/site-packages (4.0.0)\n",
      "Requirement already satisfied: wget in ./miniconda/lib/python3.9/site-packages (3.2)\n",
      "Requirement already satisfied: tqdm in ./miniconda/lib/python3.9/site-packages (4.64.0)\n",
      "Requirement already satisfied: biosppy in ./miniconda/lib/python3.9/site-packages (1.0.0)\n",
      "Requirement already satisfied: imbalanced-learn in ./miniconda/lib/python3.9/site-packages (0.9.1)\n",
      "Requirement already satisfied: seaborn in ./miniconda/lib/python3.9/site-packages (0.12.1)\n",
      "Requirement already satisfied: scipy<2.0.0,>=1.0.0 in ./miniconda/lib/python3.9/site-packages (from wfdb) (1.9.3)\n",
      "Requirement already satisfied: SoundFile<0.12.0,>=0.10.0 in ./miniconda/lib/python3.9/site-packages (from wfdb) (0.11.0)\n",
      "Collecting matplotlib<4.0.0,>=3.2.2\n",
      "  Using cached matplotlib-3.6.2-cp39-cp39-macosx_11_0_arm64.whl (7.2 MB)\n",
      "Requirement already satisfied: numpy<2.0.0,>=1.10.1 in ./miniconda/lib/python3.9/site-packages (from wfdb) (1.23.4)\n",
      "Requirement already satisfied: requests<3.0.0,>=2.8.1 in ./miniconda/lib/python3.9/site-packages (from wfdb) (2.27.1)\n",
      "Requirement already satisfied: pandas<2.0.0,>=1.0.0 in ./miniconda/lib/python3.9/site-packages (from wfdb) (1.5.1)\n",
      "Requirement already satisfied: h5py in ./miniconda/lib/python3.9/site-packages (from biosppy) (3.6.0)\n",
      "Requirement already satisfied: six in ./miniconda/lib/python3.9/site-packages (from biosppy) (1.16.0)\n",
      "Requirement already satisfied: scikit-learn in ./miniconda/lib/python3.9/site-packages (from biosppy) (1.1.3)\n",
      "Requirement already satisfied: bidict in ./miniconda/lib/python3.9/site-packages (from biosppy) (0.22.0)\n",
      "Requirement already satisfied: shortuuid in ./miniconda/lib/python3.9/site-packages (from biosppy) (1.0.11)\n",
      "Requirement already satisfied: opencv-python in ./miniconda/lib/python3.9/site-packages (from biosppy) (4.6.0.66)\n",
      "Requirement already satisfied: joblib in ./miniconda/lib/python3.9/site-packages (from biosppy) (1.2.0)\n",
      "Requirement already satisfied: threadpoolctl>=2.0.0 in ./miniconda/lib/python3.9/site-packages (from imbalanced-learn) (3.1.0)\n",
      "Requirement already satisfied: fonttools>=4.22.0 in ./miniconda/lib/python3.9/site-packages (from matplotlib<4.0.0,>=3.2.2->wfdb) (4.38.0)\n",
      "Requirement already satisfied: packaging>=20.0 in ./miniconda/lib/python3.9/site-packages (from matplotlib<4.0.0,>=3.2.2->wfdb) (21.3)\n",
      "Requirement already satisfied: kiwisolver>=1.0.1 in ./miniconda/lib/python3.9/site-packages (from matplotlib<4.0.0,>=3.2.2->wfdb) (1.4.4)\n",
      "Requirement already satisfied: contourpy>=1.0.1 in ./miniconda/lib/python3.9/site-packages (from matplotlib<4.0.0,>=3.2.2->wfdb) (1.0.6)\n",
      "Requirement already satisfied: pyparsing>=2.2.1 in ./miniconda/lib/python3.9/site-packages (from matplotlib<4.0.0,>=3.2.2->wfdb) (3.0.9)\n",
      "Requirement already satisfied: cycler>=0.10 in ./miniconda/lib/python3.9/site-packages (from matplotlib<4.0.0,>=3.2.2->wfdb) (0.11.0)\n",
      "Requirement already satisfied: pillow>=6.2.0 in ./miniconda/lib/python3.9/site-packages (from matplotlib<4.0.0,>=3.2.2->wfdb) (9.3.0)\n",
      "Requirement already satisfied: python-dateutil>=2.7 in ./miniconda/lib/python3.9/site-packages (from matplotlib<4.0.0,>=3.2.2->wfdb) (2.8.2)\n",
      "Requirement already satisfied: pytz>=2020.1 in ./miniconda/lib/python3.9/site-packages (from pandas<2.0.0,>=1.0.0->wfdb) (2022.6)\n",
      "Requirement already satisfied: idna<4,>=2.5 in ./miniconda/lib/python3.9/site-packages (from requests<3.0.0,>=2.8.1->wfdb) (3.3)\n",
      "Requirement already satisfied: urllib3<1.27,>=1.21.1 in ./miniconda/lib/python3.9/site-packages (from requests<3.0.0,>=2.8.1->wfdb) (1.26.9)\n",
      "Requirement already satisfied: certifi>=2017.4.17 in ./miniconda/lib/python3.9/site-packages (from requests<3.0.0,>=2.8.1->wfdb) (2022.9.24)\n",
      "Requirement already satisfied: charset-normalizer~=2.0.0 in ./miniconda/lib/python3.9/site-packages (from requests<3.0.0,>=2.8.1->wfdb) (2.0.4)\n",
      "Requirement already satisfied: cffi>=1.0 in ./miniconda/lib/python3.9/site-packages (from SoundFile<0.12.0,>=0.10.0->wfdb) (1.15.0)\n",
      "Requirement already satisfied: pycparser in ./miniconda/lib/python3.9/site-packages (from cffi>=1.0->SoundFile<0.12.0,>=0.10.0->wfdb) (2.21)\n",
      "Installing collected packages: matplotlib\n",
      "  Attempting uninstall: matplotlib\n",
      "    Found existing installation: matplotlib 3.1.3\n",
      "    Uninstalling matplotlib-3.1.3:\n",
      "      Successfully uninstalled matplotlib-3.1.3\n",
      "Successfully installed matplotlib-3.6.2\n",
      "Note: you may need to restart the kernel to use updated packages.\n"
     ]
    }
   ],
   "source": [
    "pip install wfdb wget tqdm biosppy imbalanced-learn seaborn"
   ]
  },
  {
   "cell_type": "markdown",
   "id": "c6250356",
   "metadata": {},
   "source": [
    "## Importing Libraries"
   ]
  },
  {
   "cell_type": "code",
   "execution_count": 3,
   "id": "713c0a4c",
   "metadata": {},
   "outputs": [],
   "source": [
    "import tensorflow as tf\n",
    "import matplotlib.pyplot as plt\n",
    "import pandas as pd\n",
    "import numpy as np\n",
    "from glob import glob\n",
    "import wget\n",
    "import math\n",
    "import zipfile\n",
    "import wfdb as wf\n",
    "import pickle\n",
    "import sys\n",
    "import datetime\n",
    "import cv2\n",
    "import random\n",
    "import random as python_random\n",
    "from scipy import signal\n",
    "from scipy.signal import resample\n",
    "from scipy.signal import find_peaks\n",
    "from pathlib import Path\n",
    "from sklearn.model_selection import train_test_split\n",
    "from collections import Counter\n",
    "from sklearn.preprocessing import LabelEncoder\n",
    "from imblearn.over_sampling import SMOTE"
   ]
  },
  {
   "cell_type": "code",
   "execution_count": 4,
   "id": "bc66bc35",
   "metadata": {},
   "outputs": [],
   "source": [
    "def reset_random_seeds():\n",
    "   os.environ['PYTHONHASHSEED']=str(seed_value)\n",
    "   tf.random.set_seed(seed_value)\n",
    "   np.random.seed(seed_value)\n",
    "   random.seed(seed_value)"
   ]
  },
  {
   "cell_type": "code",
   "execution_count": 5,
   "id": "846dd319",
   "metadata": {},
   "outputs": [
    {
     "name": "stdout",
     "output_type": "stream",
     "text": [
      "7\n",
      "0.6394267984578837\n",
      "Metal device set to: Apple M1\n",
      "tf.Tensor([0.6645621], shape=(1,), dtype=float32)\n"
     ]
    },
    {
     "name": "stderr",
     "output_type": "stream",
     "text": [
      "2022-12-22 00:03:44.116757: I tensorflow/core/common_runtime/pluggable_device/pluggable_device_factory.cc:306] Could not identify NUMA node of platform GPU ID 0, defaulting to 0. Your kernel may not have been built with NUMA support.\n",
      "2022-12-22 00:03:44.117007: I tensorflow/core/common_runtime/pluggable_device/pluggable_device_factory.cc:272] Created TensorFlow device (/job:localhost/replica:0/task:0/device:GPU:0 with 0 MB memory) -> physical PluggableDevice (device: 0, name: METAL, pci bus id: <undefined>)\n"
     ]
    }
   ],
   "source": [
    "np.random.seed(seed_value)\n",
    "vec = np.random.randint(1, 10)\n",
    "print(vec)\n",
    "random.seed(42)\n",
    "print(random.random())\n",
    "tf.random.set_seed(42)\n",
    "print(tf.random.uniform([1])) "
   ]
  },
  {
   "cell_type": "markdown",
   "id": "222ea7e0",
   "metadata": {},
   "source": [
    "## Extracting Data"
   ]
  },
  {
   "cell_type": "code",
   "execution_count": 6,
   "id": "7d9ec058",
   "metadata": {},
   "outputs": [],
   "source": [
    "module = os.path.abspath('./WESAD/')\n",
    "if module not in sys.path:\n",
    "    sys.path.append(module)\n",
    "from DataManager import DataManager"
   ]
  },
  {
   "cell_type": "markdown",
   "id": "f16ff72e",
   "metadata": {},
   "source": [
    "## Data Preprocessing"
   ]
  },
  {
   "cell_type": "code",
   "execution_count": 7,
   "id": "bc630bdd",
   "metadata": {},
   "outputs": [],
   "source": [
    "# config\n",
    "debug = False;"
   ]
  },
  {
   "cell_type": "code",
   "execution_count": 8,
   "id": "0d8d66af",
   "metadata": {},
   "outputs": [],
   "source": [
    "# subject_ids = [2, 3, 4, 5, 6, 7, 8, 9, 10, 11, 13, 14, 15, 16, 17]"
   ]
  },
  {
   "cell_type": "code",
   "execution_count": 9,
   "id": "c1d8eff6",
   "metadata": {},
   "outputs": [],
   "source": [
    "test_subject = [4]\n",
    "rest_subjects = [2, 3, 5, 6, 7, 8, 9, 10, 11, 13, 14, 15, 16, 17]"
   ]
  },
  {
   "cell_type": "code",
   "execution_count": 10,
   "id": "66da8248",
   "metadata": {},
   "outputs": [],
   "source": [
    "def generateData(subject_ids):\n",
    "    data = DataManager()\n",
    "    all_subject_data = np.array([]);\n",
    "    all_subject_labels = np.array([]);\n",
    "\n",
    "#     subject_ids = [2, 3]\n",
    "\n",
    "    for subject_id in subject_ids:\n",
    "        if(debug): print(\"Processing subject id: \", subject_id);\n",
    "        subject = data.load(subject_id)\n",
    "\n",
    "\n",
    "        if(debug):\n",
    "            print('baseline: ', subject[0], '\\nstress: ', subject[1], '\\namusement: ', subject[2], '\\nbase_label: ', subject[3], '\\nstress_label: ', subject[4], '\\namuse_label: ', subject[5])\n",
    "\n",
    "        ecg_base = subject[0]\n",
    "        ecg_stress = subject[1]\n",
    "        ecg_amusement = subject[2]\n",
    "\n",
    "        base_label = subject[3]\n",
    "        stress_label = subject[4]\n",
    "        amuse_label = subject[5]\n",
    "\n",
    "        ecg_base_T = ecg_base.T\n",
    "        ecg_stress_T = ecg_stress.T\n",
    "        ecg_amusement_T = ecg_amusement.T\n",
    "\n",
    "        ecg_base_data = ecg_base_T[0]\n",
    "        ecg_stress_data = ecg_stress_T[0]\n",
    "        ecg_amusement_data = ecg_amusement_T[0]\n",
    "\n",
    "        ecg_base_label =  base_label.T\n",
    "        ecg_stress_label  = stress_label.T\n",
    "        ecg_amusement_label  = amuse_label.T\n",
    "\n",
    "        if(debug):\n",
    "            print('ecg_base_data:', ecg_base_data)\n",
    "            print('ecg_stress_data:', ecg_stress_data)\n",
    "            print('ecg_amusement_data:', ecg_amusement_data)\n",
    "\n",
    "            print('ecg_base_label:', ecg_base_label)\n",
    "            print('ecg_stress_label:', ecg_stress_label)\n",
    "            print('ecg_amusement_label:', ecg_amusement_label)\n",
    "\n",
    "\n",
    "        base_secs = len(ecg_base_data) // 700 # Number of seconds in signal X\n",
    "        base_samps = int(base_secs * 256 )    # Number of samples to downsample\n",
    "        base_down = signal.resample(ecg_base_data, base_samps)\n",
    "\n",
    "\n",
    "        stress_secs = len(ecg_stress_data) // 700 # Number of seconds in signal X\n",
    "        stress_samps = int(stress_secs * 256 )    # Number of samples to downsample\n",
    "        stress_down = signal.resample(ecg_stress_data, stress_samps)\n",
    "\n",
    "\n",
    "        amuse_secs = len(ecg_amusement_data) // 700 # Number of seconds in signal X\n",
    "        amuse_samps = int(amuse_secs * 256 )    # Number of samples to downsample\n",
    "        amuse_down = signal.resample(ecg_amusement_data, amuse_samps)\n",
    "\n",
    "    #     heart_beat_base = np.array_split(base_down, 256)\n",
    "    #     heart_beat_stress = np.array_split(stress_down, 256)\n",
    "    #     heart_beat_amuse = np.array_split(amuse_down, 256)\n",
    "\n",
    "        window_size = 256\n",
    "        window_shift = 256\n",
    "\n",
    "        heart_beat_base = []\n",
    "        for i in range(0,len(base_down) - window_size,window_shift):\n",
    "            heart_beat_base.append(base_down[i:window_size + i])\n",
    "        heart_beat_base.pop()\n",
    "    #     heart_beat_base = np.array(list(heart_beat_base[:]), dtype=float)\n",
    "\n",
    "        heart_beat_stress = []\n",
    "        for i in range(0,len(stress_down) - window_size,window_shift):\n",
    "            heart_beat_stress.append(stress_down[i:window_size + i])\n",
    "        heart_beat_stress.pop()\n",
    "    #     heart_beat_stress = np.array(list(heart_beat_stress[:]), dtype=float)\n",
    "\n",
    "        heart_beat_amuse = []\n",
    "        for i in range(0,len(amuse_down) - window_size,window_shift):\n",
    "            heart_beat_amuse.append(amuse_down[i:window_size + i])\n",
    "        heart_beat_amuse.pop()\n",
    "    #     heart_beat_amuse = np.array(list(heart_beat_amuse[:]), dtype=float)\n",
    "\n",
    "\n",
    "        for idx, idxval in enumerate(heart_beat_base):\n",
    "            heart_beat_base[idx] = (heart_beat_base[idx] - heart_beat_base[idx].min()) / heart_beat_base[idx].ptp() # Normalize the readings to a 0-1 range \n",
    "            heart_beat_base[idx] = np.append(heart_beat_base[idx], 0.0) #Baseline = 0\n",
    "\n",
    "        for idx, idxval in enumerate(heart_beat_stress):\n",
    "            heart_beat_stress[idx] = (heart_beat_stress[idx] - heart_beat_stress[idx].min()) / heart_beat_stress[idx].ptp() # Normalize the readings to a 0-1 range \n",
    "            heart_beat_stress[idx] = np.append(heart_beat_stress[idx], 1.0) #Stress = 1    \n",
    "\n",
    "        for idx, idxval in enumerate(heart_beat_amuse):\n",
    "            heart_beat_amuse[idx] = (heart_beat_amuse[idx] - heart_beat_amuse[idx].min()) / heart_beat_amuse[idx].ptp() # Normalize the readings to a 0-1 range \n",
    "            heart_beat_amuse[idx] = np.append(heart_beat_amuse[idx], 2.0) #Amusement = 2\n",
    "\n",
    "    #     print(\"heart_beat_base:\", len(heart_beat_base[0]), len(heart_beat_base[-2]), len(heart_beat_base[-1]))\n",
    "    #     print(\"heart_beat_stress:\", len(heart_beat_stress[0]), len(heart_beat_stress[-1]))\n",
    "    #     print(\"heart_beat_amuse:\", len(heart_beat_amuse[0]), len(heart_beat_amuse[-1]))\n",
    "\n",
    "        heart_beat_all = np.concatenate((heart_beat_base, heart_beat_stress, heart_beat_amuse), axis=0)\n",
    "        subject_data = np.array(list(heart_beat_all[:]), dtype=float)\n",
    "\n",
    "\n",
    "        if(all_subject_data.size == 0):\n",
    "            all_subject_data = subject_data\n",
    "        else:\n",
    "            if(subject_data.size != 0):\n",
    "                all_subject_data = np.concatenate((all_subject_data, subject_data), axis=0)\n",
    "\n",
    "        print(\"New data shape\", subject_data.shape, \"Total Shape: \", all_subject_data.shape)\n",
    "        \n",
    "    #SMOTE to balance the data\n",
    "    df_final_data_X = pd.DataFrame(data=all_subject_data[:, :-1])\n",
    "    df_final_data_Y = pd.DataFrame(data=all_subject_data[:,-1])\n",
    "\n",
    "    smote = SMOTE(sampling_strategy='not majority')\n",
    "    X_sm, y_sm = smote.fit_resample(df_final_data_X, df_final_data_Y)\n",
    "    \n",
    "    return X_sm, y_sm"
   ]
  },
  {
   "cell_type": "markdown",
   "id": "8232f1fa",
   "metadata": {},
   "source": [
    "## Data Generation - Train"
   ]
  },
  {
   "cell_type": "code",
   "execution_count": 11,
   "id": "78e15cc1",
   "metadata": {},
   "outputs": [
    {
     "name": "stdout",
     "output_type": "stream",
     "text": [
      "Loading data for S2\n",
      "New data shape (2115, 257) Total Shape:  (2115, 257)\n",
      "Loading data for S3\n",
      "New data shape (2149, 257) Total Shape:  (4264, 257)\n",
      "Loading data for S5\n",
      "New data shape (2211, 257) Total Shape:  (6475, 257)\n",
      "Loading data for S6\n",
      "New data shape (2196, 257) Total Shape:  (8671, 257)\n",
      "Loading data for S7\n",
      "New data shape (2192, 257) Total Shape:  (10863, 257)\n",
      "Loading data for S8\n",
      "New data shape (2202, 257) Total Shape:  (13065, 257)\n",
      "Loading data for S9\n",
      "New data shape (2191, 257) Total Shape:  (15256, 257)\n",
      "Loading data for S10\n",
      "New data shape (2271, 257) Total Shape:  (17527, 257)\n",
      "Loading data for S11\n",
      "New data shape (2222, 257) Total Shape:  (19749, 257)\n",
      "Loading data for S13\n",
      "New data shape (2220, 257) Total Shape:  (21969, 257)\n",
      "Loading data for S14\n",
      "New data shape (2221, 257) Total Shape:  (24190, 257)\n",
      "Loading data for S15\n",
      "New data shape (2227, 257) Total Shape:  (26417, 257)\n",
      "Loading data for S16\n",
      "New data shape (2215, 257) Total Shape:  (28632, 257)\n",
      "Loading data for S17\n",
      "New data shape (2270, 257) Total Shape:  (30902, 257)\n"
     ]
    }
   ],
   "source": [
    "train_data, train_labels = generateData(rest_subjects)"
   ]
  },
  {
   "cell_type": "code",
   "execution_count": 12,
   "id": "c46ed6db",
   "metadata": {},
   "outputs": [
    {
     "data": {
      "text/plain": [
       "0.0    16425\n",
       "1.0    16425\n",
       "2.0    16425\n",
       "dtype: int64"
      ]
     },
     "execution_count": 12,
     "metadata": {},
     "output_type": "execute_result"
    }
   ],
   "source": [
    "train_labels.value_counts()"
   ]
  },
  {
   "cell_type": "code",
   "execution_count": 13,
   "id": "480c46f0",
   "metadata": {},
   "outputs": [
    {
     "name": "stdout",
     "output_type": "stream",
     "text": [
      "Train data shape: (49275, 256)\n",
      "Train labels shape: (49275, 1)\n",
      "Dimension: 2\n"
     ]
    }
   ],
   "source": [
    "print(\"Train data shape:\", train_data.shape)\n",
    "print(\"Train labels shape:\", train_labels.shape)\n",
    "print(\"Dimension:\", train_labels.ndim)"
   ]
  },
  {
   "cell_type": "code",
   "execution_count": 14,
   "id": "71b2fcf4",
   "metadata": {},
   "outputs": [],
   "source": [
    "train_labels = pd.DataFrame(train_labels).to_numpy()\n",
    "train_labels = train_labels.reshape(-1)"
   ]
  },
  {
   "cell_type": "code",
   "execution_count": 15,
   "id": "62a1973a",
   "metadata": {},
   "outputs": [
    {
     "name": "stdout",
     "output_type": "stream",
     "text": [
      "Train labels shape: (49275,)\n",
      "Dimension: 1\n"
     ]
    }
   ],
   "source": [
    "print(\"Train labels shape:\", train_labels.shape)\n",
    "print(\"Dimension:\", train_labels.ndim)"
   ]
  },
  {
   "cell_type": "markdown",
   "id": "76e728c1",
   "metadata": {},
   "source": [
    "## Train and Validation data split"
   ]
  },
  {
   "cell_type": "code",
   "execution_count": 16,
   "id": "5d6b046b",
   "metadata": {},
   "outputs": [],
   "source": [
    "X_train, X_val, y_train, y_val = train_test_split(train_data, train_labels, test_size=0.3, random_state=42)"
   ]
  },
  {
   "cell_type": "code",
   "execution_count": 17,
   "id": "b575ded6",
   "metadata": {},
   "outputs": [],
   "source": [
    "#Reshape train and validation data to (n_samples, 256, 1), where each sample is of size (256, 1)\n",
    "X_train = np.array(X_train).reshape(X_train.shape[0], X_train.shape[1], 1)\n",
    "X_val = np.array(X_val).reshape(X_val.shape[0], X_val.shape[1], 1)"
   ]
  },
  {
   "cell_type": "code",
   "execution_count": 18,
   "id": "f2c4f94a",
   "metadata": {},
   "outputs": [
    {
     "name": "stdout",
     "output_type": "stream",
     "text": [
      "size of X_train: (34492, 256, 1)\n",
      "size of X_val: (14783, 256, 1)\n",
      "size of y_train: (34492,)\n",
      "size of y_val: (14783,)\n",
      "Train: Counter({2.0: 11544, 0.0: 11500, 1.0: 11448}) \n",
      "Val: Counter({1.0: 4977, 0.0: 4925, 2.0: 4881})\n"
     ]
    }
   ],
   "source": [
    "print('size of X_train:', X_train.shape)\n",
    "print('size of X_val:', X_val.shape)\n",
    "\n",
    "print('size of y_train:', y_train.shape)\n",
    "print('size of y_val:', y_val.shape)\n",
    "\n",
    "print('Train:', Counter(y_train), '\\nVal:', Counter(y_val))"
   ]
  },
  {
   "cell_type": "markdown",
   "id": "527eb4b4",
   "metadata": {},
   "source": [
    "## Data Generation - Test"
   ]
  },
  {
   "cell_type": "code",
   "execution_count": 19,
   "id": "91a30c80",
   "metadata": {},
   "outputs": [
    {
     "name": "stdout",
     "output_type": "stream",
     "text": [
      "Loading data for S4\n",
      "New data shape (2159, 257) Total Shape:  (2159, 257)\n"
     ]
    }
   ],
   "source": [
    "test_data, test_labels = generateData(test_subject)"
   ]
  },
  {
   "cell_type": "code",
   "execution_count": 20,
   "id": "c08e23de",
   "metadata": {},
   "outputs": [
    {
     "data": {
      "text/plain": [
       "0.0    1156\n",
       "1.0    1156\n",
       "2.0    1156\n",
       "dtype: int64"
      ]
     },
     "execution_count": 20,
     "metadata": {},
     "output_type": "execute_result"
    }
   ],
   "source": [
    "test_labels.value_counts()"
   ]
  },
  {
   "cell_type": "code",
   "execution_count": 21,
   "id": "95d493ea",
   "metadata": {},
   "outputs": [
    {
     "name": "stdout",
     "output_type": "stream",
     "text": [
      "Test data shape: (3468, 256)\n",
      "Test labels shape: (3468, 1)\n",
      "Dimension: 2\n"
     ]
    }
   ],
   "source": [
    "print(\"Test data shape:\", test_data.shape)\n",
    "print(\"Test labels shape:\", test_labels.shape)\n",
    "print(\"Dimension:\", test_labels.ndim)"
   ]
  },
  {
   "cell_type": "code",
   "execution_count": 22,
   "id": "7f261521",
   "metadata": {},
   "outputs": [],
   "source": [
    "test_labels = pd.DataFrame(test_labels).to_numpy()\n",
    "y_test = test_labels.reshape(-1)"
   ]
  },
  {
   "cell_type": "code",
   "execution_count": 23,
   "id": "eaf6621a",
   "metadata": {},
   "outputs": [
    {
     "name": "stdout",
     "output_type": "stream",
     "text": [
      "Test labels shape: (3468,)\n",
      "Dimension: 1\n"
     ]
    }
   ],
   "source": [
    "print(\"Test labels shape:\", y_test.shape)\n",
    "print(\"Dimension:\", y_test.ndim)"
   ]
  },
  {
   "cell_type": "code",
   "execution_count": 24,
   "id": "ef372ad9",
   "metadata": {},
   "outputs": [],
   "source": [
    "#Reshape test data to (n_samples, 256, 1), where each sample is of size (256, 1)\n",
    "X_test = np.array(test_data).reshape(test_data.shape[0], test_data.shape[1], 1)"
   ]
  },
  {
   "cell_type": "code",
   "execution_count": 25,
   "id": "f7178055",
   "metadata": {},
   "outputs": [
    {
     "name": "stdout",
     "output_type": "stream",
     "text": [
      "size of X_test: (3468, 256, 1)\n",
      "size of y_test: (3468,)\n",
      "Test: Counter({0.0: 1156, 1.0: 1156, 2.0: 1156})\n"
     ]
    }
   ],
   "source": [
    "print('size of X_test:', X_test.shape)\n",
    "print('size of y_test:', y_test.shape)\n",
    "\n",
    "print('Test:', Counter(y_test))"
   ]
  },
  {
   "cell_type": "markdown",
   "id": "a39a597b",
   "metadata": {},
   "source": [
    "## 1D CNN Model Architecture"
   ]
  },
  {
   "cell_type": "code",
   "execution_count": 26,
   "id": "a9e7d81d",
   "metadata": {},
   "outputs": [],
   "source": [
    "from tensorflow.keras.models import Sequential\n",
    "from tensorflow.keras.layers import Dense, Flatten, Conv1D, BatchNormalization, MaxPool1D\n",
    "from tensorflow.keras.optimizers import SGD, Adam\n",
    "from tensorflow.keras.callbacks import LearningRateScheduler"
   ]
  },
  {
   "cell_type": "code",
   "execution_count": 27,
   "id": "3d5805ab",
   "metadata": {},
   "outputs": [
    {
     "name": "stdout",
     "output_type": "stream",
     "text": [
      "Model: \"sequential\"\n",
      "_________________________________________________________________\n",
      " Layer (type)                Output Shape              Param #   \n",
      "=================================================================\n",
      " conv1d (Conv1D)             (None, 256, 5)            30        \n",
      "                                                                 \n",
      " max_pooling1d (MaxPooling1D  (None, 128, 5)           0         \n",
      " )                                                               \n",
      "                                                                 \n",
      " conv1d_1 (Conv1D)           (None, 128, 10)           260       \n",
      "                                                                 \n",
      " max_pooling1d_1 (MaxPooling  (None, 64, 10)           0         \n",
      " 1D)                                                             \n",
      "                                                                 \n",
      " conv1d_2 (Conv1D)           (None, 64, 15)            765       \n",
      "                                                                 \n",
      " max_pooling1d_2 (MaxPooling  (None, 32, 15)           0         \n",
      " 1D)                                                             \n",
      "                                                                 \n",
      " flatten (Flatten)           (None, 480)               0         \n",
      "                                                                 \n",
      " dense (Dense)               (None, 128)               61568     \n",
      "                                                                 \n",
      " dense_1 (Dense)             (None, 3)                 387       \n",
      "                                                                 \n",
      "=================================================================\n",
      "Total params: 63,010\n",
      "Trainable params: 63,010\n",
      "Non-trainable params: 0\n",
      "_________________________________________________________________\n"
     ]
    }
   ],
   "source": [
    "reset_random_seeds()\n",
    "# kernel_regularizer =tf.keras.regularizers.l2(l=0.004)\n",
    "# initializer = tf.keras.initializers.HeUniform()\n",
    "cnn_model = tf.keras.models.Sequential()\n",
    "cnn_model.add(Conv1D(filters=5, kernel_size=(5,), padding='same',  activation='relu', input_shape= (X_train.shape[1],1)))\n",
    "cnn_model.add(MaxPool1D(pool_size=(2,), strides=2))\n",
    "cnn_model.add(Conv1D(filters=10, kernel_size=(5,), padding='same', activation='relu', kernel_regularizer =tf.keras.regularizers.l2(l=0.004)))\n",
    "cnn_model.add(MaxPool1D(pool_size=(2,), strides=2))\n",
    "cnn_model.add(Conv1D(filters=15, kernel_size=(5,), padding='same', activation='relu', kernel_regularizer =tf.keras.regularizers.l2(l=0.004)))\n",
    "cnn_model.add(MaxPool1D(pool_size=(2,), strides=2))\n",
    "cnn_model.add(Flatten())\n",
    "cnn_model.add(Dense(units = 128, activation='relu', kernel_regularizer =tf.keras.regularizers.l2(l=0.004)))\n",
    "cnn_model.add(Dense(units = 3, activation='softmax'))\n",
    "cnn_model.summary()"
   ]
  },
  {
   "cell_type": "code",
   "execution_count": 28,
   "id": "96f3ac69",
   "metadata": {},
   "outputs": [
    {
     "name": "stdout",
     "output_type": "stream",
     "text": [
      "<keras.layers.convolutional.conv1d.Conv1D object at 0x2ae64cd00>\n",
      "[[[ 0.32037407  0.14545935 -0.12637293  0.40248287 -0.3773936 ]]\n",
      "\n",
      " [[ 0.13625014  0.42082787 -0.29702842  0.02127779  0.11695492]]\n",
      "\n",
      " [[-0.36991873 -0.04797933  0.41683322 -0.02652773  0.00263533]]\n",
      "\n",
      " [[ 0.23761892 -0.43037158 -0.27514288  0.01273805 -0.3878015 ]]\n",
      "\n",
      " [[-0.4135429   0.31123072  0.37157005 -0.21238995  0.3215751 ]]]\n",
      "(5, 1, 5)\n",
      "[0. 0. 0. 0. 0.]\n"
     ]
    }
   ],
   "source": [
    "print(cnn_model.layers[0])\n",
    "print(cnn_model.layers[0].get_weights()[0])\n",
    "print(cnn_model.layers[0].get_weights()[0].shape)\n",
    "print(cnn_model.layers[0].get_weights()[1])"
   ]
  },
  {
   "cell_type": "code",
   "execution_count": 29,
   "id": "675ba45f",
   "metadata": {},
   "outputs": [],
   "source": [
    "# weights = 0.001 * (np.random.rand(5, 1, 5))\n",
    "# print(weights)\n",
    "# bias = np.random.rand(5)\n",
    "# print(bias)"
   ]
  },
  {
   "cell_type": "code",
   "execution_count": 30,
   "id": "111d345e",
   "metadata": {},
   "outputs": [],
   "source": [
    "# cnn_model.layers[0].set_weights([weights, bias])"
   ]
  },
  {
   "cell_type": "code",
   "execution_count": 31,
   "id": "7f9bdf53",
   "metadata": {},
   "outputs": [],
   "source": [
    "epochs=50\n",
    "batch_size = 32"
   ]
  },
  {
   "cell_type": "code",
   "execution_count": 32,
   "id": "fdfea2b2",
   "metadata": {},
   "outputs": [],
   "source": [
    "def step_decay(epoch):\n",
    "  initial_lrate = 0.005\n",
    "  drop = 0.6\n",
    "  epochs_drop = 10.0\n",
    "  lrate = initial_lrate * math.pow(drop, math.floor((1+epoch)/epochs_drop))\n",
    "  return lrate\n",
    "\n",
    "lrate = LearningRateScheduler(step_decay)\n",
    "callbacks_list = [lrate]"
   ]
  },
  {
   "cell_type": "code",
   "execution_count": 33,
   "id": "a4cbc4a8",
   "metadata": {},
   "outputs": [],
   "source": [
    "opt = tf.keras.optimizers.SGD( learning_rate=0.0, momentum=0.6, nesterov=False)\n",
    "\n",
    "cnn_model.compile(optimizer= opt, loss = 'sparse_categorical_crossentropy', metrics=['accuracy'])"
   ]
  },
  {
   "cell_type": "code",
   "execution_count": 34,
   "id": "4866fedc",
   "metadata": {},
   "outputs": [
    {
     "name": "stdout",
     "output_type": "stream",
     "text": [
      "Epoch 1/50\n"
     ]
    },
    {
     "name": "stderr",
     "output_type": "stream",
     "text": [
      "2022-12-22 00:04:10.452343: W tensorflow/core/platform/profile_utils/cpu_utils.cc:128] Failed to get CPU frequency: 0 Hz\n",
      "2022-12-22 00:04:10.712223: I tensorflow/core/grappler/optimizers/custom_graph_optimizer_registry.cc:114] Plugin optimizer for device_type GPU is enabled.\n",
      "2022-12-22 00:04:24.739148: I tensorflow/core/grappler/optimizers/custom_graph_optimizer_registry.cc:114] Plugin optimizer for device_type GPU is enabled.\n"
     ]
    },
    {
     "name": "stdout",
     "output_type": "stream",
     "text": [
      "1078/1078 - 17s - loss: 1.8930 - accuracy: 0.3726 - val_loss: 1.8043 - val_accuracy: 0.4029 - lr: 0.0050 - 17s/epoch - 16ms/step\n",
      "Epoch 2/50\n",
      "1078/1078 - 17s - loss: 1.7210 - accuracy: 0.4119 - val_loss: 1.6493 - val_accuracy: 0.4295 - lr: 0.0050 - 17s/epoch - 16ms/step\n",
      "Epoch 3/50\n",
      "1078/1078 - 17s - loss: 1.5692 - accuracy: 0.4530 - val_loss: 1.4975 - val_accuracy: 0.4846 - lr: 0.0050 - 17s/epoch - 16ms/step\n",
      "Epoch 4/50\n",
      "1078/1078 - 17s - loss: 1.4327 - accuracy: 0.4921 - val_loss: 1.3654 - val_accuracy: 0.5158 - lr: 0.0050 - 17s/epoch - 16ms/step\n",
      "Epoch 5/50\n",
      "1078/1078 - 17s - loss: 1.3153 - accuracy: 0.5103 - val_loss: 1.2677 - val_accuracy: 0.5171 - lr: 0.0050 - 17s/epoch - 16ms/step\n",
      "Epoch 6/50\n",
      "1078/1078 - 17s - loss: 1.2336 - accuracy: 0.5164 - val_loss: 1.1991 - val_accuracy: 0.5264 - lr: 0.0050 - 17s/epoch - 16ms/step\n",
      "Epoch 7/50\n",
      "1078/1078 - 18s - loss: 1.1721 - accuracy: 0.5216 - val_loss: 1.1461 - val_accuracy: 0.5261 - lr: 0.0050 - 18s/epoch - 17ms/step\n",
      "Epoch 8/50\n",
      "1078/1078 - 18s - loss: 1.1239 - accuracy: 0.5271 - val_loss: 1.1033 - val_accuracy: 0.5268 - lr: 0.0050 - 18s/epoch - 16ms/step\n",
      "Epoch 9/50\n",
      "1078/1078 - 17s - loss: 1.0822 - accuracy: 0.5274 - val_loss: 1.0620 - val_accuracy: 0.5339 - lr: 0.0050 - 17s/epoch - 16ms/step\n",
      "Epoch 10/50\n",
      "1078/1078 - 17s - loss: 1.0437 - accuracy: 0.5446 - val_loss: 1.0306 - val_accuracy: 0.5485 - lr: 0.0030 - 17s/epoch - 16ms/step\n",
      "Epoch 11/50\n",
      "1078/1078 - 17s - loss: 1.0188 - accuracy: 0.5475 - val_loss: 1.0084 - val_accuracy: 0.5502 - lr: 0.0030 - 17s/epoch - 16ms/step\n",
      "Epoch 12/50\n",
      "1078/1078 - 17s - loss: 0.9969 - accuracy: 0.5565 - val_loss: 0.9971 - val_accuracy: 0.5571 - lr: 0.0030 - 17s/epoch - 16ms/step\n",
      "Epoch 13/50\n",
      "1078/1078 - 17s - loss: 0.9787 - accuracy: 0.5602 - val_loss: 0.9670 - val_accuracy: 0.5654 - lr: 0.0030 - 17s/epoch - 16ms/step\n",
      "Epoch 14/50\n",
      "1078/1078 - 17s - loss: 0.9621 - accuracy: 0.5699 - val_loss: 0.9589 - val_accuracy: 0.5652 - lr: 0.0030 - 17s/epoch - 16ms/step\n",
      "Epoch 15/50\n",
      "1078/1078 - 17s - loss: 0.9482 - accuracy: 0.5706 - val_loss: 0.9404 - val_accuracy: 0.5725 - lr: 0.0030 - 17s/epoch - 16ms/step\n",
      "Epoch 16/50\n",
      "1078/1078 - 17s - loss: 0.9371 - accuracy: 0.5733 - val_loss: 0.9206 - val_accuracy: 0.5839 - lr: 0.0030 - 17s/epoch - 16ms/step\n",
      "Epoch 17/50\n",
      "1078/1078 - 17s - loss: 0.9247 - accuracy: 0.5796 - val_loss: 0.9212 - val_accuracy: 0.5753 - lr: 0.0030 - 17s/epoch - 16ms/step\n",
      "Epoch 18/50\n",
      "1078/1078 - 17s - loss: 0.9129 - accuracy: 0.5838 - val_loss: 0.9102 - val_accuracy: 0.5840 - lr: 0.0030 - 17s/epoch - 16ms/step\n",
      "Epoch 19/50\n",
      "1078/1078 - 17s - loss: 0.9071 - accuracy: 0.5860 - val_loss: 0.8968 - val_accuracy: 0.5904 - lr: 0.0030 - 17s/epoch - 16ms/step\n",
      "Epoch 20/50\n",
      "1078/1078 - 17s - loss: 0.8823 - accuracy: 0.5995 - val_loss: 0.8971 - val_accuracy: 0.5912 - lr: 0.0018 - 17s/epoch - 16ms/step\n",
      "Epoch 21/50\n",
      "1078/1078 - 17s - loss: 0.8739 - accuracy: 0.6062 - val_loss: 0.8638 - val_accuracy: 0.6086 - lr: 0.0018 - 17s/epoch - 16ms/step\n",
      "Epoch 22/50\n",
      "1078/1078 - 17s - loss: 0.8695 - accuracy: 0.6058 - val_loss: 0.8628 - val_accuracy: 0.6125 - lr: 0.0018 - 17s/epoch - 16ms/step\n",
      "Epoch 23/50\n",
      "1078/1078 - 17s - loss: 0.8626 - accuracy: 0.6074 - val_loss: 0.8732 - val_accuracy: 0.5903 - lr: 0.0018 - 17s/epoch - 16ms/step\n",
      "Epoch 24/50\n",
      "1078/1078 - 18s - loss: 0.8568 - accuracy: 0.6137 - val_loss: 0.8545 - val_accuracy: 0.6098 - lr: 0.0018 - 18s/epoch - 16ms/step\n",
      "Epoch 25/50\n",
      "1078/1078 - 17s - loss: 0.8479 - accuracy: 0.6190 - val_loss: 0.8833 - val_accuracy: 0.5879 - lr: 0.0018 - 17s/epoch - 16ms/step\n",
      "Epoch 26/50\n",
      "1078/1078 - 17s - loss: 0.8435 - accuracy: 0.6252 - val_loss: 0.8790 - val_accuracy: 0.6111 - lr: 0.0018 - 17s/epoch - 16ms/step\n",
      "Epoch 27/50\n",
      "1078/1078 - 17s - loss: 0.8390 - accuracy: 0.6241 - val_loss: 0.8398 - val_accuracy: 0.6208 - lr: 0.0018 - 17s/epoch - 16ms/step\n",
      "Epoch 28/50\n",
      "1078/1078 - 17s - loss: 0.8350 - accuracy: 0.6309 - val_loss: 0.8464 - val_accuracy: 0.6018 - lr: 0.0018 - 17s/epoch - 16ms/step\n",
      "Epoch 29/50\n",
      "1078/1078 - 17s - loss: 0.8282 - accuracy: 0.6355 - val_loss: 0.8192 - val_accuracy: 0.6280 - lr: 0.0018 - 17s/epoch - 16ms/step\n",
      "Epoch 30/50\n",
      "1078/1078 - 17s - loss: 0.8068 - accuracy: 0.6484 - val_loss: 0.8067 - val_accuracy: 0.6424 - lr: 0.0011 - 17s/epoch - 16ms/step\n",
      "Epoch 31/50\n",
      "1078/1078 - 17s - loss: 0.8032 - accuracy: 0.6508 - val_loss: 0.8168 - val_accuracy: 0.6356 - lr: 0.0011 - 17s/epoch - 16ms/step\n",
      "Epoch 32/50\n",
      "1078/1078 - 18s - loss: 0.7978 - accuracy: 0.6527 - val_loss: 0.8024 - val_accuracy: 0.6491 - lr: 0.0011 - 18s/epoch - 16ms/step\n",
      "Epoch 33/50\n",
      "1078/1078 - 17s - loss: 0.7963 - accuracy: 0.6539 - val_loss: 0.7918 - val_accuracy: 0.6496 - lr: 0.0011 - 17s/epoch - 16ms/step\n",
      "Epoch 34/50\n",
      "1078/1078 - 17s - loss: 0.7934 - accuracy: 0.6549 - val_loss: 0.7942 - val_accuracy: 0.6488 - lr: 0.0011 - 17s/epoch - 16ms/step\n",
      "Epoch 35/50\n",
      "1078/1078 - 17s - loss: 0.7903 - accuracy: 0.6548 - val_loss: 0.7946 - val_accuracy: 0.6483 - lr: 0.0011 - 17s/epoch - 16ms/step\n",
      "Epoch 36/50\n",
      "1078/1078 - 18s - loss: 0.7855 - accuracy: 0.6571 - val_loss: 0.8027 - val_accuracy: 0.6426 - lr: 0.0011 - 18s/epoch - 17ms/step\n",
      "Epoch 37/50\n",
      "1078/1078 - 17s - loss: 0.7819 - accuracy: 0.6591 - val_loss: 0.7976 - val_accuracy: 0.6458 - lr: 0.0011 - 17s/epoch - 16ms/step\n",
      "Epoch 38/50\n",
      "1078/1078 - 17s - loss: 0.7801 - accuracy: 0.6607 - val_loss: 0.7913 - val_accuracy: 0.6569 - lr: 0.0011 - 17s/epoch - 16ms/step\n",
      "Epoch 39/50\n",
      "1078/1078 - 17s - loss: 0.7763 - accuracy: 0.6610 - val_loss: 0.8246 - val_accuracy: 0.6390 - lr: 0.0011 - 17s/epoch - 16ms/step\n",
      "Epoch 40/50\n",
      "1078/1078 - 17s - loss: 0.7585 - accuracy: 0.6742 - val_loss: 0.7661 - val_accuracy: 0.6635 - lr: 6.4800e-04 - 17s/epoch - 16ms/step\n",
      "Epoch 41/50\n",
      "1078/1078 - 17s - loss: 0.7559 - accuracy: 0.6756 - val_loss: 0.7728 - val_accuracy: 0.6647 - lr: 6.4800e-04 - 17s/epoch - 16ms/step\n",
      "Epoch 42/50\n",
      "1078/1078 - 17s - loss: 0.7536 - accuracy: 0.6792 - val_loss: 0.7670 - val_accuracy: 0.6695 - lr: 6.4800e-04 - 17s/epoch - 16ms/step\n",
      "Epoch 43/50\n",
      "1078/1078 - 17s - loss: 0.7504 - accuracy: 0.6824 - val_loss: 0.7676 - val_accuracy: 0.6697 - lr: 6.4800e-04 - 17s/epoch - 16ms/step\n",
      "Epoch 44/50\n",
      "1078/1078 - 17s - loss: 0.7474 - accuracy: 0.6810 - val_loss: 0.7687 - val_accuracy: 0.6698 - lr: 6.4800e-04 - 17s/epoch - 16ms/step\n",
      "Epoch 45/50\n",
      "1078/1078 - 17s - loss: 0.7434 - accuracy: 0.6842 - val_loss: 0.7634 - val_accuracy: 0.6749 - lr: 6.4800e-04 - 17s/epoch - 16ms/step\n",
      "Epoch 46/50\n",
      "1078/1078 - 17s - loss: 0.7446 - accuracy: 0.6836 - val_loss: 0.7539 - val_accuracy: 0.6764 - lr: 6.4800e-04 - 17s/epoch - 16ms/step\n",
      "Epoch 47/50\n",
      "1078/1078 - 17s - loss: 0.7406 - accuracy: 0.6868 - val_loss: 0.7601 - val_accuracy: 0.6717 - lr: 6.4800e-04 - 17s/epoch - 16ms/step\n",
      "Epoch 48/50\n",
      "1078/1078 - 17s - loss: 0.7380 - accuracy: 0.6849 - val_loss: 0.7624 - val_accuracy: 0.6705 - lr: 6.4800e-04 - 17s/epoch - 16ms/step\n",
      "Epoch 49/50\n",
      "1078/1078 - 17s - loss: 0.7359 - accuracy: 0.6877 - val_loss: 0.7440 - val_accuracy: 0.6835 - lr: 6.4800e-04 - 17s/epoch - 16ms/step\n",
      "Epoch 50/50\n",
      "1078/1078 - 17s - loss: 0.7202 - accuracy: 0.6990 - val_loss: 0.7698 - val_accuracy: 0.6702 - lr: 3.8880e-04 - 17s/epoch - 16ms/step\n"
     ]
    }
   ],
   "source": [
    "history = cnn_model.fit(X_train, y_train, epochs = epochs, batch_size = batch_size, validation_data = (X_val, y_val), callbacks=callbacks_list, verbose=2)"
   ]
  },
  {
   "cell_type": "code",
   "execution_count": 35,
   "id": "3c22a2bc",
   "metadata": {},
   "outputs": [
    {
     "data": {
      "image/png": "[encoded data removed]",
      "text/plain": [
       "<Figure size 1200x400 with 2 Axes>"
      ]
     },
     "metadata": {},
     "output_type": "display_data"
    }
   ],
   "source": [
    "f, (ax1, ax2) = plt.subplots(1, 2, figsize=(12, 4))\n",
    "t = f.suptitle('1D CNN Performance', fontsize=12)\n",
    "f.subplots_adjust(top=0.85, wspace=0.3)\n",
    "\n",
    "max_epoch = len(history.history['accuracy'])+1\n",
    "epoch_list = list(range(1,max_epoch))\n",
    "ax1.plot(epoch_list, history.history['accuracy'], label='Train Accuracy')\n",
    "ax1.plot(epoch_list, history.history['val_accuracy'], label='Validation Accuracy')\n",
    "ax1.set_xticks(np.arange(1, max_epoch, 5))\n",
    "ax1.set_ylabel('Accuracy Value')\n",
    "ax1.set_xlabel('Epoch')\n",
    "ax1.set_title('Accuracy')\n",
    "l1 = ax1.legend(loc=\"best\")\n",
    "\n",
    "ax2.plot(epoch_list, history.history['loss'], label='Train Loss')\n",
    "ax2.plot(epoch_list, history.history['val_loss'], label='Validation Loss')\n",
    "ax2.set_xticks(np.arange(1, max_epoch, 5))\n",
    "ax2.set_ylabel('Loss Value')\n",
    "ax2.set_xlabel('Epoch')\n",
    "ax2.set_title('Loss')\n",
    "l2 = ax2.legend(loc=\"best\")"
   ]
  },
  {
   "cell_type": "code",
   "execution_count": 36,
   "id": "29da2d94",
   "metadata": {},
   "outputs": [
    {
     "name": "stdout",
     "output_type": "stream",
     "text": [
      "109/109 [==============================] - 1s 8ms/step - loss: 1.5813 - accuracy: 0.4184\n"
     ]
    },
    {
     "data": {
      "text/plain": [
       "[1.5812568664550781, 0.41839680075645447]"
      ]
     },
     "execution_count": 36,
     "metadata": {},
     "output_type": "execute_result"
    }
   ],
   "source": [
    "cnn_model.evaluate(X_test, y_test)"
   ]
  }
 ],
 "metadata": {
  "kernelspec": {
   "display_name": "Python 3 (ipykernel)",
   "language": "python",
   "name": "python3"
  },
  "language_info": {
   "codemirror_mode": {
    "name": "ipython",
    "version": 3
   },
   "file_extension": ".py",
   "mimetype": "text/x-python",
   "name": "python",
   "nbconvert_exporter": "python",
   "pygments_lexer": "ipython3",
   "version": "3.9.12"
  }
 },
 "nbformat": 4,
 "nbformat_minor": 5
}
