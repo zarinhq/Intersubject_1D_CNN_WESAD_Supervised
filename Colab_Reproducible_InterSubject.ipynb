{
  "cells": [
    {
      "cell_type": "markdown",
      "metadata": {
        "id": "b4a8a6ec-22dc-48fd-9ca5-62a4657e47f5"
      },
      "source": [
        "## Install Dependencies"
      ],
      "id": "b4a8a6ec-22dc-48fd-9ca5-62a4657e47f5"
    },
    {
      "cell_type": "code",
      "source": [
        "seed_value = 123\n",
        "import os\n",
        "os.environ['PYTHONHASHSEED']=str(seed_value)"
      ],
      "metadata": {
        "id": "cxtlS4_bl2gg"
      },
      "id": "cxtlS4_bl2gg",
      "execution_count": 1,
      "outputs": []
    },
    {
      "cell_type": "code",
      "execution_count": 2,
      "metadata": {
        "id": "zWdy-Oj8SHfp",
        "colab": {
          "base_uri": "https://localhost:8080/"
        },
        "outputId": "b4b142dc-2c03-4720-ac1c-7139e3d9609a"
      },
      "outputs": [
        {
          "output_type": "stream",
          "name": "stdout",
          "text": [
            "Mounted at /content/gdrive\n"
          ]
        }
      ],
      "source": [
        "# Connecting to Google drive in order to store the weights of the agents HDF5 files.\n",
        "from google.colab import drive\n",
        "\n",
        "drive.mount('/content/gdrive');"
      ],
      "id": "zWdy-Oj8SHfp"
    },
    {
      "cell_type": "code",
      "execution_count": 3,
      "metadata": {
        "colab": {
          "base_uri": "https://localhost:8080/"
        },
        "id": "0a6ac3f6-4730-41a5-a1ed-8e81980951ff",
        "outputId": "02801f71-94da-435c-9203-0fd685ef0e07"
      },
      "outputs": [
        {
          "output_type": "stream",
          "name": "stdout",
          "text": [
            "Looking in indexes: https://pypi.org/simple, https://us-python.pkg.dev/colab-wheels/public/simple/\n",
            "Collecting wfdb\n",
            "  Downloading wfdb-4.0.0-py3-none-any.whl (161 kB)\n",
            "\u001b[K     |████████████████████████████████| 161 kB 5.0 MB/s \n",
            "\u001b[?25hCollecting wget\n",
            "  Downloading wget-3.2.zip (10 kB)\n",
            "Requirement already satisfied: tqdm in /usr/local/lib/python3.7/dist-packages (4.64.1)\n",
            "Collecting biosppy\n",
            "  Downloading biosppy-1.0.0-py2.py3-none-any.whl (106 kB)\n",
            "\u001b[K     |████████████████████████████████| 106 kB 51.6 MB/s \n",
            "\u001b[?25hRequirement already satisfied: imbalanced-learn in /usr/local/lib/python3.7/dist-packages (0.8.1)\n",
            "Requirement already satisfied: seaborn in /usr/local/lib/python3.7/dist-packages (0.11.2)\n",
            "Requirement already satisfied: matplotlib<4.0.0,>=3.2.2 in /usr/local/lib/python3.7/dist-packages (from wfdb) (3.2.2)\n",
            "Requirement already satisfied: requests<3.0.0,>=2.8.1 in /usr/local/lib/python3.7/dist-packages (from wfdb) (2.23.0)\n",
            "Requirement already satisfied: SoundFile<0.12.0,>=0.10.0 in /usr/local/lib/python3.7/dist-packages (from wfdb) (0.11.0)\n",
            "Requirement already satisfied: scipy<2.0.0,>=1.0.0 in /usr/local/lib/python3.7/dist-packages (from wfdb) (1.7.3)\n",
            "Requirement already satisfied: pandas<2.0.0,>=1.0.0 in /usr/local/lib/python3.7/dist-packages (from wfdb) (1.3.5)\n",
            "Requirement already satisfied: numpy<2.0.0,>=1.10.1 in /usr/local/lib/python3.7/dist-packages (from wfdb) (1.21.6)\n",
            "Requirement already satisfied: pyparsing!=2.0.4,!=2.1.2,!=2.1.6,>=2.0.1 in /usr/local/lib/python3.7/dist-packages (from matplotlib<4.0.0,>=3.2.2->wfdb) (3.0.9)\n",
            "Requirement already satisfied: cycler>=0.10 in /usr/local/lib/python3.7/dist-packages (from matplotlib<4.0.0,>=3.2.2->wfdb) (0.11.0)\n",
            "Requirement already satisfied: kiwisolver>=1.0.1 in /usr/local/lib/python3.7/dist-packages (from matplotlib<4.0.0,>=3.2.2->wfdb) (1.4.4)\n",
            "Requirement already satisfied: python-dateutil>=2.1 in /usr/local/lib/python3.7/dist-packages (from matplotlib<4.0.0,>=3.2.2->wfdb) (2.8.2)\n",
            "Requirement already satisfied: typing-extensions in /usr/local/lib/python3.7/dist-packages (from kiwisolver>=1.0.1->matplotlib<4.0.0,>=3.2.2->wfdb) (4.1.1)\n",
            "Requirement already satisfied: pytz>=2017.3 in /usr/local/lib/python3.7/dist-packages (from pandas<2.0.0,>=1.0.0->wfdb) (2022.5)\n",
            "Requirement already satisfied: six>=1.5 in /usr/local/lib/python3.7/dist-packages (from python-dateutil>=2.1->matplotlib<4.0.0,>=3.2.2->wfdb) (1.15.0)\n",
            "Requirement already satisfied: chardet<4,>=3.0.2 in /usr/local/lib/python3.7/dist-packages (from requests<3.0.0,>=2.8.1->wfdb) (3.0.4)\n",
            "Requirement already satisfied: certifi>=2017.4.17 in /usr/local/lib/python3.7/dist-packages (from requests<3.0.0,>=2.8.1->wfdb) (2022.9.24)\n",
            "Requirement already satisfied: urllib3!=1.25.0,!=1.25.1,<1.26,>=1.21.1 in /usr/local/lib/python3.7/dist-packages (from requests<3.0.0,>=2.8.1->wfdb) (1.24.3)\n",
            "Requirement already satisfied: idna<3,>=2.5 in /usr/local/lib/python3.7/dist-packages (from requests<3.0.0,>=2.8.1->wfdb) (2.10)\n",
            "Requirement already satisfied: cffi>=1.0 in /usr/local/lib/python3.7/dist-packages (from SoundFile<0.12.0,>=0.10.0->wfdb) (1.15.1)\n",
            "Requirement already satisfied: pycparser in /usr/local/lib/python3.7/dist-packages (from cffi>=1.0->SoundFile<0.12.0,>=0.10.0->wfdb) (2.21)\n",
            "Collecting shortuuid\n",
            "  Downloading shortuuid-1.0.9-py3-none-any.whl (9.4 kB)\n",
            "Requirement already satisfied: opencv-python in /usr/local/lib/python3.7/dist-packages (from biosppy) (4.6.0.66)\n",
            "Requirement already satisfied: scikit-learn in /usr/local/lib/python3.7/dist-packages (from biosppy) (1.0.2)\n",
            "Requirement already satisfied: joblib in /usr/local/lib/python3.7/dist-packages (from biosppy) (1.2.0)\n",
            "Collecting bidict\n",
            "  Downloading bidict-0.22.0-py3-none-any.whl (36 kB)\n",
            "Requirement already satisfied: h5py in /usr/local/lib/python3.7/dist-packages (from biosppy) (3.1.0)\n",
            "Requirement already satisfied: threadpoolctl>=2.0.0 in /usr/local/lib/python3.7/dist-packages (from scikit-learn->biosppy) (3.1.0)\n",
            "Requirement already satisfied: cached-property in /usr/local/lib/python3.7/dist-packages (from h5py->biosppy) (1.5.2)\n",
            "Building wheels for collected packages: wget\n",
            "  Building wheel for wget (setup.py) ... \u001b[?25l\u001b[?25hdone\n",
            "  Created wheel for wget: filename=wget-3.2-py3-none-any.whl size=9675 sha256=605bda8bb26b7942dd5648255ee38e40b70b1fdd5e97aefbee8ea5a6d47eeec3\n",
            "  Stored in directory: /root/.cache/pip/wheels/a1/b6/7c/0e63e34eb06634181c63adacca38b79ff8f35c37e3c13e3c02\n",
            "Successfully built wget\n",
            "Installing collected packages: shortuuid, bidict, wget, wfdb, biosppy\n",
            "Successfully installed bidict-0.22.0 biosppy-1.0.0 shortuuid-1.0.9 wfdb-4.0.0 wget-3.2\n"
          ]
        }
      ],
      "source": [
        "pip install wfdb wget tqdm biosppy imbalanced-learn seaborn"
      ],
      "id": "0a6ac3f6-4730-41a5-a1ed-8e81980951ff"
    },
    {
      "cell_type": "code",
      "execution_count": 4,
      "metadata": {
        "id": "670ade4b-df38-4325-bb86-666739fa26f5",
        "colab": {
          "base_uri": "https://localhost:8080/",
          "height": 437
        },
        "outputId": "79233db7-f469-4d68-8f09-2ee19a1d88d3"
      },
      "outputs": [
        {
          "output_type": "stream",
          "name": "stdout",
          "text": [
            "Found existing installation: matplotlib 3.2.2\n",
            "Uninstalling matplotlib-3.2.2:\n",
            "  Successfully uninstalled matplotlib-3.2.2\n",
            "Looking in indexes: https://pypi.org/simple, https://us-python.pkg.dev/colab-wheels/public/simple/\n",
            "Collecting matplotlib==3.1.3\n",
            "  Downloading matplotlib-3.1.3-cp37-cp37m-manylinux1_x86_64.whl (13.1 MB)\n",
            "\u001b[K     |████████████████████████████████| 13.1 MB 1.7 MB/s \n",
            "\u001b[?25hRequirement already satisfied: pyparsing!=2.0.4,!=2.1.2,!=2.1.6,>=2.0.1 in /usr/local/lib/python3.7/dist-packages (from matplotlib==3.1.3) (3.0.9)\n",
            "Requirement already satisfied: cycler>=0.10 in /usr/local/lib/python3.7/dist-packages (from matplotlib==3.1.3) (0.11.0)\n",
            "Requirement already satisfied: numpy>=1.11 in /usr/local/lib/python3.7/dist-packages (from matplotlib==3.1.3) (1.21.6)\n",
            "Requirement already satisfied: kiwisolver>=1.0.1 in /usr/local/lib/python3.7/dist-packages (from matplotlib==3.1.3) (1.4.4)\n",
            "Requirement already satisfied: python-dateutil>=2.1 in /usr/local/lib/python3.7/dist-packages (from matplotlib==3.1.3) (2.8.2)\n",
            "Requirement already satisfied: typing-extensions in /usr/local/lib/python3.7/dist-packages (from kiwisolver>=1.0.1->matplotlib==3.1.3) (4.1.1)\n",
            "Requirement already satisfied: six>=1.5 in /usr/local/lib/python3.7/dist-packages (from python-dateutil>=2.1->matplotlib==3.1.3) (1.15.0)\n",
            "Installing collected packages: matplotlib\n",
            "\u001b[31mERROR: pip's dependency resolver does not currently take into account all the packages that are installed. This behaviour is the source of the following dependency conflicts.\n",
            "wfdb 4.0.0 requires matplotlib<4.0.0,>=3.2.2, but you have matplotlib 3.1.3 which is incompatible.\u001b[0m\n",
            "Successfully installed matplotlib-3.1.3\n"
          ]
        },
        {
          "output_type": "display_data",
          "data": {
            "application/vnd.colab-display-data+json": {
              "pip_warning": {
                "packages": [
                  "matplotlib",
                  "mpl_toolkits"
                ]
              }
            }
          },
          "metadata": {}
        }
      ],
      "source": [
        "!pip uninstall matplotlib --yes\n",
        "!pip install matplotlib==3.1.3 "
      ],
      "id": "670ade4b-df38-4325-bb86-666739fa26f5"
    },
    {
      "cell_type": "code",
      "source": [
        "pip install tensorflow-determinism"
      ],
      "metadata": {
        "colab": {
          "base_uri": "https://localhost:8080/"
        },
        "id": "250oH7FhmJZG",
        "outputId": "b4d07f7d-c89a-4f67-cdb9-66299818e187"
      },
      "id": "250oH7FhmJZG",
      "execution_count": 5,
      "outputs": [
        {
          "output_type": "stream",
          "name": "stdout",
          "text": [
            "Looking in indexes: https://pypi.org/simple, https://us-python.pkg.dev/colab-wheels/public/simple/\n",
            "Collecting tensorflow-determinism\n",
            "  Downloading tensorflow-determinism-0.3.0.tar.gz (12 kB)\n",
            "Building wheels for collected packages: tensorflow-determinism\n",
            "  Building wheel for tensorflow-determinism (setup.py) ... \u001b[?25l\u001b[?25hdone\n",
            "  Created wheel for tensorflow-determinism: filename=tensorflow_determinism-0.3.0-py3-none-any.whl size=9158 sha256=19ea49c3fa23edf72a6a5e6f3d14a69f3c088934f80ba79de00721662a9d201e\n",
            "  Stored in directory: /root/.cache/pip/wheels/d2/be/33/2b27e81e5d40b4bfb7c103ac6c6c5e81fdbcf40d2af5078529\n",
            "Successfully built tensorflow-determinism\n",
            "Installing collected packages: tensorflow-determinism\n",
            "Successfully installed tensorflow-determinism-0.3.0\n"
          ]
        }
      ]
    },
    {
      "cell_type": "markdown",
      "metadata": {
        "id": "22497b6d-c091-4859-b8b9-25fce79795a9"
      },
      "source": [
        "## Importing Libraries"
      ],
      "id": "22497b6d-c091-4859-b8b9-25fce79795a9"
    },
    {
      "cell_type": "code",
      "execution_count": 6,
      "metadata": {
        "id": "VSRQSaz7KbAD"
      },
      "outputs": [],
      "source": [
        "# seed_value = 123\n",
        "# import os\n",
        "# os.environ['PYTHONHASHSEED']=str(seed_value)"
      ],
      "id": "VSRQSaz7KbAD"
    },
    {
      "cell_type": "code",
      "execution_count": 7,
      "metadata": {
        "id": "df8e29ad-ee76-4c09-b07b-85e63e342db4"
      },
      "outputs": [],
      "source": [
        "import tensorflow as tf\n",
        "import matplotlib.pyplot as plt\n",
        "import pandas as pd\n",
        "import numpy as np\n",
        "from glob import glob\n",
        "import wget\n",
        "import math\n",
        "import zipfile\n",
        "import wfdb as wf\n",
        "import pickle\n",
        "import sys\n",
        "import datetime\n",
        "import cv2\n",
        "import random\n",
        "import random as python_random\n",
        "from scipy import signal\n",
        "from scipy.signal import resample\n",
        "from scipy.signal import find_peaks\n",
        "from pathlib import Path\n",
        "from sklearn.model_selection import train_test_split\n",
        "from collections import Counter\n",
        "from sklearn.preprocessing import LabelEncoder\n",
        "from imblearn.over_sampling import SMOTE"
      ],
      "id": "df8e29ad-ee76-4c09-b07b-85e63e342db4"
    },
    {
      "cell_type": "code",
      "execution_count": 8,
      "metadata": {
        "id": "J8WaiggLLFFB"
      },
      "outputs": [],
      "source": [
        "def reset_random_seeds():\n",
        "   os.environ['PYTHONHASHSEED']=str(seed_value)\n",
        "   tf.random.set_seed(seed_value)\n",
        "   np.random.seed(seed_value)\n",
        "   random.seed(seed_value)\n",
        "   os.environ['TF_DETERMINISTIC_OPS'] = '1'"
      ],
      "id": "J8WaiggLLFFB"
    },
    {
      "cell_type": "code",
      "execution_count": 9,
      "metadata": {
        "id": "757dQHh4cPBT",
        "colab": {
          "base_uri": "https://localhost:8080/"
        },
        "outputId": "c96d9f99-7d8f-43af-917f-614fc4d19271"
      },
      "outputs": [
        {
          "output_type": "stream",
          "name": "stdout",
          "text": [
            "3\n",
            "0.052363598850944326\n",
            "tf.Tensor([0.12615311], shape=(1,), dtype=float32)\n"
          ]
        }
      ],
      "source": [
        "np.random.seed(seed_value)\n",
        "vec = np.random.randint(1, 10)\n",
        "print(vec)\n",
        "random.seed(123)\n",
        "print(random.random())\n",
        "tf.random.set_seed(123)\n",
        "print(tf.random.uniform([1])) "
      ],
      "id": "757dQHh4cPBT"
    },
    {
      "cell_type": "markdown",
      "metadata": {
        "id": "e66d2d7b-4893-4a3f-b736-4573b7d47491"
      },
      "source": [
        "## Extracting Data"
      ],
      "id": "e66d2d7b-4893-4a3f-b736-4573b7d47491"
    },
    {
      "cell_type": "code",
      "execution_count": 10,
      "metadata": {
        "id": "1d3bce8f-be43-449d-a4a0-0457b3eafa2f"
      },
      "outputs": [],
      "source": [
        "module = os.path.abspath('/content/gdrive/MyDrive/WESAD/')\n",
        "if module not in sys.path:\n",
        "    sys.path.append(module)\n",
        "from DataManager import DataManager"
      ],
      "id": "1d3bce8f-be43-449d-a4a0-0457b3eafa2f"
    },
    {
      "cell_type": "markdown",
      "metadata": {
        "id": "b8c310de-14fc-4be7-874d-348b4b969968"
      },
      "source": [
        "## Data Preprocessing"
      ],
      "id": "b8c310de-14fc-4be7-874d-348b4b969968"
    },
    {
      "cell_type": "code",
      "execution_count": 11,
      "metadata": {
        "id": "cb718c08-b540-4df5-884b-f87da12346a3"
      },
      "outputs": [],
      "source": [
        "# config\n",
        "debug = False;"
      ],
      "id": "cb718c08-b540-4df5-884b-f87da12346a3"
    },
    {
      "cell_type": "code",
      "execution_count": 12,
      "metadata": {
        "id": "f8013425-26d3-417b-9198-a61a99b4f102"
      },
      "outputs": [],
      "source": [
        "# subject_ids = [2, 3, 4, 5, 6, 7, 8, 9, 10, 11, 13, 14, 15, 16, 17]"
      ],
      "id": "f8013425-26d3-417b-9198-a61a99b4f102"
    },
    {
      "cell_type": "code",
      "execution_count": 13,
      "metadata": {
        "id": "b60e845d-b5c4-4053-b118-9a0ba4108f22"
      },
      "outputs": [],
      "source": [
        "test_subject = [9]\n",
        "rest_subjects = [2, 3, 4, 5, 6, 7, 8, 10, 11, 13, 14, 15, 16, 17]"
      ],
      "id": "b60e845d-b5c4-4053-b118-9a0ba4108f22"
    },
    {
      "cell_type": "code",
      "execution_count": 14,
      "metadata": {
        "id": "0bc3ccef-c157-4c18-b221-3dbfac319d17"
      },
      "outputs": [],
      "source": [
        "def generateData(subject_ids):\n",
        "    data = DataManager()\n",
        "    all_subject_data = np.array([]);\n",
        "    all_subject_labels = np.array([]);\n",
        "\n",
        "#     subject_ids = [2, 3]\n",
        "\n",
        "    for subject_id in subject_ids:\n",
        "        if(debug): print(\"Processing subject id: \", subject_id);\n",
        "        subject = data.load(subject_id)\n",
        "\n",
        "\n",
        "        if(debug):\n",
        "            print('baseline: ', subject[0], '\\nstress: ', subject[1], '\\namusement: ', subject[2], '\\nbase_label: ', subject[3], '\\nstress_label: ', subject[4], '\\namuse_label: ', subject[5])\n",
        "\n",
        "        ecg_base = subject[0]\n",
        "        ecg_stress = subject[1]\n",
        "        ecg_amusement = subject[2]\n",
        "\n",
        "        base_label = subject[3]\n",
        "        stress_label = subject[4]\n",
        "        amuse_label = subject[5]\n",
        "\n",
        "        ecg_base_T = ecg_base.T\n",
        "        ecg_stress_T = ecg_stress.T\n",
        "        ecg_amusement_T = ecg_amusement.T\n",
        "\n",
        "        ecg_base_data = ecg_base_T[0]\n",
        "        ecg_stress_data = ecg_stress_T[0]\n",
        "        ecg_amusement_data = ecg_amusement_T[0]\n",
        "\n",
        "        ecg_base_label =  base_label.T\n",
        "        ecg_stress_label  = stress_label.T\n",
        "        ecg_amusement_label  = amuse_label.T\n",
        "\n",
        "        if(debug):\n",
        "            print('ecg_base_data:', ecg_base_data)\n",
        "            print('ecg_stress_data:', ecg_stress_data)\n",
        "            print('ecg_amusement_data:', ecg_amusement_data)\n",
        "\n",
        "            print('ecg_base_label:', ecg_base_label)\n",
        "            print('ecg_stress_label:', ecg_stress_label)\n",
        "            print('ecg_amusement_label:', ecg_amusement_label)\n",
        "\n",
        "\n",
        "        base_secs = len(ecg_base_data) // 700 # Number of seconds in signal X\n",
        "        base_samps = int(base_secs * 256 )    # Number of samples to downsample\n",
        "        base_down = signal.resample(ecg_base_data, base_samps)\n",
        "\n",
        "\n",
        "        stress_secs = len(ecg_stress_data) // 700 # Number of seconds in signal X\n",
        "        stress_samps = int(stress_secs * 256 )    # Number of samples to downsample\n",
        "        stress_down = signal.resample(ecg_stress_data, stress_samps)\n",
        "\n",
        "\n",
        "        amuse_secs = len(ecg_amusement_data) // 700 # Number of seconds in signal X\n",
        "        amuse_samps = int(amuse_secs * 256 )    # Number of samples to downsample\n",
        "        amuse_down = signal.resample(ecg_amusement_data, amuse_samps)\n",
        "\n",
        "    #     heart_beat_base = np.array_split(base_down, 256)\n",
        "    #     heart_beat_stress = np.array_split(stress_down, 256)\n",
        "    #     heart_beat_amuse = np.array_split(amuse_down, 256)\n",
        "\n",
        "        window_size = 256\n",
        "        window_shift = 256\n",
        "\n",
        "        heart_beat_base = []\n",
        "        for i in range(0,len(base_down) - window_size,window_shift):\n",
        "            heart_beat_base.append(base_down[i:window_size + i])\n",
        "        heart_beat_base.pop()\n",
        "    #     heart_beat_base = np.array(list(heart_beat_base[:]), dtype=float)\n",
        "\n",
        "        heart_beat_stress = []\n",
        "        for i in range(0,len(stress_down) - window_size,window_shift):\n",
        "            heart_beat_stress.append(stress_down[i:window_size + i])\n",
        "        heart_beat_stress.pop()\n",
        "    #     heart_beat_stress = np.array(list(heart_beat_stress[:]), dtype=float)\n",
        "\n",
        "        heart_beat_amuse = []\n",
        "        for i in range(0,len(amuse_down) - window_size,window_shift):\n",
        "            heart_beat_amuse.append(amuse_down[i:window_size + i])\n",
        "        heart_beat_amuse.pop()\n",
        "    #     heart_beat_amuse = np.array(list(heart_beat_amuse[:]), dtype=float)\n",
        "\n",
        "\n",
        "        for idx, idxval in enumerate(heart_beat_base):\n",
        "            heart_beat_base[idx] = (heart_beat_base[idx] - heart_beat_base[idx].min()) / heart_beat_base[idx].ptp() # Normalize the readings to a 0-1 range \n",
        "            heart_beat_base[idx] = np.append(heart_beat_base[idx], 0.0) #Baseline = 0\n",
        "\n",
        "        for idx, idxval in enumerate(heart_beat_stress):\n",
        "            heart_beat_stress[idx] = (heart_beat_stress[idx] - heart_beat_stress[idx].min()) / heart_beat_stress[idx].ptp() # Normalize the readings to a 0-1 range \n",
        "            heart_beat_stress[idx] = np.append(heart_beat_stress[idx], 1.0) #Stress = 1    \n",
        "\n",
        "        for idx, idxval in enumerate(heart_beat_amuse):\n",
        "            heart_beat_amuse[idx] = (heart_beat_amuse[idx] - heart_beat_amuse[idx].min()) / heart_beat_amuse[idx].ptp() # Normalize the readings to a 0-1 range \n",
        "            heart_beat_amuse[idx] = np.append(heart_beat_amuse[idx], 2.0) #Amusement = 2\n",
        "\n",
        "    #     print(\"heart_beat_base:\", len(heart_beat_base[0]), len(heart_beat_base[-2]), len(heart_beat_base[-1]))\n",
        "    #     print(\"heart_beat_stress:\", len(heart_beat_stress[0]), len(heart_beat_stress[-1]))\n",
        "    #     print(\"heart_beat_amuse:\", len(heart_beat_amuse[0]), len(heart_beat_amuse[-1]))\n",
        "\n",
        "        heart_beat_all = np.concatenate((heart_beat_base, heart_beat_stress, heart_beat_amuse), axis=0)\n",
        "        subject_data = np.array(list(heart_beat_all[:]), dtype=float)\n",
        "\n",
        "\n",
        "        if(all_subject_data.size == 0):\n",
        "            all_subject_data = subject_data\n",
        "        else:\n",
        "            if(subject_data.size != 0):\n",
        "                all_subject_data = np.concatenate((all_subject_data, subject_data), axis=0)\n",
        "\n",
        "        print(\"New data shape\", subject_data.shape, \"Total Shape: \", all_subject_data.shape)\n",
        "        \n",
        "    #SMOTE to balance the data\n",
        "    df_final_data_X = pd.DataFrame(data=all_subject_data[:, :-1])\n",
        "    df_final_data_Y = pd.DataFrame(data=all_subject_data[:,-1])\n",
        "\n",
        "    smote = SMOTE(sampling_strategy='not majority')\n",
        "    X_sm, y_sm = smote.fit_resample(df_final_data_X, df_final_data_Y)\n",
        "    \n",
        "    return X_sm, y_sm"
      ],
      "id": "0bc3ccef-c157-4c18-b221-3dbfac319d17"
    },
    {
      "cell_type": "markdown",
      "metadata": {
        "id": "5dd34aec-c72d-47e6-98b3-1732ab648f1d"
      },
      "source": [
        "## Data Generation - Train"
      ],
      "id": "5dd34aec-c72d-47e6-98b3-1732ab648f1d"
    },
    {
      "cell_type": "code",
      "execution_count": 15,
      "metadata": {
        "colab": {
          "base_uri": "https://localhost:8080/"
        },
        "id": "c2d8ef26-a748-45c8-9ffd-a15ad4c78e11",
        "outputId": "fbc78c9b-17c4-4947-f665-a0f238f82b40"
      },
      "outputs": [
        {
          "output_type": "stream",
          "name": "stdout",
          "text": [
            "Loading data for S2\n",
            "New data shape (2115, 257) Total Shape:  (2115, 257)\n",
            "Loading data for S3\n",
            "New data shape (2149, 257) Total Shape:  (4264, 257)\n",
            "Loading data for S4\n",
            "New data shape (2159, 257) Total Shape:  (6423, 257)\n",
            "Loading data for S5\n",
            "New data shape (2211, 257) Total Shape:  (8634, 257)\n",
            "Loading data for S6\n",
            "New data shape (2196, 257) Total Shape:  (10830, 257)\n",
            "Loading data for S7\n",
            "New data shape (2192, 257) Total Shape:  (13022, 257)\n",
            "Loading data for S8\n",
            "New data shape (2202, 257) Total Shape:  (15224, 257)\n",
            "Loading data for S10\n",
            "New data shape (2271, 257) Total Shape:  (17495, 257)\n",
            "Loading data for S11\n",
            "New data shape (2222, 257) Total Shape:  (19717, 257)\n",
            "Loading data for S13\n",
            "New data shape (2220, 257) Total Shape:  (21937, 257)\n",
            "Loading data for S14\n",
            "New data shape (2221, 257) Total Shape:  (24158, 257)\n",
            "Loading data for S15\n",
            "New data shape (2227, 257) Total Shape:  (26385, 257)\n",
            "Loading data for S16\n",
            "New data shape (2215, 257) Total Shape:  (28600, 257)\n",
            "Loading data for S17\n",
            "New data shape (2270, 257) Total Shape:  (30870, 257)\n"
          ]
        }
      ],
      "source": [
        "train_data, train_labels = generateData(rest_subjects)"
      ],
      "id": "c2d8ef26-a748-45c8-9ffd-a15ad4c78e11"
    },
    {
      "cell_type": "code",
      "execution_count": 16,
      "metadata": {
        "id": "efbff85c-a547-4e0a-a971-3fded2294ae3",
        "colab": {
          "base_uri": "https://localhost:8080/"
        },
        "outputId": "7b2972a4-9a58-4699-aec4-688df8c662e6"
      },
      "outputs": [
        {
          "output_type": "execute_result",
          "data": {
            "text/plain": [
              "0.0    16403\n",
              "1.0    16403\n",
              "2.0    16403\n",
              "dtype: int64"
            ]
          },
          "metadata": {},
          "execution_count": 16
        }
      ],
      "source": [
        "train_labels.value_counts()"
      ],
      "id": "efbff85c-a547-4e0a-a971-3fded2294ae3"
    },
    {
      "cell_type": "code",
      "execution_count": 17,
      "metadata": {
        "id": "c703a8a7-bccf-4f32-b52e-307e3d16c79a",
        "colab": {
          "base_uri": "https://localhost:8080/"
        },
        "outputId": "3d0525ea-421d-4232-a3ed-09d7b73c15c2"
      },
      "outputs": [
        {
          "output_type": "stream",
          "name": "stdout",
          "text": [
            "Train data shape: (49209, 256)\n",
            "Train labels shape: (49209, 1)\n",
            "Dimension: 2\n"
          ]
        }
      ],
      "source": [
        "print(\"Train data shape:\", train_data.shape)\n",
        "print(\"Train labels shape:\", train_labels.shape)\n",
        "print(\"Dimension:\", train_labels.ndim)"
      ],
      "id": "c703a8a7-bccf-4f32-b52e-307e3d16c79a"
    },
    {
      "cell_type": "code",
      "execution_count": 18,
      "metadata": {
        "id": "07faed35-0bc6-4aa0-be55-9b2e71cbc62d"
      },
      "outputs": [],
      "source": [
        "train_labels = pd.DataFrame(train_labels).to_numpy()\n",
        "train_labels = train_labels.reshape(-1)"
      ],
      "id": "07faed35-0bc6-4aa0-be55-9b2e71cbc62d"
    },
    {
      "cell_type": "code",
      "execution_count": 19,
      "metadata": {
        "id": "0955171a-73a5-4498-85c2-536f1037c7ab",
        "colab": {
          "base_uri": "https://localhost:8080/"
        },
        "outputId": "069e01df-1efc-4690-d112-bebd0b055ce7"
      },
      "outputs": [
        {
          "output_type": "stream",
          "name": "stdout",
          "text": [
            "Train labels shape: (49209,)\n",
            "Dimension: 1\n"
          ]
        }
      ],
      "source": [
        "print(\"Train labels shape:\", train_labels.shape)\n",
        "print(\"Dimension:\", train_labels.ndim)"
      ],
      "id": "0955171a-73a5-4498-85c2-536f1037c7ab"
    },
    {
      "cell_type": "markdown",
      "metadata": {
        "id": "0056613e-a1e2-4317-b86b-ea242bceb167"
      },
      "source": [
        "## Train and Validation data split"
      ],
      "id": "0056613e-a1e2-4317-b86b-ea242bceb167"
    },
    {
      "cell_type": "code",
      "execution_count": 20,
      "metadata": {
        "id": "0cf106b5-4df9-4929-8ada-a604c1d40b1c"
      },
      "outputs": [],
      "source": [
        "X_train, X_val, y_train, y_val = train_test_split(train_data, train_labels, test_size=0.3, random_state=42)"
      ],
      "id": "0cf106b5-4df9-4929-8ada-a604c1d40b1c"
    },
    {
      "cell_type": "code",
      "execution_count": 21,
      "metadata": {
        "id": "0ca1454b-57a4-4e66-8b51-b7a3a5248d59"
      },
      "outputs": [],
      "source": [
        "#Reshape train and validation data to (n_samples, 256, 1), where each sample is of size (256, 1)\n",
        "X_train = np.array(X_train).reshape(X_train.shape[0], X_train.shape[1], 1)\n",
        "X_val = np.array(X_val).reshape(X_val.shape[0], X_val.shape[1], 1)"
      ],
      "id": "0ca1454b-57a4-4e66-8b51-b7a3a5248d59"
    },
    {
      "cell_type": "code",
      "execution_count": 22,
      "metadata": {
        "id": "d88aaef6-613e-4391-9e2c-1dd3c8561037",
        "colab": {
          "base_uri": "https://localhost:8080/"
        },
        "outputId": "6a3040b4-2d90-4441-b815-5db55a05ce96"
      },
      "outputs": [
        {
          "output_type": "stream",
          "name": "stdout",
          "text": [
            "size of X_train: (34446, 256, 1)\n",
            "size of X_val: (14763, 256, 1)\n",
            "size of y_train: (34446,)\n",
            "size of y_val: (14763,)\n",
            "Train: Counter({1.0: 11496, 0.0: 11482, 2.0: 11468}) \n",
            "Val: Counter({2.0: 4935, 0.0: 4921, 1.0: 4907})\n"
          ]
        }
      ],
      "source": [
        "print('size of X_train:', X_train.shape)\n",
        "print('size of X_val:', X_val.shape)\n",
        "\n",
        "print('size of y_train:', y_train.shape)\n",
        "print('size of y_val:', y_val.shape)\n",
        "\n",
        "print('Train:', Counter(y_train), '\\nVal:', Counter(y_val))"
      ],
      "id": "d88aaef6-613e-4391-9e2c-1dd3c8561037"
    },
    {
      "cell_type": "markdown",
      "metadata": {
        "id": "c1a376b8-41c8-4f18-9f34-4dfd9dbe2095"
      },
      "source": [
        "## Data Generation - Test"
      ],
      "id": "c1a376b8-41c8-4f18-9f34-4dfd9dbe2095"
    },
    {
      "cell_type": "code",
      "execution_count": 23,
      "metadata": {
        "id": "a1af8ad9-5f66-4af1-8739-6ee8db2a0e8f",
        "colab": {
          "base_uri": "https://localhost:8080/"
        },
        "outputId": "97b2b721-c30f-4d19-c53a-13fa28d49dda"
      },
      "outputs": [
        {
          "output_type": "stream",
          "name": "stdout",
          "text": [
            "Loading data for S9\n",
            "New data shape (2191, 257) Total Shape:  (2191, 257)\n"
          ]
        }
      ],
      "source": [
        "test_data, test_labels = generateData(test_subject)"
      ],
      "id": "a1af8ad9-5f66-4af1-8739-6ee8db2a0e8f"
    },
    {
      "cell_type": "code",
      "execution_count": 24,
      "metadata": {
        "id": "7f1d6eee-b4e9-4285-aca7-f8d265cb80ea",
        "colab": {
          "base_uri": "https://localhost:8080/"
        },
        "outputId": "0605ef52-c923-4a6b-8b71-d1c661bd2024"
      },
      "outputs": [
        {
          "output_type": "execute_result",
          "data": {
            "text/plain": [
              "0.0    1178\n",
              "1.0    1178\n",
              "2.0    1178\n",
              "dtype: int64"
            ]
          },
          "metadata": {},
          "execution_count": 24
        }
      ],
      "source": [
        "test_labels.value_counts()"
      ],
      "id": "7f1d6eee-b4e9-4285-aca7-f8d265cb80ea"
    },
    {
      "cell_type": "code",
      "execution_count": 25,
      "metadata": {
        "id": "91b3d95a-0d7d-4749-abbe-daae58d288ab",
        "colab": {
          "base_uri": "https://localhost:8080/"
        },
        "outputId": "10954681-d826-44ed-cfe1-75e7b109033e"
      },
      "outputs": [
        {
          "output_type": "stream",
          "name": "stdout",
          "text": [
            "Test data shape: (3534, 256)\n",
            "Test labels shape: (3534, 1)\n",
            "Dimension: 2\n"
          ]
        }
      ],
      "source": [
        "print(\"Test data shape:\", test_data.shape)\n",
        "print(\"Test labels shape:\", test_labels.shape)\n",
        "print(\"Dimension:\", test_labels.ndim)"
      ],
      "id": "91b3d95a-0d7d-4749-abbe-daae58d288ab"
    },
    {
      "cell_type": "code",
      "execution_count": 26,
      "metadata": {
        "id": "31ff3a2d-fc23-427b-95a8-af211f29c2d4"
      },
      "outputs": [],
      "source": [
        "test_labels = pd.DataFrame(test_labels).to_numpy()\n",
        "y_test = test_labels.reshape(-1)"
      ],
      "id": "31ff3a2d-fc23-427b-95a8-af211f29c2d4"
    },
    {
      "cell_type": "code",
      "execution_count": 27,
      "metadata": {
        "id": "1aec55d5-50f9-4ec5-9281-822b7e444b02",
        "colab": {
          "base_uri": "https://localhost:8080/"
        },
        "outputId": "979f7aaf-78f4-426d-f6f8-a75a68662b40"
      },
      "outputs": [
        {
          "output_type": "stream",
          "name": "stdout",
          "text": [
            "Test labels shape: (3534,)\n",
            "Dimension: 1\n"
          ]
        }
      ],
      "source": [
        "print(\"Test labels shape:\", y_test.shape)\n",
        "print(\"Dimension:\", y_test.ndim)"
      ],
      "id": "1aec55d5-50f9-4ec5-9281-822b7e444b02"
    },
    {
      "cell_type": "code",
      "execution_count": 28,
      "metadata": {
        "id": "4a09b0de-591f-4128-9521-44bc17a6362f"
      },
      "outputs": [],
      "source": [
        "#Reshape test data to (n_samples, 256, 1), where each sample is of size (256, 1)\n",
        "X_test = np.array(test_data).reshape(test_data.shape[0], test_data.shape[1], 1)"
      ],
      "id": "4a09b0de-591f-4128-9521-44bc17a6362f"
    },
    {
      "cell_type": "code",
      "execution_count": 29,
      "metadata": {
        "id": "22ed9629-76d3-4e08-a7b9-cdb3b9011ad4",
        "colab": {
          "base_uri": "https://localhost:8080/"
        },
        "outputId": "dbb5d323-b048-4830-be2d-5b4650709b6d"
      },
      "outputs": [
        {
          "output_type": "stream",
          "name": "stdout",
          "text": [
            "size of X_test: (3534, 256, 1)\n",
            "size of y_test: (3534,)\n",
            "Test: Counter({0.0: 1178, 1.0: 1178, 2.0: 1178})\n"
          ]
        }
      ],
      "source": [
        "print('size of X_test:', X_test.shape)\n",
        "print('size of y_test:', y_test.shape)\n",
        "\n",
        "print('Test:', Counter(y_test))"
      ],
      "id": "22ed9629-76d3-4e08-a7b9-cdb3b9011ad4"
    },
    {
      "cell_type": "code",
      "execution_count": 30,
      "metadata": {
        "id": "eb79359f-16dd-484b-a375-964aab2818a6"
      },
      "outputs": [],
      "source": [
        "# df_final_data_X = pd.DataFrame(data=all_subject_data[:, :-1])\n",
        "# df_final_data_Y = pd.DataFrame(data=all_subject_data[:,-1])\n",
        "\n",
        "# smote = SMOTE(sampling_strategy='not majority')\n",
        "# X_sm, y_sm = smote.fit_resample(df_final_data_X, df_final_data_Y)\n",
        "# y_sm.value_counts()"
      ],
      "id": "eb79359f-16dd-484b-a375-964aab2818a6"
    },
    {
      "cell_type": "code",
      "execution_count": 31,
      "metadata": {
        "id": "f743f03f-108a-41e0-97f6-ac6ffa0a6b45"
      },
      "outputs": [],
      "source": [
        "# Reshape train and test data to (n_samples, 256, 1), where each sample is of size (256, 1)\n",
        "# X_train = np.array(X_train).reshape(X_train.shape[0], X_train.shape[1], 1)\n",
        "# X_test = np.array(X_test).reshape(X_test.shape[0], X_test.shape[1], 1)\n",
        "# X_val = np.array(X_val).reshape(X_val.shape[0], X_val.shape[1], 1)"
      ],
      "id": "f743f03f-108a-41e0-97f6-ac6ffa0a6b45"
    },
    {
      "cell_type": "markdown",
      "metadata": {
        "id": "55798da1-6d1c-4571-963c-a5b441ba120b"
      },
      "source": [
        "## 1D CNN Model Architecture"
      ],
      "id": "55798da1-6d1c-4571-963c-a5b441ba120b"
    },
    {
      "cell_type": "code",
      "execution_count": 32,
      "metadata": {
        "id": "79d05253-ed96-432a-8bf0-d690a2e17b7d"
      },
      "outputs": [],
      "source": [
        "from tensorflow.keras.models import Sequential\n",
        "from tensorflow.keras.layers import Dense, Flatten, Conv1D, BatchNormalization, MaxPool1D, Input\n",
        "from tensorflow.keras.optimizers import SGD, Adam\n",
        "from tensorflow.keras.callbacks import LearningRateScheduler"
      ],
      "id": "79d05253-ed96-432a-8bf0-d690a2e17b7d"
    },
    {
      "cell_type": "code",
      "execution_count": 33,
      "metadata": {
        "id": "9ac761c1-55b6-4740-852e-aa4d7291024b",
        "colab": {
          "base_uri": "https://localhost:8080/"
        },
        "outputId": "e4b3bd41-0225-43f3-d1f8-c6cda18d4bd9"
      },
      "outputs": [
        {
          "output_type": "stream",
          "name": "stdout",
          "text": [
            "Model: \"sequential\"\n",
            "_________________________________________________________________\n",
            " Layer (type)                Output Shape              Param #   \n",
            "=================================================================\n",
            " conv1d (Conv1D)             (None, 256, 5)            30        \n",
            "                                                                 \n",
            " max_pooling1d (MaxPooling1D  (None, 128, 5)           0         \n",
            " )                                                               \n",
            "                                                                 \n",
            " conv1d_1 (Conv1D)           (None, 128, 10)           260       \n",
            "                                                                 \n",
            " max_pooling1d_1 (MaxPooling  (None, 64, 10)           0         \n",
            " 1D)                                                             \n",
            "                                                                 \n",
            " conv1d_2 (Conv1D)           (None, 64, 10)            410       \n",
            "                                                                 \n",
            " max_pooling1d_2 (MaxPooling  (None, 32, 10)           0         \n",
            " 1D)                                                             \n",
            "                                                                 \n",
            " flatten (Flatten)           (None, 320)               0         \n",
            "                                                                 \n",
            " dense (Dense)               (None, 128)               41088     \n",
            "                                                                 \n",
            " dense_1 (Dense)             (None, 3)                 387       \n",
            "                                                                 \n",
            "=================================================================\n",
            "Total params: 42,175\n",
            "Trainable params: 42,175\n",
            "Non-trainable params: 0\n",
            "_________________________________________________________________\n"
          ]
        }
      ],
      "source": [
        "reset_random_seeds()\n",
        "initializer = tf.keras.initializers.HeUniform()\n",
        "cnn_model = tf.keras.models.Sequential()\n",
        "cnn_model.add(Input(shape = (X_train.shape[1],1)))\n",
        "cnn_model.add(Conv1D(filters=5, kernel_size=(5,), padding='same',  activation='relu', kernel_initializer=initializer) )\n",
        "cnn_model.add(MaxPool1D(pool_size=(2,), strides=2))\n",
        "cnn_model.add(Conv1D(filters=10, kernel_size=(5,), padding='same', activation='relu', kernel_regularizer =tf.keras.regularizers.l2(l=0.004)))\n",
        "cnn_model.add(MaxPool1D(pool_size=(2,), strides=2))\n",
        "cnn_model.add(Conv1D(filters=10, kernel_size=(4,), padding='same', activation='relu', kernel_regularizer =tf.keras.regularizers.l2(l=0.004)))\n",
        "cnn_model.add(MaxPool1D(pool_size=(2,), strides=2))\n",
        "cnn_model.add(Flatten())\n",
        "cnn_model.add(Dense(units = 128, kernel_regularizer =tf.keras.regularizers.l2(l=0.004)))\n",
        "cnn_model.add(Dense(units = 3, activation='softmax'))\n",
        "cnn_model.summary()"
      ],
      "id": "9ac761c1-55b6-4740-852e-aa4d7291024b"
    },
    {
      "cell_type": "code",
      "execution_count": 34,
      "metadata": {
        "id": "b7edc471-c59f-4e45-a885-82254100788d"
      },
      "outputs": [],
      "source": [
        "epochs=50\n",
        "batch_size = 32"
      ],
      "id": "b7edc471-c59f-4e45-a885-82254100788d"
    },
    {
      "cell_type": "code",
      "execution_count": 35,
      "metadata": {
        "id": "abb7e5c8-55e0-47aa-8d97-9774eae4eecf"
      },
      "outputs": [],
      "source": [
        "def step_decay(epoch):\n",
        "  initial_lrate = 0.005\n",
        "  drop = 0.6\n",
        "  epochs_drop = 10.0\n",
        "  lrate = initial_lrate * math.pow(drop, math.floor((1+epoch)/epochs_drop))\n",
        "  return lrate\n",
        "\n",
        "lrate = LearningRateScheduler(step_decay)\n",
        "callbacks_list = [lrate]"
      ],
      "id": "abb7e5c8-55e0-47aa-8d97-9774eae4eecf"
    },
    {
      "cell_type": "code",
      "execution_count": 36,
      "metadata": {
        "id": "b7dafc4a-177f-43f5-8b7d-6cdf01a8b931"
      },
      "outputs": [],
      "source": [
        "# class LossHistory(tf.keras.callbacks.Callback):\n",
        "#     def on_train_begin(self, logs={}):\n",
        "#        self.losses = []\n",
        "#        self.lr = []\n",
        " \n",
        "#     def on_epoch_end(self, batch, logs={}):\n",
        "#        self.losses.append(logs.get('loss'))\n",
        "#        self.lr.append(step_decay(len(self.losses)))"
      ],
      "id": "b7dafc4a-177f-43f5-8b7d-6cdf01a8b931"
    },
    {
      "cell_type": "code",
      "execution_count": 37,
      "metadata": {
        "id": "d0efd3ac-1f61-47b0-bdbe-ec99da42c64a"
      },
      "outputs": [],
      "source": [
        "# loss_history = LossHistory()\n",
        "# lrate = LearningRateScheduler(step_decay)\n",
        "# callbacks_list = [loss_history, lrate]"
      ],
      "id": "d0efd3ac-1f61-47b0-bdbe-ec99da42c64a"
    },
    {
      "cell_type": "code",
      "execution_count": 38,
      "metadata": {
        "id": "bdeaee3a-c6e0-422f-a0e2-0e3f213430d5"
      },
      "outputs": [],
      "source": [
        "opt = tf.keras.optimizers.SGD( learning_rate=0.0, momentum=0.6, nesterov=False)\n",
        "\n",
        "cnn_model.compile(optimizer= opt, loss = 'sparse_categorical_crossentropy', metrics=['accuracy'])"
      ],
      "id": "bdeaee3a-c6e0-422f-a0e2-0e3f213430d5"
    },
    {
      "cell_type": "code",
      "execution_count": 39,
      "metadata": {
        "id": "0d10b0c6-549c-49e6-82e1-c7a646a929fd",
        "colab": {
          "base_uri": "https://localhost:8080/"
        },
        "outputId": "915a7763-53c0-4d90-9d3c-5f8290a74766"
      },
      "outputs": [
        {
          "output_type": "stream",
          "name": "stdout",
          "text": [
            "Epoch 1/50\n",
            "1077/1077 - 16s - loss: 1.8112 - accuracy: 0.3766 - val_loss: 1.7203 - val_accuracy: 0.4261 - lr: 0.0050 - 16s/epoch - 15ms/step\n",
            "Epoch 2/50\n",
            "1077/1077 - 5s - loss: 1.6281 - accuracy: 0.4466 - val_loss: 1.5386 - val_accuracy: 0.4774 - lr: 0.0050 - 5s/epoch - 5ms/step\n",
            "Epoch 3/50\n",
            "1077/1077 - 5s - loss: 1.4634 - accuracy: 0.4799 - val_loss: 1.3946 - val_accuracy: 0.4854 - lr: 0.0050 - 5s/epoch - 5ms/step\n",
            "Epoch 4/50\n",
            "1077/1077 - 5s - loss: 1.3495 - accuracy: 0.4920 - val_loss: 1.3000 - val_accuracy: 0.4966 - lr: 0.0050 - 5s/epoch - 5ms/step\n",
            "Epoch 5/50\n",
            "1077/1077 - 5s - loss: 1.2668 - accuracy: 0.4970 - val_loss: 1.2695 - val_accuracy: 0.4507 - lr: 0.0050 - 5s/epoch - 5ms/step\n",
            "Epoch 6/50\n",
            "1077/1077 - 5s - loss: 1.2008 - accuracy: 0.5026 - val_loss: 1.2347 - val_accuracy: 0.4845 - lr: 0.0050 - 5s/epoch - 5ms/step\n",
            "Epoch 7/50\n",
            "1077/1077 - 5s - loss: 1.1502 - accuracy: 0.5081 - val_loss: 1.1791 - val_accuracy: 0.4540 - lr: 0.0050 - 5s/epoch - 5ms/step\n",
            "Epoch 8/50\n",
            "1077/1077 - 5s - loss: 1.1077 - accuracy: 0.5102 - val_loss: 1.0892 - val_accuracy: 0.5115 - lr: 0.0050 - 5s/epoch - 5ms/step\n",
            "Epoch 9/50\n",
            "1077/1077 - 5s - loss: 1.0746 - accuracy: 0.5143 - val_loss: 1.0780 - val_accuracy: 0.4819 - lr: 0.0050 - 5s/epoch - 5ms/step\n",
            "Epoch 10/50\n",
            "1077/1077 - 5s - loss: 1.0463 - accuracy: 0.5209 - val_loss: 1.0483 - val_accuracy: 0.4962 - lr: 0.0030 - 5s/epoch - 5ms/step\n",
            "Epoch 11/50\n",
            "1077/1077 - 5s - loss: 1.0306 - accuracy: 0.5208 - val_loss: 1.0443 - val_accuracy: 0.5113 - lr: 0.0030 - 5s/epoch - 5ms/step\n",
            "Epoch 12/50\n",
            "1077/1077 - 5s - loss: 1.0191 - accuracy: 0.5208 - val_loss: 1.0185 - val_accuracy: 0.5243 - lr: 0.0030 - 5s/epoch - 5ms/step\n",
            "Epoch 13/50\n",
            "1077/1077 - 5s - loss: 1.0052 - accuracy: 0.5248 - val_loss: 1.0260 - val_accuracy: 0.5139 - lr: 0.0030 - 5s/epoch - 5ms/step\n",
            "Epoch 14/50\n",
            "1077/1077 - 5s - loss: 0.9946 - accuracy: 0.5276 - val_loss: 0.9937 - val_accuracy: 0.5246 - lr: 0.0030 - 5s/epoch - 5ms/step\n",
            "Epoch 15/50\n",
            "1077/1077 - 5s - loss: 0.9849 - accuracy: 0.5288 - val_loss: 0.9772 - val_accuracy: 0.5390 - lr: 0.0030 - 5s/epoch - 5ms/step\n",
            "Epoch 16/50\n",
            "1077/1077 - 5s - loss: 0.9763 - accuracy: 0.5302 - val_loss: 0.9814 - val_accuracy: 0.5349 - lr: 0.0030 - 5s/epoch - 5ms/step\n",
            "Epoch 17/50\n",
            "1077/1077 - 5s - loss: 0.9667 - accuracy: 0.5358 - val_loss: 0.9722 - val_accuracy: 0.5050 - lr: 0.0030 - 5s/epoch - 5ms/step\n",
            "Epoch 18/50\n",
            "1077/1077 - 5s - loss: 0.9596 - accuracy: 0.5374 - val_loss: 0.9592 - val_accuracy: 0.5381 - lr: 0.0030 - 5s/epoch - 5ms/step\n",
            "Epoch 19/50\n",
            "1077/1077 - 5s - loss: 0.9524 - accuracy: 0.5372 - val_loss: 0.9468 - val_accuracy: 0.5381 - lr: 0.0030 - 5s/epoch - 5ms/step\n",
            "Epoch 20/50\n",
            "1077/1077 - 5s - loss: 0.9407 - accuracy: 0.5467 - val_loss: 0.9572 - val_accuracy: 0.5059 - lr: 0.0018 - 5s/epoch - 5ms/step\n",
            "Epoch 21/50\n",
            "1077/1077 - 5s - loss: 0.9371 - accuracy: 0.5483 - val_loss: 0.9359 - val_accuracy: 0.5370 - lr: 0.0018 - 5s/epoch - 5ms/step\n",
            "Epoch 22/50\n",
            "1077/1077 - 5s - loss: 0.9332 - accuracy: 0.5479 - val_loss: 0.9329 - val_accuracy: 0.5428 - lr: 0.0018 - 5s/epoch - 5ms/step\n",
            "Epoch 23/50\n",
            "1077/1077 - 5s - loss: 0.9288 - accuracy: 0.5505 - val_loss: 0.9705 - val_accuracy: 0.4975 - lr: 0.0018 - 5s/epoch - 5ms/step\n",
            "Epoch 24/50\n",
            "1077/1077 - 5s - loss: 0.9257 - accuracy: 0.5518 - val_loss: 0.9206 - val_accuracy: 0.5565 - lr: 0.0018 - 5s/epoch - 5ms/step\n",
            "Epoch 25/50\n",
            "1077/1077 - 5s - loss: 0.9222 - accuracy: 0.5547 - val_loss: 0.9290 - val_accuracy: 0.5548 - lr: 0.0018 - 5s/epoch - 5ms/step\n",
            "Epoch 26/50\n",
            "1077/1077 - 5s - loss: 0.9189 - accuracy: 0.5540 - val_loss: 0.9150 - val_accuracy: 0.5620 - lr: 0.0018 - 5s/epoch - 5ms/step\n",
            "Epoch 27/50\n",
            "1077/1077 - 5s - loss: 0.9157 - accuracy: 0.5577 - val_loss: 0.9244 - val_accuracy: 0.5399 - lr: 0.0018 - 5s/epoch - 5ms/step\n",
            "Epoch 28/50\n",
            "1077/1077 - 5s - loss: 0.9112 - accuracy: 0.5612 - val_loss: 0.9214 - val_accuracy: 0.5596 - lr: 0.0018 - 5s/epoch - 5ms/step\n",
            "Epoch 29/50\n",
            "1077/1077 - 5s - loss: 0.9088 - accuracy: 0.5602 - val_loss: 1.0015 - val_accuracy: 0.4843 - lr: 0.0018 - 5s/epoch - 5ms/step\n",
            "Epoch 30/50\n",
            "1077/1077 - 5s - loss: 0.9002 - accuracy: 0.5689 - val_loss: 0.8990 - val_accuracy: 0.5685 - lr: 0.0011 - 5s/epoch - 5ms/step\n",
            "Epoch 31/50\n",
            "1077/1077 - 5s - loss: 0.8982 - accuracy: 0.5685 - val_loss: 0.8975 - val_accuracy: 0.5727 - lr: 0.0011 - 5s/epoch - 5ms/step\n",
            "Epoch 32/50\n",
            "1077/1077 - 5s - loss: 0.8952 - accuracy: 0.5697 - val_loss: 0.9061 - val_accuracy: 0.5705 - lr: 0.0011 - 5s/epoch - 5ms/step\n",
            "Epoch 33/50\n",
            "1077/1077 - 5s - loss: 0.8948 - accuracy: 0.5697 - val_loss: 0.8971 - val_accuracy: 0.5654 - lr: 0.0011 - 5s/epoch - 5ms/step\n",
            "Epoch 34/50\n",
            "1077/1077 - 5s - loss: 0.8943 - accuracy: 0.5695 - val_loss: 0.9015 - val_accuracy: 0.5699 - lr: 0.0011 - 5s/epoch - 5ms/step\n",
            "Epoch 35/50\n",
            "1077/1077 - 5s - loss: 0.8913 - accuracy: 0.5712 - val_loss: 0.9018 - val_accuracy: 0.5711 - lr: 0.0011 - 5s/epoch - 5ms/step\n",
            "Epoch 36/50\n",
            "1077/1077 - 5s - loss: 0.8902 - accuracy: 0.5711 - val_loss: 0.9055 - val_accuracy: 0.5689 - lr: 0.0011 - 5s/epoch - 5ms/step\n",
            "Epoch 37/50\n",
            "1077/1077 - 5s - loss: 0.8887 - accuracy: 0.5753 - val_loss: 0.8951 - val_accuracy: 0.5773 - lr: 0.0011 - 5s/epoch - 5ms/step\n",
            "Epoch 38/50\n",
            "1077/1077 - 5s - loss: 0.8864 - accuracy: 0.5750 - val_loss: 0.8855 - val_accuracy: 0.5738 - lr: 0.0011 - 5s/epoch - 5ms/step\n",
            "Epoch 39/50\n",
            "1077/1077 - 5s - loss: 0.8849 - accuracy: 0.5766 - val_loss: 0.9223 - val_accuracy: 0.5529 - lr: 0.0011 - 5s/epoch - 5ms/step\n",
            "Epoch 40/50\n",
            "1077/1077 - 5s - loss: 0.8808 - accuracy: 0.5795 - val_loss: 0.8825 - val_accuracy: 0.5800 - lr: 6.4800e-04 - 5s/epoch - 5ms/step\n",
            "Epoch 41/50\n",
            "1077/1077 - 5s - loss: 0.8794 - accuracy: 0.5823 - val_loss: 0.8823 - val_accuracy: 0.5809 - lr: 6.4800e-04 - 5s/epoch - 5ms/step\n",
            "Epoch 42/50\n",
            "1077/1077 - 5s - loss: 0.8788 - accuracy: 0.5836 - val_loss: 0.8848 - val_accuracy: 0.5680 - lr: 6.4800e-04 - 5s/epoch - 5ms/step\n",
            "Epoch 43/50\n",
            "1077/1077 - 5s - loss: 0.8783 - accuracy: 0.5849 - val_loss: 0.9026 - val_accuracy: 0.5701 - lr: 6.4800e-04 - 5s/epoch - 5ms/step\n",
            "Epoch 44/50\n",
            "1077/1077 - 5s - loss: 0.8777 - accuracy: 0.5830 - val_loss: 0.8882 - val_accuracy: 0.5617 - lr: 6.4800e-04 - 5s/epoch - 5ms/step\n",
            "Epoch 45/50\n",
            "1077/1077 - 5s - loss: 0.8762 - accuracy: 0.5834 - val_loss: 0.8796 - val_accuracy: 0.5758 - lr: 6.4800e-04 - 5s/epoch - 5ms/step\n",
            "Epoch 46/50\n",
            "1077/1077 - 5s - loss: 0.8751 - accuracy: 0.5847 - val_loss: 0.8781 - val_accuracy: 0.5882 - lr: 6.4800e-04 - 5s/epoch - 5ms/step\n",
            "Epoch 47/50\n",
            "1077/1077 - 5s - loss: 0.8739 - accuracy: 0.5857 - val_loss: 0.8791 - val_accuracy: 0.5702 - lr: 6.4800e-04 - 5s/epoch - 5ms/step\n",
            "Epoch 48/50\n",
            "1077/1077 - 5s - loss: 0.8715 - accuracy: 0.5870 - val_loss: 0.8731 - val_accuracy: 0.5818 - lr: 6.4800e-04 - 5s/epoch - 5ms/step\n",
            "Epoch 49/50\n",
            "1077/1077 - 5s - loss: 0.8693 - accuracy: 0.5878 - val_loss: 0.8851 - val_accuracy: 0.5645 - lr: 6.4800e-04 - 5s/epoch - 5ms/step\n",
            "Epoch 50/50\n",
            "1077/1077 - 5s - loss: 0.8630 - accuracy: 0.5931 - val_loss: 0.8687 - val_accuracy: 0.5911 - lr: 3.8880e-04 - 5s/epoch - 5ms/step\n"
          ]
        }
      ],
      "source": [
        "history = cnn_model.fit(X_train, y_train, epochs = epochs, batch_size = batch_size, validation_data = (X_val, y_val), callbacks=callbacks_list, verbose=2)"
      ],
      "id": "0d10b0c6-549c-49e6-82e1-c7a646a929fd"
    },
    {
      "cell_type": "code",
      "execution_count": 40,
      "metadata": {
        "id": "0d2c27ed-9a5f-4875-9577-437ccfaada09",
        "colab": {
          "base_uri": "https://localhost:8080/",
          "height": 308
        },
        "outputId": "0f1647e9-fa47-4cd5-cc2a-f9af5667fa54"
      },
      "outputs": [
        {
          "output_type": "display_data",
          "data": {
            "text/plain": [
              "<Figure size 864x288 with 2 Axes>"
            ],
            "image/png": "[encoded data removed]"
          },
          "metadata": {
            "needs_background": "light"
          }
        }
      ],
      "source": [
        "f, (ax1, ax2) = plt.subplots(1, 2, figsize=(12, 4))\n",
        "t = f.suptitle('1D CNN Performance', fontsize=12)\n",
        "f.subplots_adjust(top=0.85, wspace=0.3)\n",
        "\n",
        "max_epoch = len(history.history['accuracy'])+1\n",
        "epoch_list = list(range(1,max_epoch))\n",
        "ax1.plot(epoch_list, history.history['accuracy'], label='Train Accuracy')\n",
        "ax1.plot(epoch_list, history.history['val_accuracy'], label='Validation Accuracy')\n",
        "ax1.set_xticks(np.arange(1, max_epoch, 5))\n",
        "ax1.set_ylabel('Accuracy Value')\n",
        "ax1.set_xlabel('Epoch')\n",
        "ax1.set_title('Accuracy')\n",
        "l1 = ax1.legend(loc=\"best\")\n",
        "\n",
        "ax2.plot(epoch_list, history.history['loss'], label='Train Loss')\n",
        "ax2.plot(epoch_list, history.history['val_loss'], label='Validation Loss')\n",
        "ax2.set_xticks(np.arange(1, max_epoch, 5))\n",
        "ax2.set_ylabel('Loss Value')\n",
        "ax2.set_xlabel('Epoch')\n",
        "ax2.set_title('Loss')\n",
        "l2 = ax2.legend(loc=\"best\")"
      ],
      "id": "0d2c27ed-9a5f-4875-9577-437ccfaada09"
    },
    {
      "cell_type": "code",
      "execution_count": 41,
      "metadata": {
        "id": "e9779b3e-19af-43f5-8905-f5cc166a467a",
        "colab": {
          "base_uri": "https://localhost:8080/"
        },
        "outputId": "6942a1f3-5895-4cbe-dbb8-d1d249483b03"
      },
      "outputs": [
        {
          "output_type": "stream",
          "name": "stdout",
          "text": [
            "111/111 [==============================] - 0s 3ms/step - loss: 1.3690 - accuracy: 0.3149\n"
          ]
        },
        {
          "output_type": "execute_result",
          "data": {
            "text/plain": [
              "[1.3690308332443237, 0.31494057178497314]"
            ]
          },
          "metadata": {},
          "execution_count": 41
        }
      ],
      "source": [
        "cnn_model.evaluate(X_test, y_test)"
      ],
      "id": "e9779b3e-19af-43f5-8905-f5cc166a467a"
    },
    {
      "cell_type": "code",
      "execution_count": 42,
      "metadata": {
        "id": "01ca7251-8d33-41f0-8749-3282a5e6b26a",
        "colab": {
          "base_uri": "https://localhost:8080/"
        },
        "outputId": "fde5c411-0c35-4bef-b190-c67f604fbac6"
      },
      "outputs": [
        {
          "output_type": "stream",
          "name": "stdout",
          "text": [
            "111/111 [==============================] - 0s 2ms/step\n"
          ]
        }
      ],
      "source": [
        "y_pred = cnn_model.predict(X_test)"
      ],
      "id": "01ca7251-8d33-41f0-8749-3282a5e6b26a"
    }
  ],
  "metadata": {
    "accelerator": "GPU",
    "colab": {
      "provenance": [],
      "machine_shape": "hm"
    },
    "kernelspec": {
      "display_name": "Python 3",
      "language": "python",
      "name": "python3"
    },
    "language_info": {
      "codemirror_mode": {
        "name": "ipython",
        "version": 3
      },
      "file_extension": ".py",
      "mimetype": "text/x-python",
      "name": "python",
      "nbconvert_exporter": "python",
      "pygments_lexer": "ipython3",
      "version": "3.8.5"
    },
    "gpuClass": "premium"
  },
  "nbformat": 4,
  "nbformat_minor": 5
}