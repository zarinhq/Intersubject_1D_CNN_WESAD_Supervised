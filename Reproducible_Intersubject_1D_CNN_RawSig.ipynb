{
 "cells": [
  {
   "cell_type": "markdown",
   "id": "e74ad82b-d17e-4d3c-b0c8-e49615b7244c",
   "metadata": {},
   "source": [
    "## Install Dependencies"
   ]
  },
  {
   "cell_type": "code",
   "execution_count": 1,
   "id": "f7c805d6-949a-4b9a-9fa6-26237ad48af7",
   "metadata": {},
   "outputs": [],
   "source": [
    "seed_value = 123\n",
    "import os\n",
    "os.environ['PYTHONHASHSEED']=str(seed_value)"
   ]
  },
  {
   "cell_type": "code",
   "execution_count": 2,
   "id": "ee38b71f-99df-449e-a7a1-3ada8aabeaa6",
   "metadata": {},
   "outputs": [
    {
     "name": "stdout",
     "output_type": "stream",
     "text": [
      "Requirement already satisfied: wfdb in /Users/anan/miniforge3/envs/ml/lib/python3.8/site-packages (3.4.1)\n",
      "Requirement already satisfied: wget in /Users/anan/miniforge3/envs/ml/lib/python3.8/site-packages (3.2)\n",
      "Requirement already satisfied: tqdm in /Users/anan/miniforge3/envs/ml/lib/python3.8/site-packages (4.61.2)\n",
      "Requirement already satisfied: biosppy in /Users/anan/miniforge3/envs/ml/lib/python3.8/site-packages (0.8.0)\n",
      "Requirement already satisfied: imbalanced-learn in /Users/anan/miniforge3/envs/ml/lib/python3.8/site-packages (0.8.1)\n",
      "Requirement already satisfied: seaborn in /Users/anan/miniforge3/envs/ml/lib/python3.8/site-packages (0.11.2)\n",
      "Requirement already satisfied: numpy>=1.10.1 in /Users/anan/miniforge3/envs/ml/lib/python3.8/site-packages (from wfdb) (1.21.0)\n",
      "Requirement already satisfied: requests>=2.8.1 in /Users/anan/miniforge3/envs/ml/lib/python3.8/site-packages (from wfdb) (2.25.1)\n",
      "Requirement already satisfied: matplotlib>=3.3.4 in /Users/anan/miniforge3/envs/ml/lib/python3.8/site-packages (from wfdb) (3.4.2)\n",
      "Requirement already satisfied: scipy>=0.17.0 in /Users/anan/miniforge3/envs/ml/lib/python3.8/site-packages (from wfdb) (1.7.0)\n",
      "Requirement already satisfied: pandas>=0.17.0 in /Users/anan/miniforge3/envs/ml/lib/python3.8/site-packages (from wfdb) (1.3.0)\n",
      "Requirement already satisfied: python-dateutil>=2.7 in /Users/anan/miniforge3/envs/ml/lib/python3.8/site-packages (from matplotlib>=3.3.4->wfdb) (2.8.1)\n",
      "Requirement already satisfied: pillow>=6.2.0 in /Users/anan/miniforge3/envs/ml/lib/python3.8/site-packages (from matplotlib>=3.3.4->wfdb) (9.0.1)\n",
      "Requirement already satisfied: pyparsing>=2.2.1 in /Users/anan/miniforge3/envs/ml/lib/python3.8/site-packages (from matplotlib>=3.3.4->wfdb) (2.4.7)\n",
      "Requirement already satisfied: kiwisolver>=1.0.1 in /Users/anan/miniforge3/envs/ml/lib/python3.8/site-packages (from matplotlib>=3.3.4->wfdb) (1.3.1)\n",
      "Requirement already satisfied: cycler>=0.10 in /Users/anan/miniforge3/envs/ml/lib/python3.8/site-packages (from matplotlib>=3.3.4->wfdb) (0.10.0)\n",
      "Requirement already satisfied: six in /Users/anan/miniforge3/envs/ml/lib/python3.8/site-packages (from cycler>=0.10->matplotlib>=3.3.4->wfdb) (1.16.0)\n",
      "Requirement already satisfied: pytz>=2017.3 in /Users/anan/miniforge3/envs/ml/lib/python3.8/site-packages (from pandas>=0.17.0->wfdb) (2021.1)\n",
      "Requirement already satisfied: certifi>=2017.4.17 in /Users/anan/miniforge3/envs/ml/lib/python3.8/site-packages (from requests>=2.8.1->wfdb) (2021.5.30)\n",
      "Requirement already satisfied: idna<3,>=2.5 in /Users/anan/miniforge3/envs/ml/lib/python3.8/site-packages (from requests>=2.8.1->wfdb) (2.10)\n",
      "Requirement already satisfied: urllib3<1.27,>=1.21.1 in /Users/anan/miniforge3/envs/ml/lib/python3.8/site-packages (from requests>=2.8.1->wfdb) (1.26.6)\n",
      "Requirement already satisfied: chardet<5,>=3.0.2 in /Users/anan/miniforge3/envs/ml/lib/python3.8/site-packages (from requests>=2.8.1->wfdb) (4.0.0)\n",
      "Requirement already satisfied: h5py in /Users/anan/miniforge3/envs/ml/lib/python3.8/site-packages (from biosppy) (2.10.0)\n",
      "Requirement already satisfied: opencv-python in /Users/anan/miniforge3/envs/ml/lib/python3.8/site-packages (from biosppy) (4.5.4.60)\n",
      "Requirement already satisfied: shortuuid in /Users/anan/miniforge3/envs/ml/lib/python3.8/site-packages (from biosppy) (1.0.8)\n",
      "Requirement already satisfied: joblib in /Users/anan/miniforge3/envs/ml/lib/python3.8/site-packages (from biosppy) (1.0.1)\n",
      "Requirement already satisfied: scikit-learn in /Users/anan/miniforge3/envs/ml/lib/python3.8/site-packages (from biosppy) (0.24.2)\n",
      "Requirement already satisfied: bidict in /Users/anan/miniforge3/envs/ml/lib/python3.8/site-packages (from biosppy) (0.21.4)\n",
      "Requirement already satisfied: threadpoolctl>=2.0.0 in /Users/anan/miniforge3/envs/ml/lib/python3.8/site-packages (from scikit-learn->biosppy) (2.1.0)\n",
      "Note: you may need to restart the kernel to use updated packages.\n"
     ]
    }
   ],
   "source": [
    "pip install wfdb wget tqdm biosppy imbalanced-learn seaborn"
   ]
  },
  {
   "cell_type": "code",
   "execution_count": 3,
   "id": "29a53754-6d8e-42d2-9057-8d8353fc800d",
   "metadata": {},
   "outputs": [
    {
     "name": "stdout",
     "output_type": "stream",
     "text": [
      "Found existing installation: matplotlib 3.1.3\n",
      "Uninstalling matplotlib-3.1.3:\n",
      "  Successfully uninstalled matplotlib-3.1.3\n",
      "Collecting matplotlib==3.1.3\n",
      "  Using cached matplotlib-3.1.3-cp39-cp39-macosx_11_0_arm64.whl\n",
      "Requirement already satisfied: pyparsing!=2.0.4,!=2.1.2,!=2.1.6,>=2.0.1 in /Users/anan/miniforge3/lib/python3.9/site-packages (from matplotlib==3.1.3) (2.4.7)\n",
      "Requirement already satisfied: cycler>=0.10 in /Users/anan/miniforge3/lib/python3.9/site-packages (from matplotlib==3.1.3) (0.10.0)\n",
      "Requirement already satisfied: python-dateutil>=2.1 in /Users/anan/miniforge3/lib/python3.9/site-packages (from matplotlib==3.1.3) (2.8.2)\n",
      "Requirement already satisfied: kiwisolver>=1.0.1 in /Users/anan/miniforge3/lib/python3.9/site-packages (from matplotlib==3.1.3) (1.3.1)\n",
      "Requirement already satisfied: numpy>=1.11 in /Users/anan/miniforge3/lib/python3.9/site-packages (from matplotlib==3.1.3) (1.21.1)\n",
      "Requirement already satisfied: six in /Users/anan/miniforge3/lib/python3.9/site-packages (from cycler>=0.10->matplotlib==3.1.3) (1.15.0)\n",
      "Installing collected packages: matplotlib\n",
      "Successfully installed matplotlib-3.1.3\n"
     ]
    }
   ],
   "source": [
    "!pip uninstall matplotlib --yes\n",
    "!pip install matplotlib==3.1.3 "
   ]
  },
  {
   "cell_type": "markdown",
   "id": "3923b2df-8796-4d83-90b8-41d4bd24ece8",
   "metadata": {},
   "source": [
    "## Importing Libraries"
   ]
  },
  {
   "cell_type": "code",
   "execution_count": 4,
   "id": "663e00a7-e169-42ff-9aa2-2b167732ca44",
   "metadata": {},
   "outputs": [],
   "source": [
    "# seed_value = 123\n",
    "# import os\n",
    "# os.environ['PYTHONHASHSEED']=str(seed_value)"
   ]
  },
  {
   "cell_type": "code",
   "execution_count": 5,
   "id": "0ded4a0e-5f1e-4c5f-ad11-36efe3a26bb1",
   "metadata": {},
   "outputs": [],
   "source": [
    "import tensorflow as tf\n",
    "import matplotlib.pyplot as plt\n",
    "import pandas as pd\n",
    "import numpy as np\n",
    "from glob import glob\n",
    "import wget\n",
    "import math\n",
    "import zipfile\n",
    "import wfdb as wf\n",
    "import pickle\n",
    "import sys\n",
    "import datetime\n",
    "import cv2\n",
    "import random\n",
    "from scipy import signal\n",
    "from scipy.signal import resample\n",
    "from scipy.signal import find_peaks\n",
    "from pathlib import Path\n",
    "from sklearn.model_selection import train_test_split\n",
    "from collections import Counter\n",
    "from sklearn.preprocessing import LabelEncoder\n",
    "from imblearn.over_sampling import SMOTE"
   ]
  },
  {
   "cell_type": "code",
   "execution_count": 6,
   "id": "300196d1-85bb-488a-89ca-33665d0de0da",
   "metadata": {},
   "outputs": [],
   "source": [
    "def reset_random_seeds():\n",
    "   os.environ['PYTHONHASHSEED']=str(seed_value)\n",
    "   tf.random.set_seed(seed_value)\n",
    "   np.random.seed(seed_value)\n",
    "   random.seed(seed_value)"
   ]
  },
  {
   "cell_type": "code",
   "execution_count": 7,
   "id": "c3267ff5-356b-4431-b600-f6defaebd560",
   "metadata": {},
   "outputs": [
    {
     "name": "stdout",
     "output_type": "stream",
     "text": [
      "3\n",
      "0.052363598850944326\n",
      "tf.Tensor([0.12615311], shape=(1,), dtype=float32)\n"
     ]
    }
   ],
   "source": [
    "np.random.seed(seed_value)\n",
    "vec = np.random.randint(1, 10)\n",
    "print(vec)\n",
    "random.seed(123)\n",
    "print(random.random())\n",
    "tf.random.set_seed(123)\n",
    "print(tf.random.uniform([1])) "
   ]
  },
  {
   "cell_type": "markdown",
   "id": "4573a985-dea7-42b1-a9ae-e4cf05c67af6",
   "metadata": {},
   "source": [
    "## Extracting Data"
   ]
  },
  {
   "cell_type": "code",
   "execution_count": 8,
   "id": "82865c42-75a1-43d6-bae9-e869b08b3760",
   "metadata": {},
   "outputs": [],
   "source": [
    "module = os.path.abspath('./WESAD/')\n",
    "if module not in sys.path:\n",
    "    sys.path.append(module)\n",
    "from DataManager import DataManager"
   ]
  },
  {
   "cell_type": "markdown",
   "id": "abb469d4-fab2-4e04-b515-7a5367dd32cf",
   "metadata": {},
   "source": [
    "## Data Preprocessing"
   ]
  },
  {
   "cell_type": "code",
   "execution_count": 9,
   "id": "3ef2b6e1-0c0e-4eef-aa94-baf6afa96c27",
   "metadata": {},
   "outputs": [],
   "source": [
    "# config\n",
    "debug = False;"
   ]
  },
  {
   "cell_type": "code",
   "execution_count": 10,
   "id": "2fb7855a-1ab9-481c-8f20-fbcd16f77517",
   "metadata": {},
   "outputs": [],
   "source": [
    "# subject_ids = [2, 3, 4, 5, 6, 7, 8, 9, 10, 11, 13, 14, 15, 16, 17]"
   ]
  },
  {
   "cell_type": "code",
   "execution_count": 11,
   "id": "4be27943-25ac-4469-b7a1-0115c4304dc7",
   "metadata": {},
   "outputs": [],
   "source": [
    "test_subject = [2]\n",
    "rest_subjects = [3, 4, 5, 6, 7, 8, 9, 10, 11, 13, 14, 15, 16, 17]"
   ]
  },
  {
   "cell_type": "code",
   "execution_count": 12,
   "id": "a2226bdb-09da-44d7-90f3-514a7f307ce0",
   "metadata": {},
   "outputs": [],
   "source": [
    "def generateData(subject_ids):\n",
    "    data = DataManager()\n",
    "    all_subject_data = np.array([]);\n",
    "    all_subject_labels = np.array([]);\n",
    "\n",
    "#     subject_ids = [2, 3]\n",
    "\n",
    "    for subject_id in subject_ids:\n",
    "        if(debug): print(\"Processing subject id: \", subject_id);\n",
    "        subject = data.load(subject_id)\n",
    "\n",
    "\n",
    "        if(debug):\n",
    "            print('baseline: ', subject[0], '\\nstress: ', subject[1], '\\namusement: ', subject[2], '\\nbase_label: ', subject[3], '\\nstress_label: ', subject[4], '\\namuse_label: ', subject[5])\n",
    "\n",
    "        ecg_base = subject[0]\n",
    "        ecg_stress = subject[1]\n",
    "        ecg_amusement = subject[2]\n",
    "\n",
    "        base_label = subject[3]\n",
    "        stress_label = subject[4]\n",
    "        amuse_label = subject[5]\n",
    "\n",
    "        ecg_base_T = ecg_base.T\n",
    "        ecg_stress_T = ecg_stress.T\n",
    "        ecg_amusement_T = ecg_amusement.T\n",
    "\n",
    "        ecg_base_data = ecg_base_T[0]\n",
    "        ecg_stress_data = ecg_stress_T[0]\n",
    "        ecg_amusement_data = ecg_amusement_T[0]\n",
    "\n",
    "        ecg_base_label =  base_label.T\n",
    "        ecg_stress_label  = stress_label.T\n",
    "        ecg_amusement_label  = amuse_label.T\n",
    "\n",
    "        if(debug):\n",
    "            print('ecg_base_data:', ecg_base_data)\n",
    "            print('ecg_stress_data:', ecg_stress_data)\n",
    "            print('ecg_amusement_data:', ecg_amusement_data)\n",
    "\n",
    "            print('ecg_base_label:', ecg_base_label)\n",
    "            print('ecg_stress_label:', ecg_stress_label)\n",
    "            print('ecg_amusement_label:', ecg_amusement_label)\n",
    "\n",
    "\n",
    "        base_secs = len(ecg_base_data) // 700 # Number of seconds in signal X\n",
    "        base_samps = int(base_secs * 256 )    # Number of samples to downsample\n",
    "        base_down = signal.resample(ecg_base_data, base_samps)\n",
    "\n",
    "\n",
    "        stress_secs = len(ecg_stress_data) // 700 # Number of seconds in signal X\n",
    "        stress_samps = int(stress_secs * 256 )    # Number of samples to downsample\n",
    "        stress_down = signal.resample(ecg_stress_data, stress_samps)\n",
    "\n",
    "\n",
    "        amuse_secs = len(ecg_amusement_data) // 700 # Number of seconds in signal X\n",
    "        amuse_samps = int(amuse_secs * 256 )    # Number of samples to downsample\n",
    "        amuse_down = signal.resample(ecg_amusement_data, amuse_samps)\n",
    "\n",
    "    #     heart_beat_base = np.array_split(base_down, 256)\n",
    "    #     heart_beat_stress = np.array_split(stress_down, 256)\n",
    "    #     heart_beat_amuse = np.array_split(amuse_down, 256)\n",
    "\n",
    "        window_size = 256\n",
    "        window_shift = 256\n",
    "\n",
    "        heart_beat_base = []\n",
    "        for i in range(0,len(base_down) - window_size,window_shift):\n",
    "            heart_beat_base.append(base_down[i:window_size + i])\n",
    "        heart_beat_base.pop()\n",
    "    #     heart_beat_base = np.array(list(heart_beat_base[:]), dtype=float)\n",
    "\n",
    "        heart_beat_stress = []\n",
    "        for i in range(0,len(stress_down) - window_size,window_shift):\n",
    "            heart_beat_stress.append(stress_down[i:window_size + i])\n",
    "        heart_beat_stress.pop()\n",
    "    #     heart_beat_stress = np.array(list(heart_beat_stress[:]), dtype=float)\n",
    "\n",
    "        heart_beat_amuse = []\n",
    "        for i in range(0,len(amuse_down) - window_size,window_shift):\n",
    "            heart_beat_amuse.append(amuse_down[i:window_size + i])\n",
    "        heart_beat_amuse.pop()\n",
    "    #     heart_beat_amuse = np.array(list(heart_beat_amuse[:]), dtype=float)\n",
    "\n",
    "\n",
    "        for idx, idxval in enumerate(heart_beat_base):\n",
    "            heart_beat_base[idx] = (heart_beat_base[idx] - heart_beat_base[idx].min()) / heart_beat_base[idx].ptp() # Normalize the readings to a 0-1 range \n",
    "            heart_beat_base[idx] = np.append(heart_beat_base[idx], 0.0) #Baseline = 0\n",
    "\n",
    "        for idx, idxval in enumerate(heart_beat_stress):\n",
    "            heart_beat_stress[idx] = (heart_beat_stress[idx] - heart_beat_stress[idx].min()) / heart_beat_stress[idx].ptp() # Normalize the readings to a 0-1 range \n",
    "            heart_beat_stress[idx] = np.append(heart_beat_stress[idx], 1.0) #Stress = 1    \n",
    "\n",
    "        for idx, idxval in enumerate(heart_beat_amuse):\n",
    "            heart_beat_amuse[idx] = (heart_beat_amuse[idx] - heart_beat_amuse[idx].min()) / heart_beat_amuse[idx].ptp() # Normalize the readings to a 0-1 range \n",
    "            heart_beat_amuse[idx] = np.append(heart_beat_amuse[idx], 2.0) #Amusement = 2\n",
    "\n",
    "    #     print(\"heart_beat_base:\", len(heart_beat_base[0]), len(heart_beat_base[-2]), len(heart_beat_base[-1]))\n",
    "    #     print(\"heart_beat_stress:\", len(heart_beat_stress[0]), len(heart_beat_stress[-1]))\n",
    "    #     print(\"heart_beat_amuse:\", len(heart_beat_amuse[0]), len(heart_beat_amuse[-1]))\n",
    "\n",
    "        heart_beat_all = np.concatenate((heart_beat_base, heart_beat_stress, heart_beat_amuse), axis=0)\n",
    "        subject_data = np.array(list(heart_beat_all[:]), dtype=float)\n",
    "\n",
    "\n",
    "        if(all_subject_data.size == 0):\n",
    "            all_subject_data = subject_data\n",
    "        else:\n",
    "            if(subject_data.size != 0):\n",
    "                all_subject_data = np.concatenate((all_subject_data, subject_data), axis=0)\n",
    "\n",
    "        print(\"New data shape\", subject_data.shape, \"Total Shape: \", all_subject_data.shape)\n",
    "        \n",
    "    #SMOTE to balance the data\n",
    "    df_final_data_X = pd.DataFrame(data=all_subject_data[:, :-1])\n",
    "    df_final_data_Y = pd.DataFrame(data=all_subject_data[:,-1])\n",
    "\n",
    "    smote = SMOTE(sampling_strategy='not majority')\n",
    "    X_sm, y_sm = smote.fit_resample(df_final_data_X, df_final_data_Y)\n",
    "    \n",
    "    return X_sm, y_sm"
   ]
  },
  {
   "cell_type": "markdown",
   "id": "81767331-df9c-4e5d-af31-0255549f45d8",
   "metadata": {},
   "source": [
    "## Data Generation - Train"
   ]
  },
  {
   "cell_type": "code",
   "execution_count": 13,
   "id": "529152b1-dcb1-470e-a29a-2b999a25df5c",
   "metadata": {},
   "outputs": [
    {
     "name": "stdout",
     "output_type": "stream",
     "text": [
      "Loading data for S3\n",
      "New data shape (2149, 257) Total Shape:  (2149, 257)\n",
      "Loading data for S4\n",
      "New data shape (2159, 257) Total Shape:  (4308, 257)\n",
      "Loading data for S5\n",
      "New data shape (2211, 257) Total Shape:  (6519, 257)\n",
      "Loading data for S6\n",
      "New data shape (2196, 257) Total Shape:  (8715, 257)\n",
      "Loading data for S7\n",
      "New data shape (2192, 257) Total Shape:  (10907, 257)\n",
      "Loading data for S8\n",
      "New data shape (2202, 257) Total Shape:  (13109, 257)\n",
      "Loading data for S9\n",
      "New data shape (2191, 257) Total Shape:  (15300, 257)\n",
      "Loading data for S10\n",
      "New data shape (2271, 257) Total Shape:  (17571, 257)\n",
      "Loading data for S11\n",
      "New data shape (2222, 257) Total Shape:  (19793, 257)\n",
      "Loading data for S13\n",
      "New data shape (2220, 257) Total Shape:  (22013, 257)\n",
      "Loading data for S14\n",
      "New data shape (2221, 257) Total Shape:  (24234, 257)\n",
      "Loading data for S15\n",
      "New data shape (2227, 257) Total Shape:  (26461, 257)\n",
      "Loading data for S16\n",
      "New data shape (2215, 257) Total Shape:  (28676, 257)\n",
      "Loading data for S17\n",
      "New data shape (2270, 257) Total Shape:  (30946, 257)\n"
     ]
    }
   ],
   "source": [
    "train_data, train_labels = generateData(rest_subjects)"
   ]
  },
  {
   "cell_type": "code",
   "execution_count": 14,
   "id": "fa0513b9-8a04-475f-be8c-61d4ade3ed0e",
   "metadata": {},
   "outputs": [
    {
     "data": {
      "text/plain": [
       "0.0    16439\n",
       "1.0    16439\n",
       "2.0    16439\n",
       "dtype: int64"
      ]
     },
     "execution_count": 14,
     "metadata": {},
     "output_type": "execute_result"
    }
   ],
   "source": [
    "train_labels.value_counts()"
   ]
  },
  {
   "cell_type": "code",
   "execution_count": 15,
   "id": "86df3f6b-4936-4107-99da-a506da62b1eb",
   "metadata": {},
   "outputs": [
    {
     "name": "stdout",
     "output_type": "stream",
     "text": [
      "Train data shape: (49317, 256)\n",
      "Train labels shape: (49317, 1)\n",
      "Dimension: 2\n"
     ]
    }
   ],
   "source": [
    "print(\"Train data shape:\", train_data.shape)\n",
    "print(\"Train labels shape:\", train_labels.shape)\n",
    "print(\"Dimension:\", train_labels.ndim)"
   ]
  },
  {
   "cell_type": "code",
   "execution_count": 16,
   "id": "59e30008-6693-4b6c-a44d-5a04b83ad292",
   "metadata": {},
   "outputs": [],
   "source": [
    "train_labels = pd.DataFrame(train_labels).to_numpy()\n",
    "train_labels = train_labels.reshape(-1)"
   ]
  },
  {
   "cell_type": "code",
   "execution_count": 17,
   "id": "fdf96b4b-924a-4f41-ad0d-2e2fdefdedf1",
   "metadata": {},
   "outputs": [
    {
     "name": "stdout",
     "output_type": "stream",
     "text": [
      "Train labels shape: (49317,)\n",
      "Dimension: 1\n"
     ]
    }
   ],
   "source": [
    "print(\"Train labels shape:\", train_labels.shape)\n",
    "print(\"Dimension:\", train_labels.ndim)"
   ]
  },
  {
   "cell_type": "markdown",
   "id": "863915df-542b-4d93-95f8-6609fb589f4c",
   "metadata": {},
   "source": [
    "## Train and Validation data split"
   ]
  },
  {
   "cell_type": "code",
   "execution_count": 18,
   "id": "798b07cf-d3e6-4416-af00-b723a83522c4",
   "metadata": {},
   "outputs": [],
   "source": [
    "X_train, X_val, y_train, y_val = train_test_split(train_data, train_labels, test_size=0.3, random_state=123)"
   ]
  },
  {
   "cell_type": "code",
   "execution_count": 19,
   "id": "5ac968b8-1cac-4103-a88f-95ee565bb582",
   "metadata": {},
   "outputs": [],
   "source": [
    "#Reshape train and validation data to (n_samples, 256, 1), where each sample is of size (256, 1)\n",
    "X_train = np.array(X_train).reshape(X_train.shape[0], X_train.shape[1], 1)\n",
    "X_val = np.array(X_val).reshape(X_val.shape[0], X_val.shape[1], 1)"
   ]
  },
  {
   "cell_type": "code",
   "execution_count": 20,
   "id": "3b2d93bb-7fb4-430e-aca5-2949bedbe7af",
   "metadata": {},
   "outputs": [
    {
     "name": "stdout",
     "output_type": "stream",
     "text": [
      "size of X_train: (34521, 256, 1)\n",
      "size of X_val: (14796, 256, 1)\n",
      "size of y_train: (34521,)\n",
      "size of y_val: (14796,)\n",
      "Train: Counter({0.0: 11578, 2.0: 11487, 1.0: 11456}) \n",
      "Val: Counter({1.0: 4983, 2.0: 4952, 0.0: 4861})\n"
     ]
    }
   ],
   "source": [
    "print('size of X_train:', X_train.shape)\n",
    "print('size of X_val:', X_val.shape)\n",
    "\n",
    "print('size of y_train:', y_train.shape)\n",
    "print('size of y_val:', y_val.shape)\n",
    "\n",
    "print('Train:', Counter(y_train), '\\nVal:', Counter(y_val))"
   ]
  },
  {
   "cell_type": "markdown",
   "id": "b4566f5d-83ec-4399-b5fa-92457b615e1f",
   "metadata": {},
   "source": [
    "## Data Generation - Test"
   ]
  },
  {
   "cell_type": "code",
   "execution_count": 21,
   "id": "23403b5e-6180-4e83-9145-b641867b2bb8",
   "metadata": {},
   "outputs": [
    {
     "name": "stdout",
     "output_type": "stream",
     "text": [
      "Loading data for S2\n",
      "New data shape (2115, 257) Total Shape:  (2115, 257)\n"
     ]
    }
   ],
   "source": [
    "test_data, test_labels = generateData(test_subject)"
   ]
  },
  {
   "cell_type": "code",
   "execution_count": 22,
   "id": "59ecd43a-63a6-45ec-b75a-c508dabb8be7",
   "metadata": {},
   "outputs": [
    {
     "data": {
      "text/plain": [
       "0.0    1142\n",
       "1.0    1142\n",
       "2.0    1142\n",
       "dtype: int64"
      ]
     },
     "execution_count": 22,
     "metadata": {},
     "output_type": "execute_result"
    }
   ],
   "source": [
    "test_labels.value_counts()"
   ]
  },
  {
   "cell_type": "code",
   "execution_count": 23,
   "id": "ac23aa66-e797-44c2-b1bd-eb969fa937b4",
   "metadata": {},
   "outputs": [
    {
     "name": "stdout",
     "output_type": "stream",
     "text": [
      "Test data shape: (3426, 256)\n",
      "Test labels shape: (3426, 1)\n",
      "Dimension: 2\n"
     ]
    }
   ],
   "source": [
    "print(\"Test data shape:\", test_data.shape)\n",
    "print(\"Test labels shape:\", test_labels.shape)\n",
    "print(\"Dimension:\", test_labels.ndim)"
   ]
  },
  {
   "cell_type": "code",
   "execution_count": 24,
   "id": "332f4371-64b3-453f-a23a-223c2d9145aa",
   "metadata": {},
   "outputs": [],
   "source": [
    "test_labels = pd.DataFrame(test_labels).to_numpy()\n",
    "y_test = test_labels.reshape(-1)"
   ]
  },
  {
   "cell_type": "code",
   "execution_count": 25,
   "id": "f92be0e0-686b-4b95-9339-b7bdbbffaded",
   "metadata": {},
   "outputs": [
    {
     "name": "stdout",
     "output_type": "stream",
     "text": [
      "Test labels shape: (3426,)\n",
      "Dimension: 1\n"
     ]
    }
   ],
   "source": [
    "print(\"Test labels shape:\", y_test.shape)\n",
    "print(\"Dimension:\", y_test.ndim)"
   ]
  },
  {
   "cell_type": "code",
   "execution_count": 26,
   "id": "11ab44e1-d816-4aa1-9b19-6ff5313b4b8d",
   "metadata": {},
   "outputs": [],
   "source": [
    "#Reshape test data to (n_samples, 256, 1), where each sample is of size (256, 1)\n",
    "X_test = np.array(test_data).reshape(test_data.shape[0], test_data.shape[1], 1)"
   ]
  },
  {
   "cell_type": "code",
   "execution_count": 27,
   "id": "0be7d16a-c34f-4494-86f8-0ebc011a69cf",
   "metadata": {},
   "outputs": [
    {
     "name": "stdout",
     "output_type": "stream",
     "text": [
      "size of X_test: (3426, 256, 1)\n",
      "size of y_test: (3426,)\n",
      "Test: Counter({0.0: 1142, 1.0: 1142, 2.0: 1142})\n"
     ]
    }
   ],
   "source": [
    "print('size of X_test:', X_test.shape)\n",
    "print('size of y_test:', y_test.shape)\n",
    "\n",
    "print('Test:', Counter(y_test))"
   ]
  },
  {
   "cell_type": "markdown",
   "id": "1de32f88-9fe3-4be2-a39c-d7b8d788e79d",
   "metadata": {},
   "source": [
    "## 1D CNN Model Architecture"
   ]
  },
  {
   "cell_type": "code",
   "execution_count": 28,
   "id": "1693ec1e-c09d-4747-9b7b-fa21a05e619f",
   "metadata": {},
   "outputs": [],
   "source": [
    "from tensorflow.keras.models import Sequential\n",
    "from tensorflow.keras.layers import Dense, Flatten, Conv1D, BatchNormalization, MaxPool1D, Input\n",
    "from tensorflow.keras.optimizers import SGD, Adam\n",
    "from tensorflow.keras.callbacks import LearningRateScheduler"
   ]
  },
  {
   "cell_type": "code",
   "execution_count": 29,
   "id": "d16a533f-b41e-4019-92f9-480cfc88cc53",
   "metadata": {},
   "outputs": [
    {
     "name": "stdout",
     "output_type": "stream",
     "text": [
      "Model: \"sequential\"\n",
      "_________________________________________________________________\n",
      "Layer (type)                 Output Shape              Param #   \n",
      "=================================================================\n",
      "conv1d (Conv1D)              (None, 256, 5)            30        \n",
      "_________________________________________________________________\n",
      "max_pooling1d (MaxPooling1D) (None, 128, 5)            0         \n",
      "_________________________________________________________________\n",
      "conv1d_1 (Conv1D)            (None, 128, 10)           260       \n",
      "_________________________________________________________________\n",
      "max_pooling1d_1 (MaxPooling1 (None, 64, 10)            0         \n",
      "_________________________________________________________________\n",
      "conv1d_2 (Conv1D)            (None, 64, 10)            410       \n",
      "_________________________________________________________________\n",
      "max_pooling1d_2 (MaxPooling1 (None, 32, 10)            0         \n",
      "_________________________________________________________________\n",
      "flatten (Flatten)            (None, 320)               0         \n",
      "_________________________________________________________________\n",
      "dense (Dense)                (None, 128)               41088     \n",
      "_________________________________________________________________\n",
      "dense_1 (Dense)              (None, 3)                 387       \n",
      "=================================================================\n",
      "Total params: 42,175\n",
      "Trainable params: 42,175\n",
      "Non-trainable params: 0\n",
      "_________________________________________________________________\n"
     ]
    }
   ],
   "source": [
    "reset_random_seeds()\n",
    "initializer = tf.keras.initializers.HeUniform()\n",
    "cnn_model = tf.keras.models.Sequential()\n",
    "cnn_model.add(Input(shape = (X_train.shape[1],1)))\n",
    "cnn_model.add(Conv1D(filters=5, kernel_size=(5,), padding='same',  activation='relu', kernel_initializer=initializer))\n",
    "cnn_model.add(MaxPool1D(pool_size=(2,), strides=2))\n",
    "cnn_model.add(Conv1D(filters=10, kernel_size=(5,), padding='same', activation='relu', kernel_regularizer =tf.keras.regularizers.l2(l=0.004)))\n",
    "cnn_model.add(MaxPool1D(pool_size=(2,), strides=2))\n",
    "cnn_model.add(Conv1D(filters=10, kernel_size=(4,), padding='same', activation='relu', kernel_regularizer =tf.keras.regularizers.l2(l=0.004)))\n",
    "cnn_model.add(MaxPool1D(pool_size=(2,), strides=2))\n",
    "cnn_model.add(Flatten())\n",
    "cnn_model.add(Dense(units = 128, kernel_regularizer =tf.keras.regularizers.l2(l=0.004)))\n",
    "cnn_model.add(Dense(units = 3, activation='softmax'))\n",
    "cnn_model.summary()"
   ]
  },
  {
   "cell_type": "code",
   "execution_count": 30,
   "id": "bffdec5d-c7c9-41eb-a28c-e27ecb9c5515",
   "metadata": {},
   "outputs": [],
   "source": [
    "epochs=50\n",
    "batch_size = 32"
   ]
  },
  {
   "cell_type": "code",
   "execution_count": 31,
   "id": "d616fd75-5ae0-4c14-9bd7-c457eed6263a",
   "metadata": {},
   "outputs": [],
   "source": [
    "def step_decay(epoch):\n",
    "   initial_lrate = 0.005\n",
    "   drop = 0.6\n",
    "   epochs_drop = 10.0\n",
    "   lrate = initial_lrate * math.pow(drop, math.floor((1+epoch)/epochs_drop))\n",
    "   return lrate\n",
    "\n",
    "lrate = LearningRateScheduler(step_decay)\n",
    "callbacks_list = [lrate]"
   ]
  },
  {
   "cell_type": "code",
   "execution_count": 32,
   "id": "e3d29144-ee33-4a95-8e99-c9ab06958ef2",
   "metadata": {},
   "outputs": [],
   "source": [
    "# class LossHistory(tf.keras.callbacks.Callback):\n",
    "#     def on_train_begin(self, logs={}):\n",
    "#        self.losses = []\n",
    "#        self.lr = []\n",
    " \n",
    "#     def on_epoch_end(self, batch, logs={}):\n",
    "#        self.losses.append(logs.get('loss'))\n",
    "#        self.lr.append(step_decay(len(self.losses)))"
   ]
  },
  {
   "cell_type": "code",
   "execution_count": 33,
   "id": "19889444-2b30-44fd-a194-bc44fd75f5b0",
   "metadata": {},
   "outputs": [],
   "source": [
    "# loss_history = LossHistory()\n",
    "# lrate = LearningRateScheduler(step_decay)\n",
    "# callbacks_list = [loss_history, lrate]"
   ]
  },
  {
   "cell_type": "code",
   "execution_count": 34,
   "id": "ef461125-eb85-4fc6-8720-4ef125a70e3c",
   "metadata": {},
   "outputs": [],
   "source": [
    "opt = tf.keras.optimizers.SGD( learning_rate=0.0, momentum=0.6, nesterov=False)\n",
    "\n",
    "cnn_model.compile(optimizer= opt, loss = 'sparse_categorical_crossentropy', metrics=['accuracy'])"
   ]
  },
  {
   "cell_type": "code",
   "execution_count": 35,
   "id": "cc7e3d66-4489-47b9-9182-3960aa39f977",
   "metadata": {},
   "outputs": [
    {
     "name": "stdout",
     "output_type": "stream",
     "text": [
      "Epoch 1/50\n",
      "WARNING:tensorflow:AutoGraph could not transform <function Model.make_train_function.<locals>.train_function at 0x17b365b80> and will run it as-is.\n",
      "Please report this to the TensorFlow team. When filing the bug, set the verbosity to 10 (on Linux, `export AUTOGRAPH_VERBOSITY=10`) and attach the full output.\n",
      "Cause: unsupported operand type(s) for -: 'NoneType' and 'int'\n",
      "To silence this warning, decorate the function with @tf.autograph.experimental.do_not_convert\n",
      "WARNING: AutoGraph could not transform <function Model.make_train_function.<locals>.train_function at 0x17b365b80> and will run it as-is.\n",
      "Please report this to the TensorFlow team. When filing the bug, set the verbosity to 10 (on Linux, `export AUTOGRAPH_VERBOSITY=10`) and attach the full output.\n",
      "Cause: unsupported operand type(s) for -: 'NoneType' and 'int'\n",
      "To silence this warning, decorate the function with @tf.autograph.experimental.do_not_convert\n",
      "WARNING:tensorflow:AutoGraph could not transform <function Model.make_test_function.<locals>.test_function at 0x17d4a5310> and will run it as-is.\n",
      "Please report this to the TensorFlow team. When filing the bug, set the verbosity to 10 (on Linux, `export AUTOGRAPH_VERBOSITY=10`) and attach the full output.\n",
      "Cause: unsupported operand type(s) for -: 'NoneType' and 'int'\n",
      "To silence this warning, decorate the function with @tf.autograph.experimental.do_not_convert\n",
      "WARNING: AutoGraph could not transform <function Model.make_test_function.<locals>.test_function at 0x17d4a5310> and will run it as-is.\n",
      "Please report this to the TensorFlow team. When filing the bug, set the verbosity to 10 (on Linux, `export AUTOGRAPH_VERBOSITY=10`) and attach the full output.\n",
      "Cause: unsupported operand type(s) for -: 'NoneType' and 'int'\n",
      "To silence this warning, decorate the function with @tf.autograph.experimental.do_not_convert\n",
      "1079/1079 - 2s - loss: 1.8931 - accuracy: 0.3674 - val_loss: 1.8768 - val_accuracy: 0.4115\n",
      "Epoch 2/50\n",
      "1079/1079 - 2s - loss: 1.8518 - accuracy: 0.4402 - val_loss: 1.8171 - val_accuracy: 0.4611\n",
      "Epoch 3/50\n",
      "1079/1079 - 2s - loss: 1.8029 - accuracy: 0.4712 - val_loss: 1.8566 - val_accuracy: 0.4255\n",
      "Epoch 4/50\n",
      "1079/1079 - 2s - loss: 1.7729 - accuracy: 0.4832 - val_loss: 1.7541 - val_accuracy: 0.4833\n",
      "Epoch 5/50\n",
      "1079/1079 - 2s - loss: 1.7562 - accuracy: 0.4923 - val_loss: 1.7397 - val_accuracy: 0.5145\n",
      "Epoch 6/50\n",
      "1079/1079 - 2s - loss: 1.7441 - accuracy: 0.5024 - val_loss: 1.7292 - val_accuracy: 0.5086\n",
      "Epoch 7/50\n",
      "1079/1079 - 2s - loss: 1.7359 - accuracy: 0.5118 - val_loss: 1.7313 - val_accuracy: 0.5015\n",
      "Epoch 8/50\n",
      "1079/1079 - 2s - loss: 1.7316 - accuracy: 0.5206 - val_loss: 1.7194 - val_accuracy: 0.5272\n",
      "Epoch 9/50\n",
      "1079/1079 - 2s - loss: 1.7237 - accuracy: 0.5302 - val_loss: 1.7223 - val_accuracy: 0.5398\n",
      "Epoch 10/50\n",
      "1079/1079 - 2s - loss: 1.7102 - accuracy: 0.5448 - val_loss: 1.7505 - val_accuracy: 0.5270\n",
      "Epoch 11/50\n",
      "1079/1079 - 2s - loss: 1.7054 - accuracy: 0.5510 - val_loss: 1.6968 - val_accuracy: 0.5561\n",
      "Epoch 12/50\n",
      "1079/1079 - 2s - loss: 1.7010 - accuracy: 0.5593 - val_loss: 1.6932 - val_accuracy: 0.5586\n",
      "Epoch 13/50\n",
      "1079/1079 - 2s - loss: 1.6978 - accuracy: 0.5633 - val_loss: 1.6939 - val_accuracy: 0.5531\n",
      "Epoch 14/50\n",
      "1079/1079 - 2s - loss: 1.6922 - accuracy: 0.5759 - val_loss: 1.6832 - val_accuracy: 0.5746\n",
      "Epoch 15/50\n",
      "1079/1079 - 2s - loss: 1.6889 - accuracy: 0.5836 - val_loss: 1.6807 - val_accuracy: 0.5854\n",
      "Epoch 16/50\n",
      "1079/1079 - 2s - loss: 1.6856 - accuracy: 0.5870 - val_loss: 1.6814 - val_accuracy: 0.5910\n",
      "Epoch 17/50\n",
      "1079/1079 - 2s - loss: 1.6804 - accuracy: 0.5959 - val_loss: 1.7208 - val_accuracy: 0.5662\n",
      "Epoch 18/50\n",
      "1079/1079 - 2s - loss: 1.6788 - accuracy: 0.6012 - val_loss: 1.6936 - val_accuracy: 0.5969\n",
      "Epoch 19/50\n",
      "1079/1079 - 2s - loss: 1.6759 - accuracy: 0.6097 - val_loss: 1.7041 - val_accuracy: 0.5967\n",
      "Epoch 20/50\n",
      "1079/1079 - 2s - loss: 1.6616 - accuracy: 0.6214 - val_loss: 1.6645 - val_accuracy: 0.6215\n",
      "Epoch 21/50\n",
      "1079/1079 - 2s - loss: 1.6584 - accuracy: 0.6283 - val_loss: 1.6694 - val_accuracy: 0.6330\n",
      "Epoch 22/50\n",
      "1079/1079 - 2s - loss: 1.6573 - accuracy: 0.6309 - val_loss: 1.6910 - val_accuracy: 0.6107\n",
      "Epoch 23/50\n",
      "1079/1079 - 2s - loss: 1.6553 - accuracy: 0.6355 - val_loss: 1.6576 - val_accuracy: 0.6399\n",
      "Epoch 24/50\n",
      "1079/1079 - 2s - loss: 1.6556 - accuracy: 0.6384 - val_loss: 1.6493 - val_accuracy: 0.6503\n",
      "Epoch 25/50\n",
      "1079/1079 - 2s - loss: 1.6524 - accuracy: 0.6429 - val_loss: 1.6713 - val_accuracy: 0.6462\n",
      "Epoch 26/50\n",
      "1079/1079 - 2s - loss: 1.6517 - accuracy: 0.6506 - val_loss: 1.6626 - val_accuracy: 0.6380\n",
      "Epoch 27/50\n",
      "1079/1079 - 2s - loss: 1.6496 - accuracy: 0.6528 - val_loss: 1.6660 - val_accuracy: 0.6450\n",
      "Epoch 28/50\n",
      "1079/1079 - 2s - loss: 1.6494 - accuracy: 0.6528 - val_loss: 1.6626 - val_accuracy: 0.6407\n",
      "Epoch 29/50\n",
      "1079/1079 - 2s - loss: 1.6483 - accuracy: 0.6554 - val_loss: 1.6536 - val_accuracy: 0.6522\n",
      "Epoch 30/50\n",
      "1079/1079 - 2s - loss: 1.6376 - accuracy: 0.6664 - val_loss: 1.6583 - val_accuracy: 0.6569\n",
      "Epoch 31/50\n",
      "1079/1079 - 2s - loss: 1.6380 - accuracy: 0.6681 - val_loss: 1.6442 - val_accuracy: 0.6635\n",
      "Epoch 32/50\n",
      "1079/1079 - 2s - loss: 1.6362 - accuracy: 0.6684 - val_loss: 1.6550 - val_accuracy: 0.6619\n",
      "Epoch 33/50\n",
      "1079/1079 - 2s - loss: 1.6363 - accuracy: 0.6708 - val_loss: 1.6399 - val_accuracy: 0.6700\n",
      "Epoch 34/50\n",
      "1079/1079 - 2s - loss: 1.6362 - accuracy: 0.6723 - val_loss: 1.6567 - val_accuracy: 0.6580\n",
      "Epoch 35/50\n",
      "1079/1079 - 2s - loss: 1.6364 - accuracy: 0.6746 - val_loss: 1.6411 - val_accuracy: 0.6739\n",
      "Epoch 36/50\n",
      "1079/1079 - 2s - loss: 1.6340 - accuracy: 0.6756 - val_loss: 1.6412 - val_accuracy: 0.6783\n",
      "Epoch 37/50\n",
      "1079/1079 - 2s - loss: 1.6337 - accuracy: 0.6759 - val_loss: 1.6431 - val_accuracy: 0.6667\n",
      "Epoch 38/50\n",
      "1079/1079 - 2s - loss: 1.6354 - accuracy: 0.6772 - val_loss: 1.6440 - val_accuracy: 0.6772\n",
      "Epoch 39/50\n",
      "1079/1079 - 2s - loss: 1.6333 - accuracy: 0.6793 - val_loss: 1.6437 - val_accuracy: 0.6710\n",
      "Epoch 40/50\n",
      "1079/1079 - 2s - loss: 1.6255 - accuracy: 0.6844 - val_loss: 1.6355 - val_accuracy: 0.6845\n",
      "Epoch 41/50\n",
      "1079/1079 - 2s - loss: 1.6244 - accuracy: 0.6868 - val_loss: 1.6463 - val_accuracy: 0.6811\n",
      "Epoch 42/50\n",
      "1079/1079 - 2s - loss: 1.6255 - accuracy: 0.6864 - val_loss: 1.6353 - val_accuracy: 0.6821\n",
      "Epoch 43/50\n",
      "1079/1079 - 2s - loss: 1.6252 - accuracy: 0.6873 - val_loss: 1.6409 - val_accuracy: 0.6814\n",
      "Epoch 44/50\n",
      "1079/1079 - 2s - loss: 1.6246 - accuracy: 0.6851 - val_loss: 1.6507 - val_accuracy: 0.6655\n",
      "Epoch 45/50\n",
      "1079/1079 - 2s - loss: 1.6241 - accuracy: 0.6907 - val_loss: 1.6671 - val_accuracy: 0.6688\n",
      "Epoch 46/50\n",
      "1079/1079 - 2s - loss: 1.6251 - accuracy: 0.6895 - val_loss: 1.6561 - val_accuracy: 0.6625\n",
      "Epoch 47/50\n",
      "1079/1079 - 2s - loss: 1.6234 - accuracy: 0.6890 - val_loss: 1.6315 - val_accuracy: 0.6899\n",
      "Epoch 48/50\n",
      "1079/1079 - 2s - loss: 1.6237 - accuracy: 0.6893 - val_loss: 1.6372 - val_accuracy: 0.6889\n",
      "Epoch 49/50\n",
      "1079/1079 - 2s - loss: 1.6235 - accuracy: 0.6900 - val_loss: 1.6357 - val_accuracy: 0.6893\n",
      "Epoch 50/50\n",
      "1079/1079 - 2s - loss: 1.6177 - accuracy: 0.6958 - val_loss: 1.6436 - val_accuracy: 0.6838\n"
     ]
    }
   ],
   "source": [
    "history = cnn_model.fit(X_train, y_train, epochs = epochs, batch_size = batch_size, validation_data = (X_val, y_val), callbacks=callbacks_list, verbose=2)"
   ]
  },
  {
   "cell_type": "code",
   "execution_count": 36,
   "id": "ac2b6849-a799-486c-88d1-c68a40868794",
   "metadata": {},
   "outputs": [
    {
     "data": {
      "image/png": "[encoded data removed]",
      "text/plain": [
       "<Figure size 864x288 with 2 Axes>"
      ]
     },
     "metadata": {
      "needs_background": "light"
     },
     "output_type": "display_data"
    }
   ],
   "source": [
    "f, (ax1, ax2) = plt.subplots(1, 2, figsize=(12, 4))\n",
    "t = f.suptitle('1D CNN Performance', fontsize=12)\n",
    "f.subplots_adjust(top=0.85, wspace=0.3)\n",
    "\n",
    "max_epoch = len(history.history['accuracy'])+1\n",
    "epoch_list = list(range(1,max_epoch))\n",
    "ax1.plot(epoch_list, history.history['accuracy'], label='Train Accuracy')\n",
    "ax1.plot(epoch_list, history.history['val_accuracy'], label='Validation Accuracy')\n",
    "ax1.set_xticks(np.arange(1, max_epoch, 5))\n",
    "ax1.set_ylabel('Accuracy Value')\n",
    "ax1.set_xlabel('Epoch')\n",
    "ax1.set_title('Accuracy')\n",
    "l1 = ax1.legend(loc=\"best\")\n",
    "\n",
    "ax2.plot(epoch_list, history.history['loss'], label='Train Loss')\n",
    "ax2.plot(epoch_list, history.history['val_loss'], label='Validation Loss')\n",
    "ax2.set_xticks(np.arange(1, max_epoch, 5))\n",
    "ax2.set_ylabel('Loss Value')\n",
    "ax2.set_xlabel('Epoch')\n",
    "ax2.set_title('Loss')\n",
    "l2 = ax2.legend(loc=\"best\")"
   ]
  },
  {
   "cell_type": "code",
   "execution_count": 37,
   "id": "a5f53b7b-2dc0-44ae-b49b-28d4ca52abda",
   "metadata": {},
   "outputs": [
    {
     "name": "stdout",
     "output_type": "stream",
     "text": [
      "108/108 [==============================] - 0s 572us/step - loss: 3.0231 - accuracy: 0.4276\n"
     ]
    },
    {
     "data": {
      "text/plain": [
       "[3.023097515106201, 0.4276123642921448]"
      ]
     },
     "execution_count": 37,
     "metadata": {},
     "output_type": "execute_result"
    }
   ],
   "source": [
    "cnn_model.evaluate(X_test, y_test)"
   ]
  },
  {
   "cell_type": "code",
   "execution_count": null,
   "id": "52091510-cff2-4a3c-bb94-51387d1dee81",
   "metadata": {},
   "outputs": [],
   "source": []
  }
 ],
 "metadata": {
  "kernelspec": {
   "display_name": "Python 3",
   "language": "python",
   "name": "python3"
  },
  "language_info": {
   "codemirror_mode": {
    "name": "ipython",
    "version": 3
   },
   "file_extension": ".py",
   "mimetype": "text/x-python",
   "name": "python",
   "nbconvert_exporter": "python",
   "pygments_lexer": "ipython3",
   "version": "3.8.5"
  }
 },
 "nbformat": 4,
 "nbformat_minor": 5
}
